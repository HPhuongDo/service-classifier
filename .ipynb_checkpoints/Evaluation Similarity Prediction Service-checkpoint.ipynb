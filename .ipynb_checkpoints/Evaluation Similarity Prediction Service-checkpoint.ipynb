{
 "cells": [
  {
   "cell_type": "markdown",
   "id": "9da5bb7d",
   "metadata": {},
   "source": [
    "# Evaluation Similarity Prediction Measures"
   ]
  },
  {
   "cell_type": "code",
   "execution_count": 65,
   "id": "8a1383ea",
   "metadata": {},
   "outputs": [],
   "source": [
    "from sklearn.feature_extraction.text import TfidfVectorizer\n",
    "from sklearn.metrics.pairwise import cosine_similarity\n",
    "\n",
    "import numpy as np\n",
    "import scipy.spatial\n",
    "import re\n",
    "\n",
    "import os.path\n",
    "import glob\n",
    "import nltk\n",
    "from nltk.stem import PorterStemmer\n",
    "from nltk.stem import WordNetLemmatizer\n",
    "from gensim import corpora\n",
    "from gensim.models import LsiModel\n",
    "from gensim.models.coherencemodel import CoherenceModel\n",
    "import matplotlib.pyplot as plt\n",
    "\n",
    "from sklearn.metrics import classification_report, accuracy_score\n",
    "import pandas as pd\n",
    "from sklearn.pipeline import Pipeline\n",
    "from sklearn.feature_extraction.text import CountVectorizer\n",
    "from sklearn.feature_extraction.text import TfidfTransformer\n",
    "from sklearn.model_selection import train_test_split\n",
    "\n",
    "from sklearn.tree import export_graphviz\n",
    "import graphviz\n",
    "import matplotlib.pyplot as plt\n",
    "from sklearn.metrics import plot_confusion_matrix\n",
    "\n",
    "import warnings\n",
    "warnings.filterwarnings('ignore')"
   ]
  },
  {
   "cell_type": "markdown",
   "id": "114a6127",
   "metadata": {},
   "source": [
    "## Data preparation\n",
    "1. Remove ASNI color codes\n",
    "2. Remove non-letter characters (including numbers and punctuation)\n",
    "3. Remove one-letter words\n",
    "4. Convert all to lower case\n",
    "5. Stem to the base form (optional)"
   ]
  },
  {
   "cell_type": "code",
   "execution_count": 66,
   "id": "c289e58f",
   "metadata": {},
   "outputs": [],
   "source": [
    "def data_preparation(log):\n",
    "    num_lines = log.count('\\n')+1\n",
    "    log = re.sub('\\\\x1b\\\\[[0-9;]*m',' ', log) # ANSI color codes\n",
    "    log = re.sub('[^a-zA-Z ]',' ', log) # non-letter characters\n",
    "    log = re.sub('\\\\b[\\\\w]{1}\\\\b',' ', log) # one-letter words\n",
    "    log = log.lower() # convert to lower case\n",
    "    log = ' '.join(log.split()) # create a string of words split by 1 space\n",
    "    log = log.split(' ')\n",
    "    return log, num_lines"
   ]
  },
  {
   "cell_type": "code",
   "execution_count": 67,
   "id": "605b8c4a",
   "metadata": {},
   "outputs": [],
   "source": [
    "df = pd.DataFrame()  ## list of log files with type\n",
    "allfiles = glob.glob('./logs/*')\n",
    "for logfile in allfiles:\n",
    "    f = open(logfile, 'r')\n",
    "    filename = os.path.basename(logfile)\n",
    "    content, num_lines = data_preparation(f.read())\n",
    "    words = len(content)\n",
    "    filesize = os.path.getsize(logfile)\n",
    "    data = [filename, content, words, num_lines, filesize, filename.split('_')[0]]\n",
    "    log = pd.DataFrame([data], columns=['filename', 'data', '#words', '#lines', 'size (bytes)', 'type'])\n",
    "    df = df.append(log, ignore_index=True)"
   ]
  },
  {
   "cell_type": "code",
   "execution_count": 68,
   "id": "69a9f419",
   "metadata": {},
   "outputs": [
    {
     "data": {
      "text/plain": [
       "{'backend', 'db', 'deployment', 'frontend'}"
      ]
     },
     "execution_count": 68,
     "metadata": {},
     "output_type": "execute_result"
    }
   ],
   "source": [
    "set(df['type'])"
   ]
  },
  {
   "cell_type": "code",
   "execution_count": 69,
   "id": "d8843dae",
   "metadata": {},
   "outputs": [
    {
     "data": {
      "text/html": [
       "<div>\n",
       "<style scoped>\n",
       "    .dataframe tbody tr th:only-of-type {\n",
       "        vertical-align: middle;\n",
       "    }\n",
       "\n",
       "    .dataframe tbody tr th {\n",
       "        vertical-align: top;\n",
       "    }\n",
       "\n",
       "    .dataframe thead th {\n",
       "        text-align: right;\n",
       "    }\n",
       "</style>\n",
       "<table border=\"1\" class=\"dataframe\">\n",
       "  <thead>\n",
       "    <tr style=\"text-align: right;\">\n",
       "      <th></th>\n",
       "      <th>filename</th>\n",
       "      <th>data</th>\n",
       "      <th>#words</th>\n",
       "      <th>#lines</th>\n",
       "      <th>size (bytes)</th>\n",
       "      <th>type</th>\n",
       "    </tr>\n",
       "  </thead>\n",
       "  <tbody>\n",
       "    <tr>\n",
       "      <th>0</th>\n",
       "      <td>db_mysql.log</td>\n",
       "      <td>[mysql, note, entrypoint, entrypoint, script, ...</td>\n",
       "      <td>884</td>\n",
       "      <td>76</td>\n",
       "      <td>10336</td>\n",
       "      <td>db</td>\n",
       "    </tr>\n",
       "    <tr>\n",
       "      <th>1</th>\n",
       "      <td>deployment_elasticsearch.txt</td>\n",
       "      <td>[sudo, kolla, set, configs, info, main, loadin...</td>\n",
       "      <td>161</td>\n",
       "      <td>25</td>\n",
       "      <td>2060</td>\n",
       "      <td>deployment</td>\n",
       "    </tr>\n",
       "    <tr>\n",
       "      <th>2</th>\n",
       "      <td>deployment_mariadb.txt</td>\n",
       "      <td>[sudo, kolla, set, configs, info, main, loadin...</td>\n",
       "      <td>1413</td>\n",
       "      <td>136</td>\n",
       "      <td>13294</td>\n",
       "      <td>deployment</td>\n",
       "    </tr>\n",
       "    <tr>\n",
       "      <th>3</th>\n",
       "      <td>db_user-db.log</td>\n",
       "      <td>[control, initandlisten, mongodb, starting, pi...</td>\n",
       "      <td>230</td>\n",
       "      <td>25</td>\n",
       "      <td>2788</td>\n",
       "      <td>db</td>\n",
       "    </tr>\n",
       "    <tr>\n",
       "      <th>4</th>\n",
       "      <td>deployment_prometheus.txt</td>\n",
       "      <td>[sudo, kolla, set, configs, info, main, loadin...</td>\n",
       "      <td>475</td>\n",
       "      <td>41</td>\n",
       "      <td>5325</td>\n",
       "      <td>deployment</td>\n",
       "    </tr>\n",
       "    <tr>\n",
       "      <th>5</th>\n",
       "      <td>db_orders-db.log</td>\n",
       "      <td>[control, initandlisten, mongodb, starting, pi...</td>\n",
       "      <td>235</td>\n",
       "      <td>27</td>\n",
       "      <td>3034</td>\n",
       "      <td>db</td>\n",
       "    </tr>\n",
       "    <tr>\n",
       "      <th>6</th>\n",
       "      <td>db_carts-db.log</td>\n",
       "      <td>[control, initandlisten, mongodb, starting, pi...</td>\n",
       "      <td>238</td>\n",
       "      <td>27</td>\n",
       "      <td>3034</td>\n",
       "      <td>db</td>\n",
       "    </tr>\n",
       "    <tr>\n",
       "      <th>7</th>\n",
       "      <td>frontend_kibana.log</td>\n",
       "      <td>[type, log, timestamp, tags, info, plugins, se...</td>\n",
       "      <td>392</td>\n",
       "      <td>16</td>\n",
       "      <td>4660</td>\n",
       "      <td>frontend</td>\n",
       "    </tr>\n",
       "    <tr>\n",
       "      <th>8</th>\n",
       "      <td>frontend_horizon.log</td>\n",
       "      <td>[wed, jun, wsgi, error, pid, tid, usr, lib, py...</td>\n",
       "      <td>437</td>\n",
       "      <td>20</td>\n",
       "      <td>4197</td>\n",
       "      <td>frontend</td>\n",
       "    </tr>\n",
       "    <tr>\n",
       "      <th>9</th>\n",
       "      <td>backend_queue-master.log</td>\n",
       "      <td>[spring, boot, release, info, main, queuemaste...</td>\n",
       "      <td>1466</td>\n",
       "      <td>45</td>\n",
       "      <td>16675</td>\n",
       "      <td>backend</td>\n",
       "    </tr>\n",
       "    <tr>\n",
       "      <th>10</th>\n",
       "      <td>backend_springboot.log</td>\n",
       "      <td>[application, version, snapshot, spring, boot,...</td>\n",
       "      <td>663</td>\n",
       "      <td>51</td>\n",
       "      <td>8884</td>\n",
       "      <td>backend</td>\n",
       "    </tr>\n",
       "    <tr>\n",
       "      <th>11</th>\n",
       "      <td>deployment_libvirt.txt</td>\n",
       "      <td>[sudo, kolla, set, configs, info, main, loadin...</td>\n",
       "      <td>179</td>\n",
       "      <td>31</td>\n",
       "      <td>2276</td>\n",
       "      <td>deployment</td>\n",
       "    </tr>\n",
       "    <tr>\n",
       "      <th>12</th>\n",
       "      <td>frontend_kibana-simple.log</td>\n",
       "      <td>[type, log, timestamp, tags, info, plugins, se...</td>\n",
       "      <td>577</td>\n",
       "      <td>22</td>\n",
       "      <td>5832</td>\n",
       "      <td>frontend</td>\n",
       "    </tr>\n",
       "    <tr>\n",
       "      <th>13</th>\n",
       "      <td>backend_carts.log</td>\n",
       "      <td>[info, bootstrap, main, annotationconfigapplic...</td>\n",
       "      <td>418</td>\n",
       "      <td>24</td>\n",
       "      <td>5342</td>\n",
       "      <td>backend</td>\n",
       "    </tr>\n",
       "    <tr>\n",
       "      <th>14</th>\n",
       "      <td>db_mariadb.log</td>\n",
       "      <td>[warning, failed, to, load, slave, replication...</td>\n",
       "      <td>2237</td>\n",
       "      <td>261</td>\n",
       "      <td>21927</td>\n",
       "      <td>db</td>\n",
       "    </tr>\n",
       "    <tr>\n",
       "      <th>15</th>\n",
       "      <td>db_elasticsearch.log</td>\n",
       "      <td>[info, node, version, pid, build, oss, deb, cc...</td>\n",
       "      <td>602</td>\n",
       "      <td>49</td>\n",
       "      <td>8172</td>\n",
       "      <td>db</td>\n",
       "    </tr>\n",
       "    <tr>\n",
       "      <th>16</th>\n",
       "      <td>deployment_kibana.txt</td>\n",
       "      <td>[sudo, kolla, set, configs, info, main, loadin...</td>\n",
       "      <td>144</td>\n",
       "      <td>22</td>\n",
       "      <td>1714</td>\n",
       "      <td>deployment</td>\n",
       "    </tr>\n",
       "    <tr>\n",
       "      <th>17</th>\n",
       "      <td>deployment_fluentd.txt</td>\n",
       "      <td>[sudo, kolla, set, configs, info, main, loadin...</td>\n",
       "      <td>188</td>\n",
       "      <td>32</td>\n",
       "      <td>2401</td>\n",
       "      <td>deployment</td>\n",
       "    </tr>\n",
       "    <tr>\n",
       "      <th>18</th>\n",
       "      <td>deployment_rabbitmq.txt</td>\n",
       "      <td>[sudo, kolla, set, configs, info, main, loadin...</td>\n",
       "      <td>215</td>\n",
       "      <td>32</td>\n",
       "      <td>2560</td>\n",
       "      <td>deployment</td>\n",
       "    </tr>\n",
       "    <tr>\n",
       "      <th>19</th>\n",
       "      <td>backend_orders.log</td>\n",
       "      <td>[info, bootstrap, main, annotationconfigapplic...</td>\n",
       "      <td>415</td>\n",
       "      <td>24</td>\n",
       "      <td>5355</td>\n",
       "      <td>backend</td>\n",
       "    </tr>\n",
       "    <tr>\n",
       "      <th>20</th>\n",
       "      <td>db_mongo.log</td>\n",
       "      <td>[mongo, date, control, id, ctx, main, msg, aut...</td>\n",
       "      <td>1229</td>\n",
       "      <td>64</td>\n",
       "      <td>17045</td>\n",
       "      <td>db</td>\n",
       "    </tr>\n",
       "    <tr>\n",
       "      <th>21</th>\n",
       "      <td>backend_shipping.log</td>\n",
       "      <td>[info, bootstrap, main, annotationconfigapplic...</td>\n",
       "      <td>1099</td>\n",
       "      <td>43</td>\n",
       "      <td>12742</td>\n",
       "      <td>backend</td>\n",
       "    </tr>\n",
       "  </tbody>\n",
       "</table>\n",
       "</div>"
      ],
      "text/plain": [
       "                        filename  \\\n",
       "0                   db_mysql.log   \n",
       "1   deployment_elasticsearch.txt   \n",
       "2         deployment_mariadb.txt   \n",
       "3                 db_user-db.log   \n",
       "4      deployment_prometheus.txt   \n",
       "5               db_orders-db.log   \n",
       "6                db_carts-db.log   \n",
       "7            frontend_kibana.log   \n",
       "8           frontend_horizon.log   \n",
       "9       backend_queue-master.log   \n",
       "10        backend_springboot.log   \n",
       "11        deployment_libvirt.txt   \n",
       "12    frontend_kibana-simple.log   \n",
       "13             backend_carts.log   \n",
       "14                db_mariadb.log   \n",
       "15          db_elasticsearch.log   \n",
       "16         deployment_kibana.txt   \n",
       "17        deployment_fluentd.txt   \n",
       "18       deployment_rabbitmq.txt   \n",
       "19            backend_orders.log   \n",
       "20                  db_mongo.log   \n",
       "21          backend_shipping.log   \n",
       "\n",
       "                                                 data  #words  #lines  \\\n",
       "0   [mysql, note, entrypoint, entrypoint, script, ...     884      76   \n",
       "1   [sudo, kolla, set, configs, info, main, loadin...     161      25   \n",
       "2   [sudo, kolla, set, configs, info, main, loadin...    1413     136   \n",
       "3   [control, initandlisten, mongodb, starting, pi...     230      25   \n",
       "4   [sudo, kolla, set, configs, info, main, loadin...     475      41   \n",
       "5   [control, initandlisten, mongodb, starting, pi...     235      27   \n",
       "6   [control, initandlisten, mongodb, starting, pi...     238      27   \n",
       "7   [type, log, timestamp, tags, info, plugins, se...     392      16   \n",
       "8   [wed, jun, wsgi, error, pid, tid, usr, lib, py...     437      20   \n",
       "9   [spring, boot, release, info, main, queuemaste...    1466      45   \n",
       "10  [application, version, snapshot, spring, boot,...     663      51   \n",
       "11  [sudo, kolla, set, configs, info, main, loadin...     179      31   \n",
       "12  [type, log, timestamp, tags, info, plugins, se...     577      22   \n",
       "13  [info, bootstrap, main, annotationconfigapplic...     418      24   \n",
       "14  [warning, failed, to, load, slave, replication...    2237     261   \n",
       "15  [info, node, version, pid, build, oss, deb, cc...     602      49   \n",
       "16  [sudo, kolla, set, configs, info, main, loadin...     144      22   \n",
       "17  [sudo, kolla, set, configs, info, main, loadin...     188      32   \n",
       "18  [sudo, kolla, set, configs, info, main, loadin...     215      32   \n",
       "19  [info, bootstrap, main, annotationconfigapplic...     415      24   \n",
       "20  [mongo, date, control, id, ctx, main, msg, aut...    1229      64   \n",
       "21  [info, bootstrap, main, annotationconfigapplic...    1099      43   \n",
       "\n",
       "    size (bytes)        type  \n",
       "0          10336          db  \n",
       "1           2060  deployment  \n",
       "2          13294  deployment  \n",
       "3           2788          db  \n",
       "4           5325  deployment  \n",
       "5           3034          db  \n",
       "6           3034          db  \n",
       "7           4660    frontend  \n",
       "8           4197    frontend  \n",
       "9          16675     backend  \n",
       "10          8884     backend  \n",
       "11          2276  deployment  \n",
       "12          5832    frontend  \n",
       "13          5342     backend  \n",
       "14         21927          db  \n",
       "15          8172          db  \n",
       "16          1714  deployment  \n",
       "17          2401  deployment  \n",
       "18          2560  deployment  \n",
       "19          5355     backend  \n",
       "20         17045          db  \n",
       "21         12742     backend  "
      ]
     },
     "execution_count": 69,
     "metadata": {},
     "output_type": "execute_result"
    }
   ],
   "source": [
    "df"
   ]
  },
  {
   "cell_type": "code",
   "execution_count": 70,
   "id": "8d6275cf",
   "metadata": {},
   "outputs": [],
   "source": [
    "def names_logs(df):\n",
    "     return df['filename'].tolist(), df['data'].tolist()"
   ]
  },
  {
   "cell_type": "markdown",
   "id": "7f88e0c4",
   "metadata": {},
   "source": [
    "# Similarity Measures"
   ]
  },
  {
   "cell_type": "markdown",
   "id": "930b1d1d",
   "metadata": {},
   "source": [
    "Further preprocessing step: Stemmed nouns and verbs to base form"
   ]
  },
  {
   "cell_type": "code",
   "execution_count": 71,
   "id": "8cc60007",
   "metadata": {},
   "outputs": [],
   "source": [
    "def lemma_set(df):\n",
    "    ps = PorterStemmer()\n",
    "    lemmatizer = WordNetLemmatizer()\n",
    "    tagged_logs = [nltk.pos_tag(log) for log in df['data'].to_list()]\n",
    "    stemmed_logs = []\n",
    "    for tagged_log in tagged_logs:\n",
    "        stemmed_log = list(filter(lambda x: x[1].startswith('N') or x[1].startswith('V'), tagged_log))\n",
    "        #print([(pair[0], pair[1][0].lower()) for pair in stemmed_log])\n",
    "        stemmed_logs.append([lemmatizer.lemmatize(pair[0], pos=pair[1][0].lower()) for pair in stemmed_log])\n",
    "    set_logs = [set(log) for log in stemmed_logs]\n",
    "    #ordered_set_logs = [list(dict.fromkeys(log)) for log in stemmed_logs]\n",
    "    return df['filename'].to_list(), set_logs"
   ]
  },
  {
   "cell_type": "markdown",
   "id": "2ff3a622",
   "metadata": {},
   "source": [
    "## LSI-based Jaccard Similarity\n",
    "Input: A set of stemmed nouns and verbs"
   ]
  },
  {
   "cell_type": "markdown",
   "id": "c468558b",
   "metadata": {},
   "source": [
    "### Latent Semantic Indexing"
   ]
  },
  {
   "cell_type": "code",
   "execution_count": 72,
   "id": "f98f396f",
   "metadata": {},
   "outputs": [],
   "source": [
    "def prepare_corpus(files):\n",
    "    # Creating the term dictionary of our corpus, where every unique term is assigned an index\n",
    "    dictionary = corpora.Dictionary(files)\n",
    "    #dictionary.add_documents(files) # Update dictionary with new file\n",
    "    # Converting list of documents (corpus) into Document Term Matrix using dictionary prepared above\n",
    "    doc_term_matrix = [dictionary.doc2bow(doc) for doc in files]\n",
    "    # generate LDA model\n",
    "    return dictionary,doc_term_matrix\n",
    "\n",
    "def lsi(filenames, files, num_topics, num_keywords):\n",
    "    dictionary,doc_term_matrix = prepare_corpus(files)\n",
    "    # generate LSI model\n",
    "    lsimodel = LsiModel(doc_term_matrix, num_topics=num_topics, id2word=dictionary)  # train model\n",
    "    #model.add_documents(files)  # update model with new documents\n",
    "    topics = lsimodel.show_topics(num_topics=num_topics, num_words=num_keywords, formatted=False)\n",
    "    topics = topics\n",
    "    print(\"-----------TOPIC - KEYWORDS--------------\")\n",
    "    print(topics)    \n",
    "    \n",
    "    V = lsimodel[doc_term_matrix]\n",
    "    print(\"\\n-----------TOPIC - DOCUMENT--------------\")\n",
    "    topic_log = list(zip(V, filenames))\n",
    "    print(topic_log)\n",
    "    #topic_doc = []\n",
    "    #for doc, as_text in zip(V, filenames):\n",
    "        #topic_doc.append((doc, as_text))\n",
    "        #print(doc, as_text)\n",
    "    return topics, topic_log\n",
    "\n",
    "    # The sign is not important, although it keeps flipping from run to run"
   ]
  },
  {
   "cell_type": "markdown",
   "id": "3310ddff",
   "metadata": {},
   "source": [
    "### LSI-based Jaccard Similarity"
   ]
  },
  {
   "cell_type": "code",
   "execution_count": 73,
   "id": "0b806a40",
   "metadata": {},
   "outputs": [],
   "source": [
    "def lsi_jaccard_similarity(new_log, old_log, keywords):\n",
    "    common_words = new_log.intersection(old_log)\n",
    "    total_words = new_log.union(old_log)\n",
    "    common = len(common_words)\n",
    "    total = len(total_words)\n",
    "    for word in common_words:\n",
    "        for keyword in keywords:\n",
    "            if word == keyword[0]:\n",
    "                common += 1 + abs(keyword[1])\n",
    "                total += 1 + abs(keyword[1])\n",
    "    return common/total\n",
    "\n",
    "def lsi_jaccard_ranker(requested_df, old_dfs):\n",
    "    num_topics = 1  # number of topics\n",
    "    num_keywords = 20   # number of generated keywords\n",
    "    name, requested_log = lemma_set(requested_df)\n",
    "    names, old_logs = lemma_set(old_dfs)\n",
    "    topics, V = lsi(names, old_logs, num_topics, num_keywords)\n",
    "    keywords = topics[0][1]\n",
    "    ranking = []\n",
    "    for old_log in old_logs:\n",
    "        value = lsi_jaccard_similarity(requested_log[0], old_log, keywords)\n",
    "        ranking.append((names[old_logs.index(old_log)], value))\n",
    "    ranking.sort(key=lambda pair: pair[1], reverse=True)\n",
    "    return ranking, keywords"
   ]
  },
  {
   "cell_type": "markdown",
   "id": "159eee44",
   "metadata": {},
   "source": [
    "## TF-IDF Cosine Similarity"
   ]
  },
  {
   "cell_type": "code",
   "execution_count": 74,
   "id": "f07f58e8",
   "metadata": {},
   "outputs": [],
   "source": [
    "def tfidf_similarity(file1, file2):\n",
    "    vectorizer = TfidfVectorizer(tokenizer=lambda x:x, preprocessor=lambda x:x)\n",
    "    # Generate matrix of word vectors\n",
    "    tfidf_matrix = vectorizer.fit_transform([file1, file2])\n",
    "    cosine_sim = cosine_similarity(tfidf_matrix, tfidf_matrix)\n",
    "    return cosine_sim[0][1]\n",
    "\n",
    "def tfidf_ranker(requested_df, old_dfs):\n",
    "    name, requested_log = names_logs(requested_df)\n",
    "    names, old_logs = names_logs(old_dfs)\n",
    "    ranking = []\n",
    "    for old_log in old_logs:\n",
    "        value = tfidf_similarity(requested_log[0], old_log)\n",
    "        ranking.append((names[old_logs.index(old_log)], value))\n",
    "    ranking.sort(key=lambda pair: pair[1], reverse=True)\n",
    "    return ranking"
   ]
  },
  {
   "cell_type": "markdown",
   "id": "40c933b5",
   "metadata": {},
   "source": [
    "## GloVe Cosine Similarity"
   ]
  },
  {
   "cell_type": "code",
   "execution_count": 75,
   "id": "3d536a13",
   "metadata": {},
   "outputs": [],
   "source": [
    "def loadGloveModel(gloveFile):\n",
    "    print (\"Loading Glove Model\")\n",
    "    with open(gloveFile, encoding=\"utf8\" ) as f:\n",
    "        content = f.readlines()\n",
    "    model = {}\n",
    "    for line in content:\n",
    "        splitLine = line.split()\n",
    "        word = splitLine[0]\n",
    "        embedding = np.array([float(val) for val in splitLine[1:]])\n",
    "        model[word] = embedding\n",
    "    print (\"Done.\",len(model),\" words loaded!\")\n",
    "    return model\n",
    "\n",
    "def glove_similarity(model, file1, file2):\n",
    "    vector_1 = np.mean([model.get(word, np.zeros(50)) for word in file1],axis=0)\n",
    "    vector_2 = np.mean([model.get(word, np.zeros(50)) for word in file2],axis=0)\n",
    "    cosine = scipy.spatial.distance.cosine(vector_1, vector_2)\n",
    "    return abs(1-cosine)\n",
    "\n",
    "def glove_ranker(requested_df, old_dfs):\n",
    "    name, requested_log = names_logs(requested_df)\n",
    "    names, old_logs = names_logs(old_dfs)\n",
    "    # Write corpus for GloVe training\n",
    "    flattened_logs = [y for x in requested_log+old_logs for y in x]\n",
    "    corpus = ' '.join(flattened_logs)\n",
    "    with open('GloVe/corpus.txt', 'w') as f:\n",
    "        f.write(corpus)\n",
    "    os.system('cd GloVe/ ; ./glove.sh corpus.txt')\n",
    "    gloveFile = \"GloVe/vectors.txt\"\n",
    "    model = loadGloveModel(gloveFile)\n",
    "    \n",
    "    ranking = []\n",
    "    for old_log in old_logs:\n",
    "        value = glove_similarity(model, requested_log[0], old_log)\n",
    "        ranking.append((names[old_logs.index(old_log)], value))\n",
    "    ranking.sort(key=lambda pair: pair[1], reverse=True)\n",
    "    \n",
    "    os.remove('GloVe/vectors.bin')\n",
    "    os.remove('GloVe/vectors.txt')\n",
    "    return ranking"
   ]
  },
  {
   "cell_type": "markdown",
   "id": "0163e9cf",
   "metadata": {},
   "source": [
    "# Classifiers"
   ]
  },
  {
   "cell_type": "markdown",
   "id": "86c1d475",
   "metadata": {},
   "source": [
    "## LSI-based Classifier"
   ]
  },
  {
   "cell_type": "code",
   "execution_count": 76,
   "id": "86fe30f1",
   "metadata": {},
   "outputs": [],
   "source": [
    "def lsi_classifier(df, num_topics):\n",
    "    names, logs = names_logs(df)\n",
    "    num_keywords=20\n",
    "    topics, topics_logs = lsi(names, logs, num_topics, num_keywords)\n",
    "    max_log = []\n",
    "    for topic_log in topics_logs:\n",
    "        name = topic_log[1]\n",
    "        topic_weights = topic_log[0]\n",
    "        topic_weights.sort(key=lambda pair: abs(pair[1]), reverse=True)\n",
    "        max_topic = topic_weights[0]\n",
    "        max_log.append(max_topic[0])\n",
    "    return max_log"
   ]
  },
  {
   "cell_type": "markdown",
   "id": "e14fec6a",
   "metadata": {},
   "source": [
    "## Naive Bayes Classifier and Decision Tree Classifier"
   ]
  },
  {
   "cell_type": "code",
   "execution_count": 77,
   "id": "62071ebd",
   "metadata": {},
   "outputs": [],
   "source": [
    "def report(classifier, actual, predictions):\n",
    "    print(classifier)\n",
    "    actual = np.array(actual)\n",
    "    print(classification_report(actual, predictions))\n",
    "    print(\"Accuracy: \" + str(round(accuracy_score(actual, predictions),2)))\n",
    "    \n",
    "def classify(df, algorithm, init_state):\n",
    "    X_train, X_test, y_train, y_test = train_test_split(df['data'], df['type'], test_size=0.2, random_state=init_state)\n",
    "    #train\n",
    "    model = Pipeline([('tfidf', TfidfVectorizer(tokenizer=lambda x:x, preprocessor=lambda x:x)), ('clf', algorithm)])\n",
    "    model.fit(X_train, y_train)\n",
    "    #test\n",
    "    predictions = model.predict(X_test.sort_index())\n",
    "    test_result = df[df.index.isin(X_test.index)]\n",
    "    test_result[(str(algorithm).split('(')[0])] = predictions\n",
    "    report((str(algorithm).split('(')[0]), y_test.sort_index(), predictions)\n",
    "    \n",
    "    plot_confusion_matrix(model, X_test, y_test)\n",
    "    plt.show()\n",
    "    return model, test_result"
   ]
  },
  {
   "cell_type": "markdown",
   "id": "c93d7fee",
   "metadata": {},
   "source": [
    "# Evaluation"
   ]
  },
  {
   "cell_type": "markdown",
   "id": "a781e44b",
   "metadata": {},
   "source": [
    "## T1 - Validation of Classifiers"
   ]
  },
  {
   "cell_type": "markdown",
   "id": "3599879c",
   "metadata": {},
   "source": [
    "### T1.1 - LSI-based Classifier test: Cluster dataframe into k and k+1 topics"
   ]
  },
  {
   "cell_type": "code",
   "execution_count": 78,
   "id": "61f273f2",
   "metadata": {},
   "outputs": [
    {
     "name": "stdout",
     "output_type": "stream",
     "text": [
      "-----------TOPIC - KEYWORDS--------------\n",
      "[(0, [('mysql', 0.5183406770661965), ('for', 0.3466878754413666), ('info', 0.3310307536614999), ('main', 0.31470375690417807), ('var', 0.28531795319546216), ('lib', 0.2664404677747098), ('setting', 0.2547946321134494), ('permission', 0.24992110798537273), ('note', 0.18634658354681854), ('wsrep', 0.10893663209169073), ('innodb', 0.07344283689156704), ('frm', 0.06867377479299103), ('myi', 0.05538207644596068), ('myd', 0.05538207644596068), ('log', 0.054474107606838476), ('not', 0.05327948738005214), ('eligible', 0.04702663878563429), ('class', 0.04528697426193551), ('my', 0.04442380218316194), ('org', 0.04410166080739517)]), (1, [('note', 0.7069747319555324), ('wsrep', 0.46542510293296024), ('innodb', 0.21068013833852786), ('main', -0.142674650221741), ('info', -0.12278683216951096), ('permission', -0.11312667683085588), ('mysqld', 0.11279661758537098), ('setting', -0.09642526756494169), ('to', 0.09186550621786292), ('for', -0.08669001631994036), ('size', 0.08494496400195958), ('mysql', -0.0823820017679566), ('evs', 0.07909184755723504), ('pool', 0.07245967383243516), ('state', 0.07196580173064161), ('file', 0.06869420427710753), ('buffer', 0.06777455135779557), ('thread', 0.06751692664999537), ('gcs', 0.06692387100996813), ('my', 0.06255907201236438)]), (2, [('mysql', 0.2765778105622811), ('for', -0.2699614542406088), ('class', -0.2627238407603787), ('not', -0.2537687076195161), ('eligible', -0.2525762838277854), ('bean', -0.245195606391436), ('org', -0.22903919302490758), ('springframework', -0.2208373662069063), ('false', -0.1534591235729118), ('var', 0.14189925255914035), ('is', -0.13775853491899132), ('permission', 0.13754391530300872), ('setting', 0.1368888363776841), ('lib', 0.1334977017735391), ('of', -0.1327510908262539), ('type', -0.13149850132961488), ('by', -0.13134056323435261), ('all', -0.12652064810600938), ('proxying', -0.1262881419138927), ('beanpostprocessors', -0.1262881419138927)]), (3, [('msg', -0.3728998411653746), ('id', -0.3560289913929972), ('date', -0.3528254654460634), ('mongo', -0.34812838288527787), ('ctx', -0.34812838288527787), ('attr', -0.29917282904203546), ('initandlisten', -0.2561526242161915), ('storage', -0.219713891976784), ('acquirecount', -0.10879011965164925), ('command', -0.1050359827845842), ('starting', -0.08599397332228398), ('message', -0.08393849635771775), ('wiredtiger', -0.07826865913911427), ('recovery', -0.07661609119235406), ('db', -0.0722240776423753), ('config', -0.07219403051530374), ('database', -0.07189818316075963), ('collection', -0.0652740717909896), ('uuid', -0.0644694900685812), ('system', -0.05969958810231915)])]\n",
      "\n",
      "-----------TOPIC - DOCUMENT--------------\n",
      "[([(0, 76.13363309929436), (1, 64.13456017462747), (2, 16.113005104326525), (3, 3.1452322882730903)], 'db_mysql.log'), ([(0, 13.822899008585841), (1, -3.361694729176518), (2, -0.20217359709235316), (3, -1.5624803403018857)], 'deployment_elasticsearch.txt'), ([(0, 354.88244284717615), (1, -92.00279789092522), (2, 73.77622166287371), (3, 0.7780987858613043)], 'deployment_mariadb.txt'), ([(0, 3.0994968031859234), (1, 1.8172855910742356), (2, -3.899855683775928), (3, -12.085489331643545)], 'db_user-db.log'), ([(0, 24.10078689221393), (1, -5.309726913237743), (2, -4.556611004846387), (3, -10.153864266873894)], 'deployment_prometheus.txt'), ([(0, 3.112388716808457), (1, 1.9389150439045502), (2, -3.48891290071492), (3, -13.36924429949572)], 'db_orders-db.log'), ([(0, 3.112223936149505), (1, 1.9396683373102792), (2, -3.494502260478171), (3, -13.387869761321198)], 'db_carts-db.log'), ([(0, 6.034452378647932), (1, 0.20313281180188067), (2, -4.228272891432259), (3, -4.102904253501645)], 'frontend_kibana.log'), ([(0, 4.933927455492104), (1, 3.1843662762083476), (2, -1.9387280499627786), (3, -0.6375944658193526)], 'frontend_horizon.log'), ([(0, 72.9408860809875), (1, -21.425673850038656), (2, -164.26126486608445), (3, 11.95058242326255)], 'backend_queue-master.log'), ([(0, 46.84538256697277), (1, -13.30718919196859), (2, -69.24843103449835), (3, 2.8258631689750584)], 'backend_springboot.log'), ([(0, 14.40719568093329), (1, -3.098726627820101), (2, 0.12797499656194952), (3, -1.9631843918281733)], 'deployment_libvirt.txt'), ([(0, 8.22898467211393), (1, 2.96754711271637), (2, -7.9208290964660675), (3, -6.239735432395891)], 'frontend_kibana-simple.log'), ([(0, 19.438746620317055), (1, -5.811967677597948), (2, -36.79609144175086), (3, 1.3555464731064513)], 'backend_carts.log'), ([(0, 114.06116457463114), (1, 278.9359153091521), (2, -5.973787399202795), (3, 7.224188692773593)], 'db_mariadb.log'), ([(0, 20.30150631041133), (1, -3.5487594976370653), (2, -6.500302873520684), (3, -2.5149325386869625)], 'db_elasticsearch.log'), ([(0, 9.825737546798155), (1, -2.2291813509974037), (2, -0.25220929055607333), (3, -1.8048663158786193)], 'deployment_kibana.txt'), ([(0, 14.774236565985527), (1, -3.029346368953963), (2, 1.2129424161940652), (3, -1.8296383016334996)], 'deployment_fluentd.txt'), ([(0, 22.000511326778526), (1, -5.609530154909074), (2, 0.19683342433350565), (3, -1.8848616168341261)], 'deployment_rabbitmq.txt'), ([(0, 19.447180656991478), (1, -5.8133441169135835), (2, -36.76797210846503), (3, 1.2779972763908332)], 'backend_orders.log'), ([(0, 13.19012089493585), (1, 9.340889262703934), (2, -17.505588659980745), (3, -178.35861276472573)], 'db_mongo.log'), ([(0, 68.23979176922349), (1, -19.59599432773684), (2, -138.9756466090376), (3, 8.639938881806826)], 'backend_shipping.log')]\n",
      "-----------TOPIC - KEYWORDS--------------\n",
      "[(0, [('mysql', 0.518340677066196), ('for', 0.3466878754413661), ('info', 0.3310307536614993), ('main', 0.31470375690417746), ('var', 0.28531795319546166), ('lib', 0.2664404677747094), ('setting', 0.2547946321134488), ('permission', 0.24992110798537193), ('note', 0.18634658354682257), ('wsrep', 0.10893663209169338), ('innodb', 0.07344283689156843), ('frm', 0.06867377479299096), ('myi', 0.05538207644596045), ('myd', 0.05538207644596045), ('log', 0.05447410760683851), ('not', 0.053279487380052566), ('eligible', 0.04702663878563429), ('class', 0.045286974261935786), ('my', 0.04442380218316246), ('org', 0.044101660807395304)]), (1, [('note', 0.7069747319555317), ('wsrep', 0.46542510293295986), ('innodb', 0.21068013833852697), ('main', -0.14267465022174225), ('info', -0.12278683216951222), ('permission', -0.11312667683085774), ('mysqld', 0.11279661758537067), ('setting', -0.0964252675649435), ('to', 0.09186550621786287), ('for', -0.08669001631994062), ('size', 0.08494496400195917), ('mysql', -0.08238200176796112), ('evs', 0.07909184755723496), ('pool', 0.07245967383243512), ('state', 0.07196580173064143), ('file', 0.06869420427710735), ('buffer', 0.06777455135779563), ('thread', 0.06751692664999523), ('gcs', 0.06692387100996788), ('my', 0.0625590720123639)]), (2, [('mysql', 0.2765778105622812), ('for', -0.2699614542406085), ('class', -0.26272384076037875), ('not', -0.2537687076195163), ('eligible', -0.25257628382778535), ('bean', -0.24519560639143645), ('org', -0.22903919302490763), ('springframework', -0.2208373662069064), ('false', -0.1534591235729117), ('var', 0.14189925255914035), ('is', -0.13775853491899118), ('permission', 0.13754391530300825), ('setting', 0.1368888363776843), ('lib', 0.1334977017735392), ('of', -0.13275109082625375), ('type', -0.1314985013296148), ('by', -0.13134056323435275), ('all', -0.12652064810600966), ('proxying', -0.12628814191389268), ('beanpostprocessors', -0.12628814191389268)]), (3, [('msg', -0.37289984116537406), ('id', -0.35602899139299704), ('date', -0.3528254654460634), ('mongo', -0.34812838288527803), ('ctx', -0.34812838288527803), ('attr', -0.2991728290420356), ('initandlisten', -0.25615262421619167), ('storage', -0.21971389197678437), ('acquirecount', -0.10879011965164943), ('command', -0.10503598278458408), ('starting', -0.08599397332228385), ('message', -0.08393849635771762), ('wiredtiger', -0.07826865913911477), ('recovery', -0.0766160911923541), ('db', -0.0722240776423752), ('config', -0.07219403051530336), ('database', -0.0718981831607598), ('collection', -0.06527407179098968), ('uuid', -0.0644694900685812), ('system', -0.059699588102319213)]), (4, [('my', 0.5544000662052916), ('mysql', 0.4195169271561466), ('wsrep', -0.32683411386217653), ('server', 0.29774657560617285), ('innodb', 0.2310811271467909), ('info', -0.21110489928163945), ('lib', -0.15729456834015484), ('var', -0.1537162592733026), ('main', -0.13479492923755063), ('permission', -0.10612735400687995), ('setting', -0.10193294977916748), ('using', 0.06980585018303183), ('note', 0.06466537275468921), ('plugin', 0.06343554087502656), ('in', 0.061876915426980345), ('kolla', -0.06016855525774865), ('data', 0.05633909071843681), ('evs', -0.05554043764978168), ('mysqlx', 0.055186580155781796), ('state', -0.05303603335408886)])]\n",
      "\n",
      "-----------TOPIC - DOCUMENT--------------\n",
      "[([(0, 76.13363309929466), (1, 64.13456017462693), (2, 16.11300510432689), (3, 3.1452322882728287), (4, 110.04069544410264)], 'db_mysql.log'), ([(0, 13.822899008585797), (1, -3.3616947291765724), (2, -0.20217359709235297), (3, -1.5624803403018774), (4, -6.806492432359601)], 'deployment_elasticsearch.txt'), ([(0, 354.8824428471753), (1, -92.00279789092737), (2, 73.77622166287368), (3, 0.7780987858612518), (4, -11.87567615009964)], 'deployment_mariadb.txt'), ([(0, 3.099496803185951), (1, 1.8172855910742345), (2, -3.8998556837759306), (3, -12.085489331643554), (4, 1.210171366018733)], 'db_user-db.log'), ([(0, 24.10078689221387), (1, -5.309726913237835), (2, -4.556611004846377), (3, -10.153864266873857), (4, -15.073375500127966)], 'deployment_prometheus.txt'), ([(0, 3.112388716808486), (1, 1.9389150439045444), (2, -3.4889129007149258), (3, -13.369244299495742), (4, 1.0178767377366227)], 'db_orders-db.log'), ([(0, 3.1122239361495345), (1, 1.939668337310273), (2, -3.4945022604781766), (3, -13.38786976132122), (4, 1.0274450290383195)], 'db_carts-db.log'), ([(0, 6.034452378647921), (1, 0.20313281180186904), (2, -4.228272891432242), (3, -4.102904253501615), (4, -1.777623669788189)], 'frontend_kibana.log'), ([(0, 4.933927455492106), (1, 3.1843662762083205), (2, -1.9387280499627613), (3, -0.6375944658193498), (4, -0.16946533251749527)], 'frontend_horizon.log'), ([(0, 72.9408860809874), (1, -21.425673850038155), (2, -164.26126486608456), (3, 11.95058242326284), (4, 7.448814097659471)], 'backend_queue-master.log'), ([(0, 46.84538256697266), (1, -13.307189191968437), (2, -69.24843103449841), (3, 2.82586316897522), (4, -5.143429990128354)], 'backend_springboot.log'), ([(0, 14.407195680933246), (1, -3.0987266278201626), (2, 0.12797499656195496), (3, -1.9631843918281655), (4, -7.941410421604521)], 'deployment_libvirt.txt'), ([(0, 8.228984672113931), (1, 2.967547112716376), (2, -7.9208290964660355), (3, -6.239735432395847), (4, 0.32277918501936104)], 'frontend_kibana-simple.log'), ([(0, 19.438746620317033), (1, -5.811967677597849), (2, -36.796091441750896), (3, 1.3555464731065123), (4, -1.0208568749851028)], 'backend_carts.log'), ([(0, 114.06116457463263), (1, 278.9359153091515), (2, -5.97378739920135), (3, 7.224188692773596), (4, -29.81630579320927)], 'db_mariadb.log'), ([(0, 20.301506310411327), (1, -3.5487594976371297), (2, -6.5003028735206545), (3, -2.514932538686928), (4, -12.800887658887063)], 'db_elasticsearch.log'), ([(0, 9.825737546798122), (1, -2.2291813509974463), (2, -0.2522092905560701), (3, -1.8048663158786153), (4, -6.000467607455288)], 'deployment_kibana.txt'), ([(0, 14.774236565985484), (1, -3.029346368954031), (2, 1.2129424161940725), (3, -1.8296383016334916), (4, -8.489562497067187)], 'deployment_fluentd.txt'), ([(0, 22.00051132677845), (1, -5.6095301549091685), (2, 0.1968334243335071), (3, -1.884861616834116), (4, -10.300520969850236)], 'deployment_rabbitmq.txt'), ([(0, 19.447180656991463), (1, -5.813344116913488), (2, -36.76797210846507), (3, 1.27799727639089), (4, -1.031032035276434)], 'backend_orders.log'), ([(0, 13.190120894935879), (1, 9.340889262703964), (2, -17.505588659980948), (3, -178.3586127647259), (4, 2.4513220593952965)], 'db_mongo.log'), ([(0, 68.2397917692234), (1, -19.59599432773645), (2, -138.97564660903777), (3, 8.639938881807067), (4, 2.699120253930554)], 'backend_shipping.log')]\n"
     ]
    }
   ],
   "source": [
    "k = len(set(df['type']))\n",
    "df['LSI k topics'] = lsi_classifier(df, k)\n",
    "df['LSI k+1 topics'] = lsi_classifier(df, k+1)"
   ]
  },
  {
   "cell_type": "code",
   "execution_count": 79,
   "id": "8aabae81",
   "metadata": {},
   "outputs": [
    {
     "data": {
      "text/html": [
       "<div>\n",
       "<style scoped>\n",
       "    .dataframe tbody tr th:only-of-type {\n",
       "        vertical-align: middle;\n",
       "    }\n",
       "\n",
       "    .dataframe tbody tr th {\n",
       "        vertical-align: top;\n",
       "    }\n",
       "\n",
       "    .dataframe thead th {\n",
       "        text-align: right;\n",
       "    }\n",
       "</style>\n",
       "<table border=\"1\" class=\"dataframe\">\n",
       "  <thead>\n",
       "    <tr style=\"text-align: right;\">\n",
       "      <th></th>\n",
       "      <th>filename</th>\n",
       "      <th>data</th>\n",
       "      <th>#words</th>\n",
       "      <th>#lines</th>\n",
       "      <th>size (bytes)</th>\n",
       "      <th>type</th>\n",
       "      <th>LSI k topics</th>\n",
       "      <th>LSI k+1 topics</th>\n",
       "    </tr>\n",
       "  </thead>\n",
       "  <tbody>\n",
       "    <tr>\n",
       "      <th>10</th>\n",
       "      <td>backend_springboot.log</td>\n",
       "      <td>[application, version, snapshot, spring, boot,...</td>\n",
       "      <td>663</td>\n",
       "      <td>51</td>\n",
       "      <td>8884</td>\n",
       "      <td>backend</td>\n",
       "      <td>2</td>\n",
       "      <td>2</td>\n",
       "    </tr>\n",
       "    <tr>\n",
       "      <th>19</th>\n",
       "      <td>backend_orders.log</td>\n",
       "      <td>[info, bootstrap, main, annotationconfigapplic...</td>\n",
       "      <td>415</td>\n",
       "      <td>24</td>\n",
       "      <td>5355</td>\n",
       "      <td>backend</td>\n",
       "      <td>2</td>\n",
       "      <td>2</td>\n",
       "    </tr>\n",
       "    <tr>\n",
       "      <th>13</th>\n",
       "      <td>backend_carts.log</td>\n",
       "      <td>[info, bootstrap, main, annotationconfigapplic...</td>\n",
       "      <td>418</td>\n",
       "      <td>24</td>\n",
       "      <td>5342</td>\n",
       "      <td>backend</td>\n",
       "      <td>2</td>\n",
       "      <td>2</td>\n",
       "    </tr>\n",
       "    <tr>\n",
       "      <th>9</th>\n",
       "      <td>backend_queue-master.log</td>\n",
       "      <td>[spring, boot, release, info, main, queuemaste...</td>\n",
       "      <td>1466</td>\n",
       "      <td>45</td>\n",
       "      <td>16675</td>\n",
       "      <td>backend</td>\n",
       "      <td>2</td>\n",
       "      <td>2</td>\n",
       "    </tr>\n",
       "    <tr>\n",
       "      <th>21</th>\n",
       "      <td>backend_shipping.log</td>\n",
       "      <td>[info, bootstrap, main, annotationconfigapplic...</td>\n",
       "      <td>1099</td>\n",
       "      <td>43</td>\n",
       "      <td>12742</td>\n",
       "      <td>backend</td>\n",
       "      <td>2</td>\n",
       "      <td>2</td>\n",
       "    </tr>\n",
       "    <tr>\n",
       "      <th>5</th>\n",
       "      <td>db_orders-db.log</td>\n",
       "      <td>[control, initandlisten, mongodb, starting, pi...</td>\n",
       "      <td>235</td>\n",
       "      <td>27</td>\n",
       "      <td>3034</td>\n",
       "      <td>db</td>\n",
       "      <td>3</td>\n",
       "      <td>3</td>\n",
       "    </tr>\n",
       "    <tr>\n",
       "      <th>15</th>\n",
       "      <td>db_elasticsearch.log</td>\n",
       "      <td>[info, node, version, pid, build, oss, deb, cc...</td>\n",
       "      <td>602</td>\n",
       "      <td>49</td>\n",
       "      <td>8172</td>\n",
       "      <td>db</td>\n",
       "      <td>0</td>\n",
       "      <td>0</td>\n",
       "    </tr>\n",
       "    <tr>\n",
       "      <th>14</th>\n",
       "      <td>db_mariadb.log</td>\n",
       "      <td>[warning, failed, to, load, slave, replication...</td>\n",
       "      <td>2237</td>\n",
       "      <td>261</td>\n",
       "      <td>21927</td>\n",
       "      <td>db</td>\n",
       "      <td>1</td>\n",
       "      <td>1</td>\n",
       "    </tr>\n",
       "    <tr>\n",
       "      <th>20</th>\n",
       "      <td>db_mongo.log</td>\n",
       "      <td>[mongo, date, control, id, ctx, main, msg, aut...</td>\n",
       "      <td>1229</td>\n",
       "      <td>64</td>\n",
       "      <td>17045</td>\n",
       "      <td>db</td>\n",
       "      <td>3</td>\n",
       "      <td>3</td>\n",
       "    </tr>\n",
       "    <tr>\n",
       "      <th>0</th>\n",
       "      <td>db_mysql.log</td>\n",
       "      <td>[mysql, note, entrypoint, entrypoint, script, ...</td>\n",
       "      <td>884</td>\n",
       "      <td>76</td>\n",
       "      <td>10336</td>\n",
       "      <td>db</td>\n",
       "      <td>0</td>\n",
       "      <td>4</td>\n",
       "    </tr>\n",
       "    <tr>\n",
       "      <th>6</th>\n",
       "      <td>db_carts-db.log</td>\n",
       "      <td>[control, initandlisten, mongodb, starting, pi...</td>\n",
       "      <td>238</td>\n",
       "      <td>27</td>\n",
       "      <td>3034</td>\n",
       "      <td>db</td>\n",
       "      <td>3</td>\n",
       "      <td>3</td>\n",
       "    </tr>\n",
       "    <tr>\n",
       "      <th>3</th>\n",
       "      <td>db_user-db.log</td>\n",
       "      <td>[control, initandlisten, mongodb, starting, pi...</td>\n",
       "      <td>230</td>\n",
       "      <td>25</td>\n",
       "      <td>2788</td>\n",
       "      <td>db</td>\n",
       "      <td>3</td>\n",
       "      <td>3</td>\n",
       "    </tr>\n",
       "    <tr>\n",
       "      <th>11</th>\n",
       "      <td>deployment_libvirt.txt</td>\n",
       "      <td>[sudo, kolla, set, configs, info, main, loadin...</td>\n",
       "      <td>179</td>\n",
       "      <td>31</td>\n",
       "      <td>2276</td>\n",
       "      <td>deployment</td>\n",
       "      <td>0</td>\n",
       "      <td>0</td>\n",
       "    </tr>\n",
       "    <tr>\n",
       "      <th>4</th>\n",
       "      <td>deployment_prometheus.txt</td>\n",
       "      <td>[sudo, kolla, set, configs, info, main, loadin...</td>\n",
       "      <td>475</td>\n",
       "      <td>41</td>\n",
       "      <td>5325</td>\n",
       "      <td>deployment</td>\n",
       "      <td>0</td>\n",
       "      <td>0</td>\n",
       "    </tr>\n",
       "    <tr>\n",
       "      <th>16</th>\n",
       "      <td>deployment_kibana.txt</td>\n",
       "      <td>[sudo, kolla, set, configs, info, main, loadin...</td>\n",
       "      <td>144</td>\n",
       "      <td>22</td>\n",
       "      <td>1714</td>\n",
       "      <td>deployment</td>\n",
       "      <td>0</td>\n",
       "      <td>0</td>\n",
       "    </tr>\n",
       "    <tr>\n",
       "      <th>17</th>\n",
       "      <td>deployment_fluentd.txt</td>\n",
       "      <td>[sudo, kolla, set, configs, info, main, loadin...</td>\n",
       "      <td>188</td>\n",
       "      <td>32</td>\n",
       "      <td>2401</td>\n",
       "      <td>deployment</td>\n",
       "      <td>0</td>\n",
       "      <td>0</td>\n",
       "    </tr>\n",
       "    <tr>\n",
       "      <th>18</th>\n",
       "      <td>deployment_rabbitmq.txt</td>\n",
       "      <td>[sudo, kolla, set, configs, info, main, loadin...</td>\n",
       "      <td>215</td>\n",
       "      <td>32</td>\n",
       "      <td>2560</td>\n",
       "      <td>deployment</td>\n",
       "      <td>0</td>\n",
       "      <td>0</td>\n",
       "    </tr>\n",
       "    <tr>\n",
       "      <th>1</th>\n",
       "      <td>deployment_elasticsearch.txt</td>\n",
       "      <td>[sudo, kolla, set, configs, info, main, loadin...</td>\n",
       "      <td>161</td>\n",
       "      <td>25</td>\n",
       "      <td>2060</td>\n",
       "      <td>deployment</td>\n",
       "      <td>0</td>\n",
       "      <td>0</td>\n",
       "    </tr>\n",
       "    <tr>\n",
       "      <th>2</th>\n",
       "      <td>deployment_mariadb.txt</td>\n",
       "      <td>[sudo, kolla, set, configs, info, main, loadin...</td>\n",
       "      <td>1413</td>\n",
       "      <td>136</td>\n",
       "      <td>13294</td>\n",
       "      <td>deployment</td>\n",
       "      <td>0</td>\n",
       "      <td>0</td>\n",
       "    </tr>\n",
       "    <tr>\n",
       "      <th>8</th>\n",
       "      <td>frontend_horizon.log</td>\n",
       "      <td>[wed, jun, wsgi, error, pid, tid, usr, lib, py...</td>\n",
       "      <td>437</td>\n",
       "      <td>20</td>\n",
       "      <td>4197</td>\n",
       "      <td>frontend</td>\n",
       "      <td>0</td>\n",
       "      <td>0</td>\n",
       "    </tr>\n",
       "    <tr>\n",
       "      <th>12</th>\n",
       "      <td>frontend_kibana-simple.log</td>\n",
       "      <td>[type, log, timestamp, tags, info, plugins, se...</td>\n",
       "      <td>577</td>\n",
       "      <td>22</td>\n",
       "      <td>5832</td>\n",
       "      <td>frontend</td>\n",
       "      <td>0</td>\n",
       "      <td>0</td>\n",
       "    </tr>\n",
       "    <tr>\n",
       "      <th>7</th>\n",
       "      <td>frontend_kibana.log</td>\n",
       "      <td>[type, log, timestamp, tags, info, plugins, se...</td>\n",
       "      <td>392</td>\n",
       "      <td>16</td>\n",
       "      <td>4660</td>\n",
       "      <td>frontend</td>\n",
       "      <td>0</td>\n",
       "      <td>0</td>\n",
       "    </tr>\n",
       "  </tbody>\n",
       "</table>\n",
       "</div>"
      ],
      "text/plain": [
       "                        filename  \\\n",
       "10        backend_springboot.log   \n",
       "19            backend_orders.log   \n",
       "13             backend_carts.log   \n",
       "9       backend_queue-master.log   \n",
       "21          backend_shipping.log   \n",
       "5               db_orders-db.log   \n",
       "15          db_elasticsearch.log   \n",
       "14                db_mariadb.log   \n",
       "20                  db_mongo.log   \n",
       "0                   db_mysql.log   \n",
       "6                db_carts-db.log   \n",
       "3                 db_user-db.log   \n",
       "11        deployment_libvirt.txt   \n",
       "4      deployment_prometheus.txt   \n",
       "16         deployment_kibana.txt   \n",
       "17        deployment_fluentd.txt   \n",
       "18       deployment_rabbitmq.txt   \n",
       "1   deployment_elasticsearch.txt   \n",
       "2         deployment_mariadb.txt   \n",
       "8           frontend_horizon.log   \n",
       "12    frontend_kibana-simple.log   \n",
       "7            frontend_kibana.log   \n",
       "\n",
       "                                                 data  #words  #lines  \\\n",
       "10  [application, version, snapshot, spring, boot,...     663      51   \n",
       "19  [info, bootstrap, main, annotationconfigapplic...     415      24   \n",
       "13  [info, bootstrap, main, annotationconfigapplic...     418      24   \n",
       "9   [spring, boot, release, info, main, queuemaste...    1466      45   \n",
       "21  [info, bootstrap, main, annotationconfigapplic...    1099      43   \n",
       "5   [control, initandlisten, mongodb, starting, pi...     235      27   \n",
       "15  [info, node, version, pid, build, oss, deb, cc...     602      49   \n",
       "14  [warning, failed, to, load, slave, replication...    2237     261   \n",
       "20  [mongo, date, control, id, ctx, main, msg, aut...    1229      64   \n",
       "0   [mysql, note, entrypoint, entrypoint, script, ...     884      76   \n",
       "6   [control, initandlisten, mongodb, starting, pi...     238      27   \n",
       "3   [control, initandlisten, mongodb, starting, pi...     230      25   \n",
       "11  [sudo, kolla, set, configs, info, main, loadin...     179      31   \n",
       "4   [sudo, kolla, set, configs, info, main, loadin...     475      41   \n",
       "16  [sudo, kolla, set, configs, info, main, loadin...     144      22   \n",
       "17  [sudo, kolla, set, configs, info, main, loadin...     188      32   \n",
       "18  [sudo, kolla, set, configs, info, main, loadin...     215      32   \n",
       "1   [sudo, kolla, set, configs, info, main, loadin...     161      25   \n",
       "2   [sudo, kolla, set, configs, info, main, loadin...    1413     136   \n",
       "8   [wed, jun, wsgi, error, pid, tid, usr, lib, py...     437      20   \n",
       "12  [type, log, timestamp, tags, info, plugins, se...     577      22   \n",
       "7   [type, log, timestamp, tags, info, plugins, se...     392      16   \n",
       "\n",
       "    size (bytes)        type  LSI k topics  LSI k+1 topics  \n",
       "10          8884     backend             2               2  \n",
       "19          5355     backend             2               2  \n",
       "13          5342     backend             2               2  \n",
       "9          16675     backend             2               2  \n",
       "21         12742     backend             2               2  \n",
       "5           3034          db             3               3  \n",
       "15          8172          db             0               0  \n",
       "14         21927          db             1               1  \n",
       "20         17045          db             3               3  \n",
       "0          10336          db             0               4  \n",
       "6           3034          db             3               3  \n",
       "3           2788          db             3               3  \n",
       "11          2276  deployment             0               0  \n",
       "4           5325  deployment             0               0  \n",
       "16          1714  deployment             0               0  \n",
       "17          2401  deployment             0               0  \n",
       "18          2560  deployment             0               0  \n",
       "1           2060  deployment             0               0  \n",
       "2          13294  deployment             0               0  \n",
       "8           4197    frontend             0               0  \n",
       "12          5832    frontend             0               0  \n",
       "7           4660    frontend             0               0  "
      ]
     },
     "execution_count": 79,
     "metadata": {},
     "output_type": "execute_result"
    }
   ],
   "source": [
    "df.sort_values('type')"
   ]
  },
  {
   "cell_type": "markdown",
   "id": "6354d9c7",
   "metadata": {},
   "source": [
    "### T1.2 - Naive Bayes Classifier"
   ]
  },
  {
   "cell_type": "code",
   "execution_count": 204,
   "id": "58306f27",
   "metadata": {},
   "outputs": [],
   "source": [
    "init_state = 42\n",
    "#init_state = 0"
   ]
  },
  {
   "cell_type": "code",
   "execution_count": 205,
   "id": "a68cf3f4",
   "metadata": {},
   "outputs": [
    {
     "name": "stdout",
     "output_type": "stream",
     "text": [
      "MultinomialNB\n",
      "              precision    recall  f1-score   support\n",
      "\n",
      "     backend       1.00      1.00      1.00         1\n",
      "          db       0.00      0.00      0.00         2\n",
      "  deployment       0.25      1.00      0.40         1\n",
      "    frontend       0.00      0.00      0.00         1\n",
      "\n",
      "    accuracy                           0.40         5\n",
      "   macro avg       0.31      0.50      0.35         5\n",
      "weighted avg       0.25      0.40      0.28         5\n",
      "\n",
      "Accuracy: 0.4\n"
     ]
    },
    {
     "data": {
      "image/png": "[encoded data removed]",
      "text/plain": [
       "<Figure size 432x288 with 2 Axes>"
      ]
     },
     "metadata": {
      "needs_background": "light"
     },
     "output_type": "display_data"
    }
   ],
   "source": [
    "from sklearn import naive_bayes\n",
    "from sklearn import tree\n",
    "from sklearn.naive_bayes import MultinomialNB\n",
    "model, test_result = classify(df, naive_bayes.MultinomialNB(), init_state)"
   ]
  },
  {
   "cell_type": "code",
   "execution_count": 206,
   "id": "9c4af5a2",
   "metadata": {},
   "outputs": [
    {
     "data": {
      "text/html": [
       "<div>\n",
       "<style scoped>\n",
       "    .dataframe tbody tr th:only-of-type {\n",
       "        vertical-align: middle;\n",
       "    }\n",
       "\n",
       "    .dataframe tbody tr th {\n",
       "        vertical-align: top;\n",
       "    }\n",
       "\n",
       "    .dataframe thead th {\n",
       "        text-align: right;\n",
       "    }\n",
       "</style>\n",
       "<table border=\"1\" class=\"dataframe\">\n",
       "  <thead>\n",
       "    <tr style=\"text-align: right;\">\n",
       "      <th></th>\n",
       "      <th>filename</th>\n",
       "      <th>data</th>\n",
       "      <th>#words</th>\n",
       "      <th>#lines</th>\n",
       "      <th>size (bytes)</th>\n",
       "      <th>type</th>\n",
       "      <th>LSI k topics</th>\n",
       "      <th>LSI k+1 topics</th>\n",
       "      <th>MultinomialNB</th>\n",
       "    </tr>\n",
       "  </thead>\n",
       "  <tbody>\n",
       "    <tr>\n",
       "      <th>0</th>\n",
       "      <td>db_mysql.log</td>\n",
       "      <td>[mysql, note, entrypoint, entrypoint, script, ...</td>\n",
       "      <td>884</td>\n",
       "      <td>76</td>\n",
       "      <td>10336</td>\n",
       "      <td>db</td>\n",
       "      <td>0</td>\n",
       "      <td>4</td>\n",
       "      <td>deployment</td>\n",
       "    </tr>\n",
       "    <tr>\n",
       "      <th>1</th>\n",
       "      <td>deployment_elasticsearch.txt</td>\n",
       "      <td>[sudo, kolla, set, configs, info, main, loadin...</td>\n",
       "      <td>161</td>\n",
       "      <td>25</td>\n",
       "      <td>2060</td>\n",
       "      <td>deployment</td>\n",
       "      <td>0</td>\n",
       "      <td>0</td>\n",
       "      <td>deployment</td>\n",
       "    </tr>\n",
       "    <tr>\n",
       "      <th>8</th>\n",
       "      <td>frontend_horizon.log</td>\n",
       "      <td>[wed, jun, wsgi, error, pid, tid, usr, lib, py...</td>\n",
       "      <td>437</td>\n",
       "      <td>20</td>\n",
       "      <td>4197</td>\n",
       "      <td>frontend</td>\n",
       "      <td>0</td>\n",
       "      <td>0</td>\n",
       "      <td>deployment</td>\n",
       "    </tr>\n",
       "    <tr>\n",
       "      <th>13</th>\n",
       "      <td>backend_carts.log</td>\n",
       "      <td>[info, bootstrap, main, annotationconfigapplic...</td>\n",
       "      <td>418</td>\n",
       "      <td>24</td>\n",
       "      <td>5342</td>\n",
       "      <td>backend</td>\n",
       "      <td>2</td>\n",
       "      <td>2</td>\n",
       "      <td>backend</td>\n",
       "    </tr>\n",
       "    <tr>\n",
       "      <th>15</th>\n",
       "      <td>db_elasticsearch.log</td>\n",
       "      <td>[info, node, version, pid, build, oss, deb, cc...</td>\n",
       "      <td>602</td>\n",
       "      <td>49</td>\n",
       "      <td>8172</td>\n",
       "      <td>db</td>\n",
       "      <td>0</td>\n",
       "      <td>0</td>\n",
       "      <td>deployment</td>\n",
       "    </tr>\n",
       "  </tbody>\n",
       "</table>\n",
       "</div>"
      ],
      "text/plain": [
       "                        filename  \\\n",
       "0                   db_mysql.log   \n",
       "1   deployment_elasticsearch.txt   \n",
       "8           frontend_horizon.log   \n",
       "13             backend_carts.log   \n",
       "15          db_elasticsearch.log   \n",
       "\n",
       "                                                 data  #words  #lines  \\\n",
       "0   [mysql, note, entrypoint, entrypoint, script, ...     884      76   \n",
       "1   [sudo, kolla, set, configs, info, main, loadin...     161      25   \n",
       "8   [wed, jun, wsgi, error, pid, tid, usr, lib, py...     437      20   \n",
       "13  [info, bootstrap, main, annotationconfigapplic...     418      24   \n",
       "15  [info, node, version, pid, build, oss, deb, cc...     602      49   \n",
       "\n",
       "    size (bytes)        type  LSI k topics  LSI k+1 topics MultinomialNB  \n",
       "0          10336          db             0               4    deployment  \n",
       "1           2060  deployment             0               0    deployment  \n",
       "8           4197    frontend             0               0    deployment  \n",
       "13          5342     backend             2               2       backend  \n",
       "15          8172          db             0               0    deployment  "
      ]
     },
     "execution_count": 206,
     "metadata": {},
     "output_type": "execute_result"
    }
   ],
   "source": [
    "test_result"
   ]
  },
  {
   "cell_type": "markdown",
   "id": "782cc900",
   "metadata": {},
   "source": [
    "### T1.3 - Decision Tree Classifier"
   ]
  },
  {
   "cell_type": "code",
   "execution_count": 207,
   "id": "d71764e7",
   "metadata": {},
   "outputs": [
    {
     "name": "stdout",
     "output_type": "stream",
     "text": [
      "DecisionTreeClassifier\n",
      "              precision    recall  f1-score   support\n",
      "\n",
      "     backend       0.50      1.00      0.67         1\n",
      "          db       0.00      0.00      0.00         2\n",
      "  deployment       0.33      1.00      0.50         1\n",
      "    frontend       0.00      0.00      0.00         1\n",
      "\n",
      "    accuracy                           0.40         5\n",
      "   macro avg       0.21      0.50      0.29         5\n",
      "weighted avg       0.17      0.40      0.23         5\n",
      "\n",
      "Accuracy: 0.4\n"
     ]
    },
    {
     "data": {
      "image/png": "[encoded data removed]",
      "text/plain": [
       "<Figure size 432x288 with 2 Axes>"
      ]
     },
     "metadata": {
      "needs_background": "light"
     },
     "output_type": "display_data"
    },
    {
     "data": {
      "text/plain": [
       "'tree.dot.png'"
      ]
     },
     "execution_count": 207,
     "metadata": {},
     "output_type": "execute_result"
    }
   ],
   "source": [
    "model, test_result = classify(df, tree.DecisionTreeClassifier(max_depth=10, random_state=init_state), init_state)\n",
    "export_graphviz(model['clf'], out_file='tree.dot',  \n",
    "                filled=True, rounded=True,\n",
    "                special_characters=True,feature_names = model['tfidf'].get_feature_names(),class_names=list(set(df['type'])))\n",
    "\n",
    "graphviz.Source.from_file('tree.dot')\n",
    "graphviz.render('dot', 'png', 'tree.dot')"
   ]
  },
  {
   "cell_type": "code",
   "execution_count": 208,
   "id": "747334af",
   "metadata": {},
   "outputs": [
    {
     "data": {
      "text/html": [
       "<div>\n",
       "<style scoped>\n",
       "    .dataframe tbody tr th:only-of-type {\n",
       "        vertical-align: middle;\n",
       "    }\n",
       "\n",
       "    .dataframe tbody tr th {\n",
       "        vertical-align: top;\n",
       "    }\n",
       "\n",
       "    .dataframe thead th {\n",
       "        text-align: right;\n",
       "    }\n",
       "</style>\n",
       "<table border=\"1\" class=\"dataframe\">\n",
       "  <thead>\n",
       "    <tr style=\"text-align: right;\">\n",
       "      <th></th>\n",
       "      <th>filename</th>\n",
       "      <th>data</th>\n",
       "      <th>#words</th>\n",
       "      <th>#lines</th>\n",
       "      <th>size (bytes)</th>\n",
       "      <th>type</th>\n",
       "      <th>LSI k topics</th>\n",
       "      <th>LSI k+1 topics</th>\n",
       "      <th>DecisionTreeClassifier</th>\n",
       "    </tr>\n",
       "  </thead>\n",
       "  <tbody>\n",
       "    <tr>\n",
       "      <th>0</th>\n",
       "      <td>db_mysql.log</td>\n",
       "      <td>[mysql, note, entrypoint, entrypoint, script, ...</td>\n",
       "      <td>884</td>\n",
       "      <td>76</td>\n",
       "      <td>10336</td>\n",
       "      <td>db</td>\n",
       "      <td>0</td>\n",
       "      <td>4</td>\n",
       "      <td>backend</td>\n",
       "    </tr>\n",
       "    <tr>\n",
       "      <th>1</th>\n",
       "      <td>deployment_elasticsearch.txt</td>\n",
       "      <td>[sudo, kolla, set, configs, info, main, loadin...</td>\n",
       "      <td>161</td>\n",
       "      <td>25</td>\n",
       "      <td>2060</td>\n",
       "      <td>deployment</td>\n",
       "      <td>0</td>\n",
       "      <td>0</td>\n",
       "      <td>deployment</td>\n",
       "    </tr>\n",
       "    <tr>\n",
       "      <th>8</th>\n",
       "      <td>frontend_horizon.log</td>\n",
       "      <td>[wed, jun, wsgi, error, pid, tid, usr, lib, py...</td>\n",
       "      <td>437</td>\n",
       "      <td>20</td>\n",
       "      <td>4197</td>\n",
       "      <td>frontend</td>\n",
       "      <td>0</td>\n",
       "      <td>0</td>\n",
       "      <td>deployment</td>\n",
       "    </tr>\n",
       "    <tr>\n",
       "      <th>13</th>\n",
       "      <td>backend_carts.log</td>\n",
       "      <td>[info, bootstrap, main, annotationconfigapplic...</td>\n",
       "      <td>418</td>\n",
       "      <td>24</td>\n",
       "      <td>5342</td>\n",
       "      <td>backend</td>\n",
       "      <td>2</td>\n",
       "      <td>2</td>\n",
       "      <td>backend</td>\n",
       "    </tr>\n",
       "    <tr>\n",
       "      <th>15</th>\n",
       "      <td>db_elasticsearch.log</td>\n",
       "      <td>[info, node, version, pid, build, oss, deb, cc...</td>\n",
       "      <td>602</td>\n",
       "      <td>49</td>\n",
       "      <td>8172</td>\n",
       "      <td>db</td>\n",
       "      <td>0</td>\n",
       "      <td>0</td>\n",
       "      <td>deployment</td>\n",
       "    </tr>\n",
       "  </tbody>\n",
       "</table>\n",
       "</div>"
      ],
      "text/plain": [
       "                        filename  \\\n",
       "0                   db_mysql.log   \n",
       "1   deployment_elasticsearch.txt   \n",
       "8           frontend_horizon.log   \n",
       "13             backend_carts.log   \n",
       "15          db_elasticsearch.log   \n",
       "\n",
       "                                                 data  #words  #lines  \\\n",
       "0   [mysql, note, entrypoint, entrypoint, script, ...     884      76   \n",
       "1   [sudo, kolla, set, configs, info, main, loadin...     161      25   \n",
       "8   [wed, jun, wsgi, error, pid, tid, usr, lib, py...     437      20   \n",
       "13  [info, bootstrap, main, annotationconfigapplic...     418      24   \n",
       "15  [info, node, version, pid, build, oss, deb, cc...     602      49   \n",
       "\n",
       "    size (bytes)        type  LSI k topics  LSI k+1 topics  \\\n",
       "0          10336          db             0               4   \n",
       "1           2060  deployment             0               0   \n",
       "8           4197    frontend             0               0   \n",
       "13          5342     backend             2               2   \n",
       "15          8172          db             0               0   \n",
       "\n",
       "   DecisionTreeClassifier  \n",
       "0                 backend  \n",
       "1              deployment  \n",
       "8              deployment  \n",
       "13                backend  \n",
       "15             deployment  "
      ]
     },
     "execution_count": 208,
     "metadata": {},
     "output_type": "execute_result"
    }
   ],
   "source": [
    "test_result"
   ]
  },
  {
   "cell_type": "code",
   "execution_count": 209,
   "id": "5c34a115",
   "metadata": {},
   "outputs": [
    {
     "data": {
      "image/png": "[encoded data removed]",
      "text/plain": [
       "<IPython.core.display.Image object>"
      ]
     },
     "execution_count": 209,
     "metadata": {},
     "output_type": "execute_result"
    }
   ],
   "source": [
    "from IPython.display import Image\n",
    "Image(\"tree.dot.png\")"
   ]
  },
  {
   "cell_type": "markdown",
   "id": "989b1ad8",
   "metadata": {},
   "source": [
    "## T2 - Validation of Similarity Measures"
   ]
  },
  {
   "cell_type": "markdown",
   "id": "07888103",
   "metadata": {},
   "source": [
    "4 test cases for 4 types"
   ]
  },
  {
   "cell_type": "code",
   "execution_count": 210,
   "id": "257b4b02",
   "metadata": {},
   "outputs": [],
   "source": [
    "test_samples = ['backend_carts.log', 'db_carts-db.log', 'deployment_elasticsearch.txt', 'frontend_kibana.log']\n",
    "test_case = 3 # index in test_samples\n",
    "requested_filename = test_samples[test_case]"
   ]
  },
  {
   "cell_type": "code",
   "execution_count": 211,
   "id": "571e388b",
   "metadata": {},
   "outputs": [],
   "source": [
    "requested_file = df.loc[df['filename'] == requested_filename]\n",
    "#requested_file = df.loc[df['filename'] == requested_filename]['data'].values[0]\n",
    "#tokenized_requested_file = (requested_filename, requested_file.split(' '))\n",
    "label = requested_file['type'].values[0]\n",
    "classified_files = df.loc[df['type'] == label][df['filename'] != requested_filename]\n",
    "#classified_files = df.loc[df['type'] == label]['data'].tolist()"
   ]
  },
  {
   "cell_type": "code",
   "execution_count": 212,
   "id": "e36c8980",
   "metadata": {},
   "outputs": [
    {
     "data": {
      "text/plain": [
       "2"
      ]
     },
     "execution_count": 212,
     "metadata": {},
     "output_type": "execute_result"
    }
   ],
   "source": [
    "len(classified_files.index)"
   ]
  },
  {
   "cell_type": "markdown",
   "id": "c8dd219f",
   "metadata": {},
   "source": [
    "### T2.1 - LSI-based Jaccard Similarity"
   ]
  },
  {
   "cell_type": "code",
   "execution_count": 253,
   "id": "33e1f863",
   "metadata": {},
   "outputs": [
    {
     "name": "stdout",
     "output_type": "stream",
     "text": [
      "-----------TOPIC - KEYWORDS--------------\n",
      "[(0, [('work', 0.08664979671356682), ('require', 0.0866497967135668), ('use', 0.0866497967135668), ('type', 0.08664979671356675), ('map', 0.08664979671356673), ('be', 0.08664979671356672), ('error', 0.08664979671356667), ('set', 0.08664979671356665), ('apis', 0.08014997118873467), ('data', 0.08014997118873464), ('canvas', 0.08014997118873461), ('alert', 0.0801499711887346), ('address', 0.08014997118873456), ('bfetch', 0.08014997118873456), ('consoleextensions', 0.08014997118873454), ('apm', 0.08014997118873454), ('warn', 0.08014997118873453), ('capture', 0.08014997118873451), ('cluster', 0.0801499711887345), ('audittrail', 0.08014997118873447)])]\n",
      "\n",
      "-----------TOPIC - DOCUMENT--------------\n",
      "[([(0, 1.0051899989004687)], 'frontend_horizon.log'), ([(0, 12.395094167263796)], 'frontend_kibana-simple.log')]\n"
     ]
    }
   ],
   "source": [
    "ranking, keywords = lsi_jaccard_ranker(requested_file, classified_files)"
   ]
  },
  {
   "cell_type": "code",
   "execution_count": 254,
   "id": "e768acc3",
   "metadata": {},
   "outputs": [
    {
     "data": {
      "text/plain": [
       "[('frontend_kibana-simple.log', 0.29230803074572786),\n",
       " ('frontend_horizon.log', 0.06855029199551468)]"
      ]
     },
     "execution_count": 254,
     "metadata": {},
     "output_type": "execute_result"
    }
   ],
   "source": [
    "ranking"
   ]
  },
  {
   "cell_type": "code",
   "execution_count": 255,
   "id": "9b1f7860",
   "metadata": {},
   "outputs": [
    {
     "data": {
      "text/plain": [
       "[('work', 0.08664979671356682),\n",
       " ('require', 0.0866497967135668),\n",
       " ('use', 0.0866497967135668),\n",
       " ('type', 0.08664979671356675),\n",
       " ('map', 0.08664979671356673),\n",
       " ('be', 0.08664979671356672),\n",
       " ('error', 0.08664979671356667),\n",
       " ('set', 0.08664979671356665),\n",
       " ('apis', 0.08014997118873467),\n",
       " ('data', 0.08014997118873464),\n",
       " ('canvas', 0.08014997118873461),\n",
       " ('alert', 0.0801499711887346),\n",
       " ('address', 0.08014997118873456),\n",
       " ('bfetch', 0.08014997118873456),\n",
       " ('consoleextensions', 0.08014997118873454),\n",
       " ('apm', 0.08014997118873454),\n",
       " ('warn', 0.08014997118873453),\n",
       " ('capture', 0.08014997118873451),\n",
       " ('cluster', 0.0801499711887345),\n",
       " ('audittrail', 0.08014997118873447)]"
      ]
     },
     "execution_count": 255,
     "metadata": {},
     "output_type": "execute_result"
    }
   ],
   "source": [
    "keywords"
   ]
  },
  {
   "cell_type": "markdown",
   "id": "de6689fd",
   "metadata": {},
   "source": [
    "### T2.2 - TF-IDF Cosine Similarity"
   ]
  },
  {
   "cell_type": "code",
   "execution_count": 216,
   "id": "dfacdc2f",
   "metadata": {},
   "outputs": [
    {
     "data": {
      "text/plain": [
       "[('frontend_kibana-simple.log', 0.5006276195072579),\n",
       " ('frontend_horizon.log', 0.054409208705341786)]"
      ]
     },
     "execution_count": 216,
     "metadata": {},
     "output_type": "execute_result"
    }
   ],
   "source": [
    "tfidf_ranker(requested_file, classified_files)"
   ]
  },
  {
   "cell_type": "markdown",
   "id": "f3bd5c47",
   "metadata": {},
   "source": [
    "### T2.3 - GloVe Cosine Similarity"
   ]
  },
  {
   "cell_type": "code",
   "execution_count": 217,
   "id": "b0d8fe8b",
   "metadata": {},
   "outputs": [
    {
     "name": "stdout",
     "output_type": "stream",
     "text": [
      "mkdir -p build\n",
      "\n",
      "$ build/vocab_count -min-count 1 -verbose 2 < corpus.txt > vocab.txt\n",
      "$ build/cooccur -memory 4.0 -vocab-file vocab.txt -verbose 2 -window-size 15 < corpus.txt > cooccurrence.bin\n",
      "$ build/shuffle -memory 4.0 -verbose 2 < cooccurrence.bin > cooccurrence.shuf.bin\n",
      "$ build/glove -save-file vectors -threads 8 -input-file cooccurrence.shuf.bin -x-max 10 -iter 15 -vector-size 50 -binary 2 -vocab-file vocab.txt -verbose 2\n",
      "Loading Glove Model\n",
      "Done. 317  words loaded!\n"
     ]
    },
    {
     "name": "stderr",
     "output_type": "stream",
     "text": [
      "BUILDING VOCABULARY\n",
      "Processed 0 tokens.\u001b[0GProcessed 1406 tokens.\n",
      "Counted 316 unique words.\n",
      "Using vocabulary of size 316.\n",
      "\n",
      "COUNTING COOCCURRENCES\n",
      "window size: 15\n",
      "context: symmetric\n",
      "max product: 13752509\n",
      "overflow length: 38028356\n",
      "Reading vocab from file \"vocab.txt\"...loaded 316 words.\n",
      "Building lookup table...table contains 99857 elements.\n",
      "Processing token: 0\u001b[0GProcessed 1406 tokens.\n",
      "Writing cooccurrences to disk.....2 files in total.\n",
      "Merging cooccurrence files: processed 0 lines.\u001b[39G0 lines.\u001b[0GMerging cooccurrence files: processed 13757 lines.\n",
      "\n",
      "Using random seed 1631831622\n",
      "SHUFFLING COOCCURRENCES\n",
      "array size: 255013683\n",
      "Shuffling by chunks: processed 0 lines.\u001b[22Gprocessed 13757 lines.\n",
      "Wrote 1 temporary file(s).\n",
      "Merging temp files: processed 0 lines.\u001b[31G13757 lines.\u001b[0GMerging temp files: processed 13757 lines.\n",
      "\n",
      "TRAINING MODEL\n",
      "Read 13757 lines.\n",
      "Initializing parameters...Using random seed 1631831622\n",
      "done.\n",
      "vector size: 50\n",
      "vocab size: 316\n",
      "x_max: 10.000000\n",
      "alpha: 0.750000\n",
      "09/17/21 - 12:33.42AM, iter: 001, cost: 0.092673\n",
      "09/17/21 - 12:33.42AM, iter: 002, cost: 0.073508\n",
      "09/17/21 - 12:33.42AM, iter: 003, cost: 0.070887\n",
      "09/17/21 - 12:33.42AM, iter: 004, cost: 0.069420\n",
      "09/17/21 - 12:33.43AM, iter: 005, cost: 0.068671\n",
      "09/17/21 - 12:33.43AM, iter: 006, cost: 0.067635\n",
      "09/17/21 - 12:33.43AM, iter: 007, cost: 0.066822\n",
      "09/17/21 - 12:33.43AM, iter: 008, cost: 0.065603\n",
      "09/17/21 - 12:33.43AM, iter: 009, cost: 0.063468\n",
      "09/17/21 - 12:33.43AM, iter: 010, cost: 0.060133\n",
      "09/17/21 - 12:33.43AM, iter: 011, cost: 0.056363\n",
      "09/17/21 - 12:33.43AM, iter: 012, cost: 0.053087\n",
      "09/17/21 - 12:33.43AM, iter: 013, cost: 0.050440\n",
      "09/17/21 - 12:33.43AM, iter: 014, cost: 0.048063\n",
      "09/17/21 - 12:33.43AM, iter: 015, cost: 0.046060\n"
     ]
    }
   ],
   "source": [
    "ranking = glove_ranker(requested_file, classified_files)"
   ]
  },
  {
   "cell_type": "code",
   "execution_count": 218,
   "id": "d5e8ffd3",
   "metadata": {},
   "outputs": [
    {
     "data": {
      "text/plain": [
       "[('frontend_kibana-simple.log', 0.9958142556360288),\n",
       " ('frontend_horizon.log', 0.29485060312119427)]"
      ]
     },
     "execution_count": 218,
     "metadata": {},
     "output_type": "execute_result"
    }
   ],
   "source": [
    "ranking"
   ]
  },
  {
   "cell_type": "markdown",
   "id": "820a33af",
   "metadata": {},
   "source": [
    "## T3 - Hybrid approaches"
   ]
  },
  {
   "cell_type": "code",
   "execution_count": 219,
   "id": "af7b8c5c",
   "metadata": {},
   "outputs": [],
   "source": [
    "request = df.loc[df['filename'] == requested_filename]"
   ]
  },
  {
   "cell_type": "code",
   "execution_count": 220,
   "id": "b33892a4",
   "metadata": {},
   "outputs": [
    {
     "data": {
      "text/html": [
       "<div>\n",
       "<style scoped>\n",
       "    .dataframe tbody tr th:only-of-type {\n",
       "        vertical-align: middle;\n",
       "    }\n",
       "\n",
       "    .dataframe tbody tr th {\n",
       "        vertical-align: top;\n",
       "    }\n",
       "\n",
       "    .dataframe thead th {\n",
       "        text-align: right;\n",
       "    }\n",
       "</style>\n",
       "<table border=\"1\" class=\"dataframe\">\n",
       "  <thead>\n",
       "    <tr style=\"text-align: right;\">\n",
       "      <th></th>\n",
       "      <th>filename</th>\n",
       "      <th>data</th>\n",
       "      <th>#words</th>\n",
       "      <th>#lines</th>\n",
       "      <th>size (bytes)</th>\n",
       "      <th>type</th>\n",
       "      <th>LSI k topics</th>\n",
       "      <th>LSI k+1 topics</th>\n",
       "    </tr>\n",
       "  </thead>\n",
       "  <tbody>\n",
       "    <tr>\n",
       "      <th>7</th>\n",
       "      <td>frontend_kibana.log</td>\n",
       "      <td>[type, log, timestamp, tags, info, plugins, se...</td>\n",
       "      <td>392</td>\n",
       "      <td>16</td>\n",
       "      <td>4660</td>\n",
       "      <td>frontend</td>\n",
       "      <td>0</td>\n",
       "      <td>0</td>\n",
       "    </tr>\n",
       "  </tbody>\n",
       "</table>\n",
       "</div>"
      ],
      "text/plain": [
       "              filename                                               data  \\\n",
       "7  frontend_kibana.log  [type, log, timestamp, tags, info, plugins, se...   \n",
       "\n",
       "   #words  #lines  size (bytes)      type  LSI k topics  LSI k+1 topics  \n",
       "7     392      16          4660  frontend             0               0  "
      ]
     },
     "execution_count": 220,
     "metadata": {},
     "output_type": "execute_result"
    }
   ],
   "source": [
    "request"
   ]
  },
  {
   "cell_type": "markdown",
   "id": "28992499",
   "metadata": {},
   "source": [
    "### T3.1 - LSI-based Classifier + LSI-based Jaccard Similarity Ranking"
   ]
  },
  {
   "cell_type": "code",
   "execution_count": 221,
   "id": "07b28a2e",
   "metadata": {},
   "outputs": [],
   "source": [
    "lsi_label = request['LSI k topics'].values[0]\n",
    "k_topics = True\n",
    "same_class = df.loc[df['LSI k topics'] == lsi_label][df['filename'] != requested_filename]\n",
    "if request['LSI k topics'].values[0] != request['LSI k+1 topics'].values[0]:\n",
    "    lsi_label = request['LSI k+1 topics'].values[0]\n",
    "    k_topics = False\n",
    "    same_class = df.loc[df['LSI k+1 topics'] == lsi_label][df['filename'] != requested_filename]"
   ]
  },
  {
   "cell_type": "code",
   "execution_count": 222,
   "id": "6fd1d08e",
   "metadata": {},
   "outputs": [
    {
     "data": {
      "text/html": [
       "<div>\n",
       "<style scoped>\n",
       "    .dataframe tbody tr th:only-of-type {\n",
       "        vertical-align: middle;\n",
       "    }\n",
       "\n",
       "    .dataframe tbody tr th {\n",
       "        vertical-align: top;\n",
       "    }\n",
       "\n",
       "    .dataframe thead th {\n",
       "        text-align: right;\n",
       "    }\n",
       "</style>\n",
       "<table border=\"1\" class=\"dataframe\">\n",
       "  <thead>\n",
       "    <tr style=\"text-align: right;\">\n",
       "      <th></th>\n",
       "      <th>filename</th>\n",
       "      <th>data</th>\n",
       "      <th>#words</th>\n",
       "      <th>#lines</th>\n",
       "      <th>size (bytes)</th>\n",
       "      <th>type</th>\n",
       "      <th>LSI k topics</th>\n",
       "      <th>LSI k+1 topics</th>\n",
       "    </tr>\n",
       "  </thead>\n",
       "  <tbody>\n",
       "    <tr>\n",
       "      <th>0</th>\n",
       "      <td>db_mysql.log</td>\n",
       "      <td>[mysql, note, entrypoint, entrypoint, script, ...</td>\n",
       "      <td>884</td>\n",
       "      <td>76</td>\n",
       "      <td>10336</td>\n",
       "      <td>db</td>\n",
       "      <td>0</td>\n",
       "      <td>4</td>\n",
       "    </tr>\n",
       "    <tr>\n",
       "      <th>1</th>\n",
       "      <td>deployment_elasticsearch.txt</td>\n",
       "      <td>[sudo, kolla, set, configs, info, main, loadin...</td>\n",
       "      <td>161</td>\n",
       "      <td>25</td>\n",
       "      <td>2060</td>\n",
       "      <td>deployment</td>\n",
       "      <td>0</td>\n",
       "      <td>0</td>\n",
       "    </tr>\n",
       "    <tr>\n",
       "      <th>2</th>\n",
       "      <td>deployment_mariadb.txt</td>\n",
       "      <td>[sudo, kolla, set, configs, info, main, loadin...</td>\n",
       "      <td>1413</td>\n",
       "      <td>136</td>\n",
       "      <td>13294</td>\n",
       "      <td>deployment</td>\n",
       "      <td>0</td>\n",
       "      <td>0</td>\n",
       "    </tr>\n",
       "    <tr>\n",
       "      <th>4</th>\n",
       "      <td>deployment_prometheus.txt</td>\n",
       "      <td>[sudo, kolla, set, configs, info, main, loadin...</td>\n",
       "      <td>475</td>\n",
       "      <td>41</td>\n",
       "      <td>5325</td>\n",
       "      <td>deployment</td>\n",
       "      <td>0</td>\n",
       "      <td>0</td>\n",
       "    </tr>\n",
       "    <tr>\n",
       "      <th>8</th>\n",
       "      <td>frontend_horizon.log</td>\n",
       "      <td>[wed, jun, wsgi, error, pid, tid, usr, lib, py...</td>\n",
       "      <td>437</td>\n",
       "      <td>20</td>\n",
       "      <td>4197</td>\n",
       "      <td>frontend</td>\n",
       "      <td>0</td>\n",
       "      <td>0</td>\n",
       "    </tr>\n",
       "    <tr>\n",
       "      <th>11</th>\n",
       "      <td>deployment_libvirt.txt</td>\n",
       "      <td>[sudo, kolla, set, configs, info, main, loadin...</td>\n",
       "      <td>179</td>\n",
       "      <td>31</td>\n",
       "      <td>2276</td>\n",
       "      <td>deployment</td>\n",
       "      <td>0</td>\n",
       "      <td>0</td>\n",
       "    </tr>\n",
       "    <tr>\n",
       "      <th>12</th>\n",
       "      <td>frontend_kibana-simple.log</td>\n",
       "      <td>[type, log, timestamp, tags, info, plugins, se...</td>\n",
       "      <td>577</td>\n",
       "      <td>22</td>\n",
       "      <td>5832</td>\n",
       "      <td>frontend</td>\n",
       "      <td>0</td>\n",
       "      <td>0</td>\n",
       "    </tr>\n",
       "    <tr>\n",
       "      <th>15</th>\n",
       "      <td>db_elasticsearch.log</td>\n",
       "      <td>[info, node, version, pid, build, oss, deb, cc...</td>\n",
       "      <td>602</td>\n",
       "      <td>49</td>\n",
       "      <td>8172</td>\n",
       "      <td>db</td>\n",
       "      <td>0</td>\n",
       "      <td>0</td>\n",
       "    </tr>\n",
       "    <tr>\n",
       "      <th>16</th>\n",
       "      <td>deployment_kibana.txt</td>\n",
       "      <td>[sudo, kolla, set, configs, info, main, loadin...</td>\n",
       "      <td>144</td>\n",
       "      <td>22</td>\n",
       "      <td>1714</td>\n",
       "      <td>deployment</td>\n",
       "      <td>0</td>\n",
       "      <td>0</td>\n",
       "    </tr>\n",
       "    <tr>\n",
       "      <th>17</th>\n",
       "      <td>deployment_fluentd.txt</td>\n",
       "      <td>[sudo, kolla, set, configs, info, main, loadin...</td>\n",
       "      <td>188</td>\n",
       "      <td>32</td>\n",
       "      <td>2401</td>\n",
       "      <td>deployment</td>\n",
       "      <td>0</td>\n",
       "      <td>0</td>\n",
       "    </tr>\n",
       "    <tr>\n",
       "      <th>18</th>\n",
       "      <td>deployment_rabbitmq.txt</td>\n",
       "      <td>[sudo, kolla, set, configs, info, main, loadin...</td>\n",
       "      <td>215</td>\n",
       "      <td>32</td>\n",
       "      <td>2560</td>\n",
       "      <td>deployment</td>\n",
       "      <td>0</td>\n",
       "      <td>0</td>\n",
       "    </tr>\n",
       "  </tbody>\n",
       "</table>\n",
       "</div>"
      ],
      "text/plain": [
       "                        filename  \\\n",
       "0                   db_mysql.log   \n",
       "1   deployment_elasticsearch.txt   \n",
       "2         deployment_mariadb.txt   \n",
       "4      deployment_prometheus.txt   \n",
       "8           frontend_horizon.log   \n",
       "11        deployment_libvirt.txt   \n",
       "12    frontend_kibana-simple.log   \n",
       "15          db_elasticsearch.log   \n",
       "16         deployment_kibana.txt   \n",
       "17        deployment_fluentd.txt   \n",
       "18       deployment_rabbitmq.txt   \n",
       "\n",
       "                                                 data  #words  #lines  \\\n",
       "0   [mysql, note, entrypoint, entrypoint, script, ...     884      76   \n",
       "1   [sudo, kolla, set, configs, info, main, loadin...     161      25   \n",
       "2   [sudo, kolla, set, configs, info, main, loadin...    1413     136   \n",
       "4   [sudo, kolla, set, configs, info, main, loadin...     475      41   \n",
       "8   [wed, jun, wsgi, error, pid, tid, usr, lib, py...     437      20   \n",
       "11  [sudo, kolla, set, configs, info, main, loadin...     179      31   \n",
       "12  [type, log, timestamp, tags, info, plugins, se...     577      22   \n",
       "15  [info, node, version, pid, build, oss, deb, cc...     602      49   \n",
       "16  [sudo, kolla, set, configs, info, main, loadin...     144      22   \n",
       "17  [sudo, kolla, set, configs, info, main, loadin...     188      32   \n",
       "18  [sudo, kolla, set, configs, info, main, loadin...     215      32   \n",
       "\n",
       "    size (bytes)        type  LSI k topics  LSI k+1 topics  \n",
       "0          10336          db             0               4  \n",
       "1           2060  deployment             0               0  \n",
       "2          13294  deployment             0               0  \n",
       "4           5325  deployment             0               0  \n",
       "8           4197    frontend             0               0  \n",
       "11          2276  deployment             0               0  \n",
       "12          5832    frontend             0               0  \n",
       "15          8172          db             0               0  \n",
       "16          1714  deployment             0               0  \n",
       "17          2401  deployment             0               0  \n",
       "18          2560  deployment             0               0  "
      ]
     },
     "execution_count": 222,
     "metadata": {},
     "output_type": "execute_result"
    }
   ],
   "source": [
    "same_class"
   ]
  },
  {
   "cell_type": "code",
   "execution_count": 223,
   "id": "7a626e6c",
   "metadata": {},
   "outputs": [
    {
     "name": "stdout",
     "output_type": "stream",
     "text": [
      "-----------TOPIC - KEYWORDS--------------\n",
      "[(0, [('set', 0.17397685215280456), ('start', 0.1698631501075797), ('log', 0.1698631501075797), ('file', 0.16028989548755854), ('lib', 0.16028989548755854), ('configuration', 0.1561761934423334), ('var', 0.1561761934423334), ('info', 0.1485454087885565), ('setting', 0.13485845212331), ('kolla', 0.13485845212331), ('configs', 0.13485845212331), ('write', 0.13369487438371394), ('run', 0.129581172338488), ('service', 0.12195038768471134), ('config', 0.12195038768471134), ('data', 0.11115781619086527), ('cacerts', 0.10826343101946499), ('strategy', 0.10826343101946499), ('validating', 0.10826343101946499), ('permission', 0.10826343101946499)])]\n",
      "\n",
      "-----------TOPIC - DOCUMENT--------------\n",
      "[([(0, 6.884295080729597)], 'db_mysql.log'), ([(0, 5.069000051093942)], 'deployment_elasticsearch.txt'), ([(0, 6.091296851466865)], 'deployment_mariadb.txt'), ([(0, 6.605209892485006)], 'deployment_prometheus.txt'), ([(0, 1.3284680740665218)], 'frontend_horizon.log'), ([(0, 4.280282478704902)], 'deployment_libvirt.txt'), ([(0, 4.420029637784786)], 'frontend_kibana-simple.log'), ([(0, 8.58852587697535)], 'db_elasticsearch.log'), ([(0, 4.050112309362023)], 'deployment_kibana.txt'), ([(0, 4.32995105026577)], 'deployment_fluentd.txt'), ([(0, 4.5364538528676706)], 'deployment_rabbitmq.txt')]\n"
     ]
    }
   ],
   "source": [
    "ranking, keywords = lsi_jaccard_ranker(requested_file, same_class)"
   ]
  },
  {
   "cell_type": "code",
   "execution_count": 224,
   "id": "e9418fe1",
   "metadata": {},
   "outputs": [
    {
     "data": {
      "text/plain": [
       "[('frontend_kibana-simple.log', 0.2897703589263626),\n",
       " ('deployment_elasticsearch.txt', 0.16551819098496154),\n",
       " ('deployment_fluentd.txt', 0.13241021404748302),\n",
       " ('deployment_kibana.txt', 0.12978234729945123),\n",
       " ('deployment_prometheus.txt', 0.12371827336414516),\n",
       " ('deployment_libvirt.txt', 0.11228597907006742),\n",
       " ('deployment_rabbitmq.txt', 0.10877467703634774),\n",
       " ('deployment_mariadb.txt', 0.10359949397107371),\n",
       " ('db_elasticsearch.log', 0.09638577978547186),\n",
       " ('db_mysql.log', 0.08710332418682146),\n",
       " ('frontend_horizon.log', 0.046360234920423196)]"
      ]
     },
     "execution_count": 224,
     "metadata": {},
     "output_type": "execute_result"
    }
   ],
   "source": [
    "ranking"
   ]
  },
  {
   "cell_type": "markdown",
   "id": "d4ebf56b",
   "metadata": {},
   "source": [
    "### T3.2 - LSI-based Classifier + TF-IDF Cosine Similarity"
   ]
  },
  {
   "cell_type": "code",
   "execution_count": 225,
   "id": "7555cf5f",
   "metadata": {},
   "outputs": [
    {
     "data": {
      "text/plain": [
       "[('frontend_kibana-simple.log', 0.5006276195072579),\n",
       " ('db_elasticsearch.log', 0.12628148330141353),\n",
       " ('deployment_kibana.txt', 0.10739146038802355),\n",
       " ('deployment_fluentd.txt', 0.08151878004932193),\n",
       " ('deployment_elasticsearch.txt', 0.07669571335243353),\n",
       " ('deployment_libvirt.txt', 0.07390864778729096),\n",
       " ('deployment_prometheus.txt', 0.06333144531347079),\n",
       " ('deployment_rabbitmq.txt', 0.057794660779235334),\n",
       " ('frontend_horizon.log', 0.054409208705341786),\n",
       " ('deployment_mariadb.txt', 0.047215658907199316),\n",
       " ('db_mysql.log', 0.02430220400382984)]"
      ]
     },
     "execution_count": 225,
     "metadata": {},
     "output_type": "execute_result"
    }
   ],
   "source": [
    "tfidf_ranker(requested_file, same_class)"
   ]
  },
  {
   "cell_type": "markdown",
   "id": "ffe13a5c",
   "metadata": {},
   "source": [
    "### T3.3 - LSI-based Classifier + GloVe Cosine Similarity"
   ]
  },
  {
   "cell_type": "code",
   "execution_count": 226,
   "id": "4605a42d",
   "metadata": {},
   "outputs": [
    {
     "name": "stdout",
     "output_type": "stream",
     "text": [
      "mkdir -p build\n",
      "\n",
      "$ build/vocab_count -min-count 1 -verbose 2 < corpus.txt > vocab.txt\n",
      "$ build/cooccur -memory 4.0 -vocab-file vocab.txt -verbose 2 -window-size 15 < corpus.txt > cooccurrence.bin\n",
      "$ build/shuffle -memory 4.0 -verbose 2 < cooccurrence.bin > cooccurrence.shuf.bin\n",
      "$ build/glove -save-file vectors -threads 8 -input-file cooccurrence.shuf.bin -x-max 10 -iter 15 -vector-size 50 -binary 2 -vocab-file vocab.txt -verbose 2\n"
     ]
    },
    {
     "name": "stderr",
     "output_type": "stream",
     "text": [
      "BUILDING VOCABULARY\n",
      "Processed 0 tokens.\u001b[0GProcessed 5667 tokens.\n",
      "Counted 913 unique words.\n",
      "Using vocabulary of size 913.\n",
      "\n",
      "COUNTING COOCCURRENCES\n",
      "window size: 15\n",
      "context: symmetric\n",
      "max product: 13752509\n",
      "overflow length: 38028356\n",
      "Reading vocab from file \"vocab.txt\"...loaded 913 words.\n",
      "Building lookup table...table contains 833570 elements.\n",
      "Processing token: 0\u001b[0GProcessed 5667 tokens.\n",
      "Writing cooccurrences to disk......2 files in total.\n",
      "Merging cooccurrence files: processed 0 lines.\u001b[39G0 lines.\u001b[0GMerging cooccurrence files: processed 41873 lines.\n",
      "\n",
      "Using random seed 1631831623\n",
      "SHUFFLING COOCCURRENCES\n",
      "array size: 255013683\n",
      "Shuffling by chunks: processed 0 lines.\u001b[22Gprocessed 41873 lines.\n",
      "Wrote 1 temporary file(s).\n",
      "Merging temp files: processed 0 lines.\u001b[31G41873 lines.\u001b[0GMerging temp files: processed 41873 lines.\n",
      "\n",
      "TRAINING MODEL\n",
      "Read 41873 lines.\n",
      "Initializing parameters...Using random seed 1631831623\n",
      "done.\n",
      "vector size: 50\n",
      "vocab size: 913\n",
      "x_max: 10.000000\n",
      "alpha: 0.750000\n",
      "09/17/21 - 12:33.43AM, iter: 001, cost: 0.097031\n",
      "09/17/21 - 12:33.43AM, iter: 002, cost: 0.079028\n",
      "09/17/21 - 12:33.43AM, iter: 003, cost: 0.076718\n",
      "09/17/21 - 12:33.43AM, iter: 004, cost: 0.075303\n",
      "09/17/21 - 12:33.43AM, iter: 005, cost: 0.073310\n",
      "09/17/21 - 12:33.43AM, iter: 006, cost: 0.069703\n",
      "09/17/21 - 12:33.43AM, iter: 007, cost: 0.066217\n",
      "09/17/21 - 12:33.43AM, iter: 008, cost: 0.063266\n",
      "09/17/21 - 12:33.43AM, iter: 009, cost: 0.059962\n",
      "09/17/21 - 12:33.43AM, iter: 010, cost: 0.056541\n",
      "09/17/21 - 12:33.43AM, iter: 011, cost: 0.053538\n"
     ]
    },
    {
     "name": "stdout",
     "output_type": "stream",
     "text": [
      "Loading Glove Model\n",
      "Done. 914  words loaded!\n"
     ]
    },
    {
     "name": "stderr",
     "output_type": "stream",
     "text": [
      "09/17/21 - 12:33.43AM, iter: 012, cost: 0.050938\n",
      "09/17/21 - 12:33.43AM, iter: 013, cost: 0.048564\n",
      "09/17/21 - 12:33.43AM, iter: 014, cost: 0.046277\n",
      "09/17/21 - 12:33.43AM, iter: 015, cost: 0.044186\n"
     ]
    }
   ],
   "source": [
    "ranking = glove_ranker(requested_file, same_class)"
   ]
  },
  {
   "cell_type": "code",
   "execution_count": 227,
   "id": "81e52f2d",
   "metadata": {},
   "outputs": [
    {
     "data": {
      "text/plain": [
       "[('frontend_kibana-simple.log', 0.9869373920262485),\n",
       " ('deployment_kibana.txt', 0.5219551368017077),\n",
       " ('deployment_libvirt.txt', 0.4882631022121111),\n",
       " ('deployment_elasticsearch.txt', 0.45451328433087745),\n",
       " ('frontend_horizon.log', 0.4252221789783086),\n",
       " ('deployment_fluentd.txt', 0.4158212836023838),\n",
       " ('deployment_rabbitmq.txt', 0.3469646736070635),\n",
       " ('db_elasticsearch.log', 0.34378767956312883),\n",
       " ('db_mysql.log', 0.2898965094512713),\n",
       " ('deployment_prometheus.txt', 0.2622722895606535),\n",
       " ('deployment_mariadb.txt', 0.08546967847734321)]"
      ]
     },
     "execution_count": 227,
     "metadata": {},
     "output_type": "execute_result"
    }
   ],
   "source": [
    "ranking"
   ]
  },
  {
   "cell_type": "markdown",
   "id": "2b26e9e5",
   "metadata": {},
   "source": [
    "### T3.4 - Naive Bayes Classifier + LSI-based Jaccard Similarity"
   ]
  },
  {
   "cell_type": "code",
   "execution_count": 228,
   "id": "931ad334",
   "metadata": {},
   "outputs": [],
   "source": [
    "old_logs = df.loc[df['filename'] != requested_filename]"
   ]
  },
  {
   "cell_type": "code",
   "execution_count": 229,
   "id": "299a62fd",
   "metadata": {
    "scrolled": false
   },
   "outputs": [
    {
     "name": "stdout",
     "output_type": "stream",
     "text": [
      "MultinomialNB\n",
      "              precision    recall  f1-score   support\n",
      "\n",
      "     backend       1.00      1.00      1.00         1\n",
      "          db       1.00      1.00      1.00         1\n",
      "  deployment       1.00      1.00      1.00         3\n",
      "\n",
      "    accuracy                           1.00         5\n",
      "   macro avg       1.00      1.00      1.00         5\n",
      "weighted avg       1.00      1.00      1.00         5\n",
      "\n",
      "Accuracy: 1.0\n"
     ]
    },
    {
     "data": {
      "image/png": "[encoded data removed]",
      "text/plain": [
       "<Figure size 432x288 with 2 Axes>"
      ]
     },
     "metadata": {
      "needs_background": "light"
     },
     "output_type": "display_data"
    }
   ],
   "source": [
    "model, test_result = classify(old_logs, naive_bayes.MultinomialNB(), init_state)\n",
    "prediction = model.predict(request['data'])[0]"
   ]
  },
  {
   "cell_type": "code",
   "execution_count": 230,
   "id": "cdb535fe",
   "metadata": {},
   "outputs": [
    {
     "data": {
      "text/plain": [
       "'db'"
      ]
     },
     "execution_count": 230,
     "metadata": {},
     "output_type": "execute_result"
    }
   ],
   "source": [
    "prediction"
   ]
  },
  {
   "cell_type": "code",
   "execution_count": 231,
   "id": "b3c9d6de",
   "metadata": {},
   "outputs": [],
   "source": [
    "same_class = df.loc[df['type'] == prediction][df['filename'] != requested_filename]"
   ]
  },
  {
   "cell_type": "code",
   "execution_count": 232,
   "id": "a6b34091",
   "metadata": {},
   "outputs": [
    {
     "data": {
      "text/html": [
       "<div>\n",
       "<style scoped>\n",
       "    .dataframe tbody tr th:only-of-type {\n",
       "        vertical-align: middle;\n",
       "    }\n",
       "\n",
       "    .dataframe tbody tr th {\n",
       "        vertical-align: top;\n",
       "    }\n",
       "\n",
       "    .dataframe thead th {\n",
       "        text-align: right;\n",
       "    }\n",
       "</style>\n",
       "<table border=\"1\" class=\"dataframe\">\n",
       "  <thead>\n",
       "    <tr style=\"text-align: right;\">\n",
       "      <th></th>\n",
       "      <th>filename</th>\n",
       "      <th>data</th>\n",
       "      <th>#words</th>\n",
       "      <th>#lines</th>\n",
       "      <th>size (bytes)</th>\n",
       "      <th>type</th>\n",
       "      <th>LSI k topics</th>\n",
       "      <th>LSI k+1 topics</th>\n",
       "    </tr>\n",
       "  </thead>\n",
       "  <tbody>\n",
       "    <tr>\n",
       "      <th>0</th>\n",
       "      <td>db_mysql.log</td>\n",
       "      <td>[mysql, note, entrypoint, entrypoint, script, ...</td>\n",
       "      <td>884</td>\n",
       "      <td>76</td>\n",
       "      <td>10336</td>\n",
       "      <td>db</td>\n",
       "      <td>0</td>\n",
       "      <td>4</td>\n",
       "    </tr>\n",
       "    <tr>\n",
       "      <th>3</th>\n",
       "      <td>db_user-db.log</td>\n",
       "      <td>[control, initandlisten, mongodb, starting, pi...</td>\n",
       "      <td>230</td>\n",
       "      <td>25</td>\n",
       "      <td>2788</td>\n",
       "      <td>db</td>\n",
       "      <td>3</td>\n",
       "      <td>3</td>\n",
       "    </tr>\n",
       "    <tr>\n",
       "      <th>5</th>\n",
       "      <td>db_orders-db.log</td>\n",
       "      <td>[control, initandlisten, mongodb, starting, pi...</td>\n",
       "      <td>235</td>\n",
       "      <td>27</td>\n",
       "      <td>3034</td>\n",
       "      <td>db</td>\n",
       "      <td>3</td>\n",
       "      <td>3</td>\n",
       "    </tr>\n",
       "    <tr>\n",
       "      <th>6</th>\n",
       "      <td>db_carts-db.log</td>\n",
       "      <td>[control, initandlisten, mongodb, starting, pi...</td>\n",
       "      <td>238</td>\n",
       "      <td>27</td>\n",
       "      <td>3034</td>\n",
       "      <td>db</td>\n",
       "      <td>3</td>\n",
       "      <td>3</td>\n",
       "    </tr>\n",
       "    <tr>\n",
       "      <th>14</th>\n",
       "      <td>db_mariadb.log</td>\n",
       "      <td>[warning, failed, to, load, slave, replication...</td>\n",
       "      <td>2237</td>\n",
       "      <td>261</td>\n",
       "      <td>21927</td>\n",
       "      <td>db</td>\n",
       "      <td>1</td>\n",
       "      <td>1</td>\n",
       "    </tr>\n",
       "    <tr>\n",
       "      <th>15</th>\n",
       "      <td>db_elasticsearch.log</td>\n",
       "      <td>[info, node, version, pid, build, oss, deb, cc...</td>\n",
       "      <td>602</td>\n",
       "      <td>49</td>\n",
       "      <td>8172</td>\n",
       "      <td>db</td>\n",
       "      <td>0</td>\n",
       "      <td>0</td>\n",
       "    </tr>\n",
       "    <tr>\n",
       "      <th>20</th>\n",
       "      <td>db_mongo.log</td>\n",
       "      <td>[mongo, date, control, id, ctx, main, msg, aut...</td>\n",
       "      <td>1229</td>\n",
       "      <td>64</td>\n",
       "      <td>17045</td>\n",
       "      <td>db</td>\n",
       "      <td>3</td>\n",
       "      <td>3</td>\n",
       "    </tr>\n",
       "  </tbody>\n",
       "</table>\n",
       "</div>"
      ],
      "text/plain": [
       "                filename                                               data  \\\n",
       "0           db_mysql.log  [mysql, note, entrypoint, entrypoint, script, ...   \n",
       "3         db_user-db.log  [control, initandlisten, mongodb, starting, pi...   \n",
       "5       db_orders-db.log  [control, initandlisten, mongodb, starting, pi...   \n",
       "6        db_carts-db.log  [control, initandlisten, mongodb, starting, pi...   \n",
       "14        db_mariadb.log  [warning, failed, to, load, slave, replication...   \n",
       "15  db_elasticsearch.log  [info, node, version, pid, build, oss, deb, cc...   \n",
       "20          db_mongo.log  [mongo, date, control, id, ctx, main, msg, aut...   \n",
       "\n",
       "    #words  #lines  size (bytes) type  LSI k topics  LSI k+1 topics  \n",
       "0      884      76         10336   db             0               4  \n",
       "3      230      25          2788   db             3               3  \n",
       "5      235      27          3034   db             3               3  \n",
       "6      238      27          3034   db             3               3  \n",
       "14    2237     261         21927   db             1               1  \n",
       "15     602      49          8172   db             0               0  \n",
       "20    1229      64         17045   db             3               3  "
      ]
     },
     "execution_count": 232,
     "metadata": {},
     "output_type": "execute_result"
    }
   ],
   "source": [
    "same_class"
   ]
  },
  {
   "cell_type": "code",
   "execution_count": 233,
   "id": "7c2701d0",
   "metadata": {},
   "outputs": [
    {
     "name": "stdout",
     "output_type": "stream",
     "text": [
      "-----------TOPIC - KEYWORDS--------------\n",
      "[(0, [('use', 0.11853702275193555), ('start', 0.11853702275193555), ('initialize', 0.11853702275193555), ('size', 0.11853702275193555), ('set', 0.11853702275193555), ('version', 0.11853702275193555), ('log', 0.11853702275193555), ('file', 0.11853702275193555), ('enable', 0.11853702275193552), ('data', 0.11853702275193549), ('create', 0.11853702275193545), ('be', 0.11853702275193544), ('cache', 0.11853702275193524), ('connection', 0.104855112084894), ('wait', 0.1048551120848938), ('read', 0.1048551120848938), ('see', 0.1048551120848938), ('port', 0.1048551120848938), ('thread', 0.1048551120848938), ('warn', 0.09765394695518681)])]\n",
      "\n",
      "-----------TOPIC - DOCUMENT--------------\n",
      "[([(0, 8.110506948050263)], 'db_mysql.log'), ([(0, 5.561789059663067)], 'db_user-db.log'), ([(0, 5.865667563079305)], 'db_orders-db.log'), ([(0, 5.933753244987809)], 'db_carts-db.log'), ([(0, 12.608597193715934)], 'db_mariadb.log'), ([(0, 6.204582828776666)], 'db_elasticsearch.log'), ([(0, 9.470225077018556)], 'db_mongo.log')]\n"
     ]
    }
   ],
   "source": [
    "ranking, keywords = lsi_jaccard_ranker(requested_file, same_class)"
   ]
  },
  {
   "cell_type": "code",
   "execution_count": 234,
   "id": "1b400a57",
   "metadata": {},
   "outputs": [
    {
     "data": {
      "text/plain": [
       "[('db_orders-db.log', 0.12838541954845292),\n",
       " ('db_carts-db.log', 0.12676061948709957),\n",
       " ('db_user-db.log', 0.12197648880983858),\n",
       " ('db_elasticsearch.log', 0.10653076812729269),\n",
       " ('db_mysql.log', 0.10247622635063322),\n",
       " ('db_mariadb.log', 0.09892173311111815),\n",
       " ('db_mongo.log', 0.08134728093115588)]"
      ]
     },
     "execution_count": 234,
     "metadata": {},
     "output_type": "execute_result"
    }
   ],
   "source": [
    "ranking"
   ]
  },
  {
   "cell_type": "markdown",
   "id": "08250747",
   "metadata": {},
   "source": [
    "### T3.5 - Naive Bayes Classifier + TF-IDF Cosine Similarity"
   ]
  },
  {
   "cell_type": "code",
   "execution_count": 235,
   "id": "01d24cc6",
   "metadata": {
    "scrolled": true
   },
   "outputs": [
    {
     "data": {
      "text/plain": [
       "[('db_elasticsearch.log', 0.12628148330141353),\n",
       " ('db_orders-db.log', 0.04907638638855253),\n",
       " ('db_carts-db.log', 0.04890685480928268),\n",
       " ('db_mongo.log', 0.04172368317897728),\n",
       " ('db_user-db.log', 0.031152881380636023),\n",
       " ('db_mysql.log', 0.02430220400382984),\n",
       " ('db_mariadb.log', 0.023386295459889246)]"
      ]
     },
     "execution_count": 235,
     "metadata": {},
     "output_type": "execute_result"
    }
   ],
   "source": [
    "tfidf_ranker(requested_file, same_class)"
   ]
  },
  {
   "cell_type": "markdown",
   "id": "ed844794",
   "metadata": {},
   "source": [
    "### T3.6 - Naive Bayes Classifier + GloVe Cosine Similarity"
   ]
  },
  {
   "cell_type": "code",
   "execution_count": 236,
   "id": "c8ef2dac",
   "metadata": {},
   "outputs": [
    {
     "name": "stdout",
     "output_type": "stream",
     "text": [
      "mkdir -p build\n",
      "\n",
      "$ build/vocab_count -min-count 1 -verbose 2 < corpus.txt > vocab.txt\n",
      "$ build/cooccur -memory 4.0 -vocab-file vocab.txt -verbose 2 -window-size 15 < corpus.txt > cooccurrence.bin\n",
      "$ build/shuffle -memory 4.0 -verbose 2 < cooccurrence.bin > cooccurrence.shuf.bin\n",
      "$ build/glove -save-file vectors -threads 8 -input-file cooccurrence.shuf.bin -x-max 10 -iter 15 -vector-size 50 -binary 2 -vocab-file vocab.txt -verbose 2\n"
     ]
    },
    {
     "name": "stderr",
     "output_type": "stream",
     "text": [
      "BUILDING VOCABULARY\n",
      "Processed 0 tokens.\u001b[0GProcessed 6047 tokens.\n",
      "Counted 991 unique words.\n",
      "Using vocabulary of size 991.\n",
      "\n",
      "COUNTING COOCCURRENCES\n",
      "window size: 15\n",
      "context: symmetric\n",
      "max product: 13752509\n",
      "overflow length: 38028356\n",
      "Reading vocab from file \"vocab.txt\"...loaded 991 words.\n",
      "Building lookup table...table contains 982082 elements.\n",
      "Processing token: 0\u001b[0GProcessed 6047 tokens.\n",
      "Writing cooccurrences to disk......2 files in total.\n",
      "Merging cooccurrence files: processed 0 lines.\u001b[39G0 lines.\u001b[0GMerging cooccurrence files: processed 49629 lines.\n",
      "\n",
      "Using random seed 1631831624\n",
      "SHUFFLING COOCCURRENCES\n",
      "array size: 255013683\n",
      "Shuffling by chunks: processed 0 lines.\u001b[22Gprocessed 49629 lines.\n",
      "Wrote 1 temporary file(s).\n",
      "Merging temp files: processed 0 lines.\u001b[31G49629 lines.\u001b[0GMerging temp files: processed 49629 lines.\n",
      "\n",
      "TRAINING MODEL\n",
      "Read 49629 lines.\n",
      "Initializing parameters...Using random seed 1631831624\n",
      "done.\n",
      "vector size: 50\n",
      "vocab size: 991\n",
      "x_max: 10.000000\n",
      "alpha: 0.750000\n",
      "09/17/21 - 12:33.44AM, iter: 001, cost: 0.090238\n",
      "09/17/21 - 12:33.44AM, iter: 002, cost: 0.078158\n",
      "09/17/21 - 12:33.44AM, iter: 003, cost: 0.075886\n",
      "09/17/21 - 12:33.44AM, iter: 004, cost: 0.074550\n",
      "09/17/21 - 12:33.44AM, iter: 005, cost: 0.073484\n",
      "09/17/21 - 12:33.44AM, iter: 006, cost: 0.072299\n",
      "09/17/21 - 12:33.44AM, iter: 007, cost: 0.070296\n",
      "09/17/21 - 12:33.44AM, iter: 008, cost: 0.067879\n"
     ]
    },
    {
     "name": "stdout",
     "output_type": "stream",
     "text": [
      "Loading Glove Model\n",
      "Done. 992  words loaded!\n"
     ]
    },
    {
     "name": "stderr",
     "output_type": "stream",
     "text": [
      "09/17/21 - 12:33.44AM, iter: 009, cost: 0.065588\n",
      "09/17/21 - 12:33.44AM, iter: 010, cost: 0.063377\n",
      "09/17/21 - 12:33.44AM, iter: 011, cost: 0.061195\n",
      "09/17/21 - 12:33.44AM, iter: 012, cost: 0.058981\n",
      "09/17/21 - 12:33.44AM, iter: 013, cost: 0.056529\n",
      "09/17/21 - 12:33.44AM, iter: 014, cost: 0.054035\n",
      "09/17/21 - 12:33.45AM, iter: 015, cost: 0.051583\n"
     ]
    }
   ],
   "source": [
    "ranking = glove_ranker(requested_file, same_class)"
   ]
  },
  {
   "cell_type": "code",
   "execution_count": 237,
   "id": "afa5d220",
   "metadata": {
    "scrolled": true
   },
   "outputs": [
    {
     "data": {
      "text/plain": [
       "[('db_elasticsearch.log', 0.7611621767300594),\n",
       " ('db_mariadb.log', 0.4268554787346108),\n",
       " ('db_mysql.log', 0.3718993994266848),\n",
       " ('db_user-db.log', 0.34002866524826536),\n",
       " ('db_orders-db.log', 0.21075122271483826),\n",
       " ('db_carts-db.log', 0.21039512507586378),\n",
       " ('db_mongo.log', 0.009779883049140903)]"
      ]
     },
     "execution_count": 237,
     "metadata": {},
     "output_type": "execute_result"
    }
   ],
   "source": [
    "ranking"
   ]
  },
  {
   "cell_type": "markdown",
   "id": "961d6340",
   "metadata": {},
   "source": [
    "### T3.47 - Decision Tree Classifier + LSI-based Jaccard Similarity"
   ]
  },
  {
   "cell_type": "code",
   "execution_count": 238,
   "id": "d8767260",
   "metadata": {},
   "outputs": [
    {
     "name": "stdout",
     "output_type": "stream",
     "text": [
      "DecisionTreeClassifier\n",
      "              precision    recall  f1-score   support\n",
      "\n",
      "     backend       1.00      1.00      1.00         1\n",
      "          db       0.00      0.00      0.00         1\n",
      "  deployment       1.00      0.67      0.80         3\n",
      "    frontend       0.00      0.00      0.00         0\n",
      "\n",
      "    accuracy                           0.60         5\n",
      "   macro avg       0.50      0.42      0.45         5\n",
      "weighted avg       0.80      0.60      0.68         5\n",
      "\n",
      "Accuracy: 0.6\n"
     ]
    },
    {
     "data": {
      "image/png": "[encoded data removed]",
      "text/plain": [
       "<Figure size 432x288 with 2 Axes>"
      ]
     },
     "metadata": {
      "needs_background": "light"
     },
     "output_type": "display_data"
    }
   ],
   "source": [
    "model, test_result = classify(old_logs, tree.DecisionTreeClassifier(max_depth=10), init_state)\n",
    "prediction = model.predict(request['data'])[0]"
   ]
  },
  {
   "cell_type": "code",
   "execution_count": 239,
   "id": "03e0ab69",
   "metadata": {},
   "outputs": [
    {
     "data": {
      "text/plain": [
       "'frontend'"
      ]
     },
     "execution_count": 239,
     "metadata": {},
     "output_type": "execute_result"
    }
   ],
   "source": [
    "prediction"
   ]
  },
  {
   "cell_type": "code",
   "execution_count": 240,
   "id": "fd6eb612",
   "metadata": {},
   "outputs": [],
   "source": [
    "same_class = df.loc[df['type'] == prediction][df['filename'] != requested_filename]"
   ]
  },
  {
   "cell_type": "code",
   "execution_count": 241,
   "id": "62dee72b",
   "metadata": {},
   "outputs": [
    {
     "data": {
      "text/html": [
       "<div>\n",
       "<style scoped>\n",
       "    .dataframe tbody tr th:only-of-type {\n",
       "        vertical-align: middle;\n",
       "    }\n",
       "\n",
       "    .dataframe tbody tr th {\n",
       "        vertical-align: top;\n",
       "    }\n",
       "\n",
       "    .dataframe thead th {\n",
       "        text-align: right;\n",
       "    }\n",
       "</style>\n",
       "<table border=\"1\" class=\"dataframe\">\n",
       "  <thead>\n",
       "    <tr style=\"text-align: right;\">\n",
       "      <th></th>\n",
       "      <th>filename</th>\n",
       "      <th>data</th>\n",
       "      <th>#words</th>\n",
       "      <th>#lines</th>\n",
       "      <th>size (bytes)</th>\n",
       "      <th>type</th>\n",
       "      <th>LSI k topics</th>\n",
       "      <th>LSI k+1 topics</th>\n",
       "    </tr>\n",
       "  </thead>\n",
       "  <tbody>\n",
       "    <tr>\n",
       "      <th>8</th>\n",
       "      <td>frontend_horizon.log</td>\n",
       "      <td>[wed, jun, wsgi, error, pid, tid, usr, lib, py...</td>\n",
       "      <td>437</td>\n",
       "      <td>20</td>\n",
       "      <td>4197</td>\n",
       "      <td>frontend</td>\n",
       "      <td>0</td>\n",
       "      <td>0</td>\n",
       "    </tr>\n",
       "    <tr>\n",
       "      <th>12</th>\n",
       "      <td>frontend_kibana-simple.log</td>\n",
       "      <td>[type, log, timestamp, tags, info, plugins, se...</td>\n",
       "      <td>577</td>\n",
       "      <td>22</td>\n",
       "      <td>5832</td>\n",
       "      <td>frontend</td>\n",
       "      <td>0</td>\n",
       "      <td>0</td>\n",
       "    </tr>\n",
       "  </tbody>\n",
       "</table>\n",
       "</div>"
      ],
      "text/plain": [
       "                      filename  \\\n",
       "8         frontend_horizon.log   \n",
       "12  frontend_kibana-simple.log   \n",
       "\n",
       "                                                 data  #words  #lines  \\\n",
       "8   [wed, jun, wsgi, error, pid, tid, usr, lib, py...     437      20   \n",
       "12  [type, log, timestamp, tags, info, plugins, se...     577      22   \n",
       "\n",
       "    size (bytes)      type  LSI k topics  LSI k+1 topics  \n",
       "8           4197  frontend             0               0  \n",
       "12          5832  frontend             0               0  "
      ]
     },
     "execution_count": 241,
     "metadata": {},
     "output_type": "execute_result"
    }
   ],
   "source": [
    "same_class"
   ]
  },
  {
   "cell_type": "code",
   "execution_count": 242,
   "id": "af526a70",
   "metadata": {},
   "outputs": [
    {
     "name": "stdout",
     "output_type": "stream",
     "text": [
      "-----------TOPIC - KEYWORDS--------------\n",
      "[(0, [('be', -0.08664979671356651), ('error', -0.08664979671356629), ('set', -0.08664979671356624), ('use', -0.08664979671356622), ('map', -0.08664979671356621), ('type', -0.0866497967135662), ('require', -0.0866497967135662), ('work', -0.08664979671356614), ('translation', -0.08014997118873468), ('vistypetimelion', -0.08014997118873463), ('connect', -0.08014997118873463), ('address', -0.08014997118873463), ('beatsmanagement', -0.08014997118873461), ('transmit', -0.08014997118873461), ('cloud', -0.0801499711887346), ('version', -0.0801499711887346), ('consoleextensions', -0.08014997118873458), ('config', -0.08014997118873457), ('centos', -0.08014997118873457), ('dashboardmode', -0.08014997118873457)])]\n",
      "\n",
      "-----------TOPIC - DOCUMENT--------------\n",
      "[([(0, -1.0051899989004653)], 'frontend_horizon.log'), ([(0, -12.395094167263796)], 'frontend_kibana-simple.log')]\n"
     ]
    }
   ],
   "source": [
    "ranking, keywords = lsi_jaccard_ranker(requested_file, same_class)"
   ]
  },
  {
   "cell_type": "code",
   "execution_count": 243,
   "id": "bec4b80b",
   "metadata": {},
   "outputs": [
    {
     "data": {
      "text/plain": [
       "[('frontend_kibana-simple.log', 0.28432154543411253),\n",
       " ('frontend_horizon.log', 0.06855029199551467)]"
      ]
     },
     "execution_count": 243,
     "metadata": {},
     "output_type": "execute_result"
    }
   ],
   "source": [
    "ranking"
   ]
  },
  {
   "cell_type": "markdown",
   "id": "4f797ed6",
   "metadata": {},
   "source": [
    "### T3.8 - Decision Tree Classifier + TF-IDF Cosine Similarity"
   ]
  },
  {
   "cell_type": "code",
   "execution_count": 244,
   "id": "59646253",
   "metadata": {},
   "outputs": [
    {
     "data": {
      "text/plain": [
       "[('frontend_kibana-simple.log', 0.5006276195072579),\n",
       " ('frontend_horizon.log', 0.054409208705341786)]"
      ]
     },
     "execution_count": 244,
     "metadata": {},
     "output_type": "execute_result"
    }
   ],
   "source": [
    "tfidf_ranker(requested_file, same_class)"
   ]
  },
  {
   "cell_type": "markdown",
   "id": "e1bc3f12",
   "metadata": {},
   "source": [
    "### T3.9 - Decision Tree Classifier + GloVe Cosine Similarity"
   ]
  },
  {
   "cell_type": "code",
   "execution_count": 245,
   "id": "3052d08e",
   "metadata": {},
   "outputs": [
    {
     "name": "stdout",
     "output_type": "stream",
     "text": [
      "mkdir -p build\n",
      "\n",
      "$ build/vocab_count -min-count 1 -verbose 2 < corpus.txt > vocab.txt\n",
      "$ build/cooccur -memory 4.0 -vocab-file vocab.txt -verbose 2 -window-size 15 < corpus.txt > cooccurrence.bin\n",
      "$ build/shuffle -memory 4.0 -verbose 2 < cooccurrence.bin > cooccurrence.shuf.bin\n",
      "$ build/glove -save-file vectors -threads 8 -input-file cooccurrence.shuf.bin -x-max 10 -iter 15 -vector-size 50 -binary 2 -vocab-file vocab.txt -verbose 2\n",
      "Loading Glove Model\n",
      "Done. 317  words loaded!\n"
     ]
    },
    {
     "name": "stderr",
     "output_type": "stream",
     "text": [
      "BUILDING VOCABULARY\n",
      "Processed 0 tokens.\u001b[0GProcessed 1406 tokens.\n",
      "Counted 316 unique words.\n",
      "Using vocabulary of size 316.\n",
      "\n",
      "COUNTING COOCCURRENCES\n",
      "window size: 15\n",
      "context: symmetric\n",
      "max product: 13752509\n",
      "overflow length: 38028356\n",
      "Reading vocab from file \"vocab.txt\"...loaded 316 words.\n",
      "Building lookup table...table contains 99857 elements.\n",
      "Processing token: 0\u001b[0GProcessed 1406 tokens.\n",
      "Writing cooccurrences to disk.....2 files in total.\n",
      "Merging cooccurrence files: processed 0 lines.\u001b[39G0 lines.\u001b[0GMerging cooccurrence files: processed 13757 lines.\n",
      "\n",
      "Using random seed 1631831625\n",
      "SHUFFLING COOCCURRENCES\n",
      "array size: 255013683\n",
      "Shuffling by chunks: processed 0 lines.\u001b[22Gprocessed 13757 lines.\n",
      "Wrote 1 temporary file(s).\n",
      "Merging temp files: processed 0 lines.\u001b[31G13757 lines.\u001b[0GMerging temp files: processed 13757 lines.\n",
      "\n",
      "TRAINING MODEL\n",
      "Read 13757 lines.\n",
      "Initializing parameters...Using random seed 1631831625\n",
      "done.\n",
      "vector size: 50\n",
      "vocab size: 316\n",
      "x_max: 10.000000\n",
      "alpha: 0.750000\n",
      "09/17/21 - 12:33.45AM, iter: 001, cost: 0.091443\n",
      "09/17/21 - 12:33.45AM, iter: 002, cost: 0.073505\n",
      "09/17/21 - 12:33.45AM, iter: 003, cost: 0.070648\n",
      "09/17/21 - 12:33.45AM, iter: 004, cost: 0.069457\n",
      "09/17/21 - 12:33.45AM, iter: 005, cost: 0.068618\n",
      "09/17/21 - 12:33.45AM, iter: 006, cost: 0.067721\n",
      "09/17/21 - 12:33.45AM, iter: 007, cost: 0.066640\n",
      "09/17/21 - 12:33.45AM, iter: 008, cost: 0.065201\n",
      "09/17/21 - 12:33.45AM, iter: 009, cost: 0.062607\n",
      "09/17/21 - 12:33.45AM, iter: 010, cost: 0.058946\n",
      "09/17/21 - 12:33.45AM, iter: 011, cost: 0.055251\n",
      "09/17/21 - 12:33.45AM, iter: 012, cost: 0.052116\n",
      "09/17/21 - 12:33.45AM, iter: 013, cost: 0.049500\n",
      "09/17/21 - 12:33.45AM, iter: 014, cost: 0.047252\n",
      "09/17/21 - 12:33.45AM, iter: 015, cost: 0.045304\n"
     ]
    }
   ],
   "source": [
    "ranking = glove_ranker(requested_file, same_class)"
   ]
  },
  {
   "cell_type": "code",
   "execution_count": 246,
   "id": "d0c2e022",
   "metadata": {},
   "outputs": [
    {
     "data": {
      "text/plain": [
       "[('frontend_kibana-simple.log', 0.9943877488347552),\n",
       " ('frontend_horizon.log', 0.15478253897861305)]"
      ]
     },
     "execution_count": 246,
     "metadata": {},
     "output_type": "execute_result"
    }
   ],
   "source": [
    "ranking"
   ]
  }
 ],
 "metadata": {
  "kernelspec": {
   "display_name": "Python 3 (ipykernel)",
   "language": "python",
   "name": "python3"
  },
  "language_info": {
   "codemirror_mode": {
    "name": "ipython",
    "version": 3
   },
   "file_extension": ".py",
   "mimetype": "text/x-python",
   "name": "python",
   "nbconvert_exporter": "python",
   "pygments_lexer": "ipython3",
   "version": "3.8.10"
  }
 },
 "nbformat": 4,
 "nbformat_minor": 5
}
