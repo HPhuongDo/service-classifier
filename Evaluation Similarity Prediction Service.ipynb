{
 "cells": [
  {
   "cell_type": "markdown",
   "id": "9da5bb7d",
   "metadata": {},
   "source": [
    "# Evaluation Similarity Prediction Measures"
   ]
  },
  {
   "cell_type": "code",
   "execution_count": 1,
   "id": "8a1383ea",
   "metadata": {},
   "outputs": [
    {
     "name": "stderr",
     "output_type": "stream",
     "text": [
      "/home/phuong/.local/lib/python3.8/site-packages/gensim/similarities/__init__.py:15: UserWarning: The gensim.similarities.levenshtein submodule is disabled, because the optional Levenshtein package <https://pypi.org/project/python-Levenshtein/> is unavailable. Install Levenhstein (e.g. `pip install python-Levenshtein`) to suppress this warning.\n",
      "  warnings.warn(msg)\n"
     ]
    }
   ],
   "source": [
    "from sklearn.feature_extraction.text import TfidfVectorizer\n",
    "from sklearn.metrics.pairwise import cosine_similarity\n",
    "\n",
    "import numpy as np\n",
    "import scipy.spatial\n",
    "import re\n",
    "\n",
    "import os.path\n",
    "import glob\n",
    "import nltk\n",
    "from nltk.stem import PorterStemmer\n",
    "from nltk.stem import WordNetLemmatizer\n",
    "from gensim import corpora\n",
    "from gensim.models import LsiModel\n",
    "from gensim.models.coherencemodel import CoherenceModel\n",
    "import matplotlib.pyplot as plt\n",
    "\n",
    "from sklearn.metrics import classification_report, accuracy_score\n",
    "import pandas as pd\n",
    "from sklearn.pipeline import Pipeline\n",
    "from sklearn.feature_extraction.text import CountVectorizer\n",
    "from sklearn.feature_extraction.text import TfidfTransformer\n",
    "from sklearn.model_selection import train_test_split\n",
    "\n",
    "from sklearn.tree import export_graphviz\n",
    "import graphviz\n",
    "import matplotlib.pyplot as plt\n",
    "from sklearn.metrics import plot_confusion_matrix\n",
    "\n",
    "import warnings\n",
    "warnings.filterwarnings('ignore')"
   ]
  },
  {
   "cell_type": "markdown",
   "id": "114a6127",
   "metadata": {},
   "source": [
    "## Data preparation\n",
    "1. Remove ASNI color codes\n",
    "2. Remove non-letter characters (including numbers and punctuation)\n",
    "3. Remove one-letter words\n",
    "4. Convert all to lower case\n",
    "5. Stem to the base form (optional)"
   ]
  },
  {
   "cell_type": "code",
   "execution_count": 2,
   "id": "c289e58f",
   "metadata": {},
   "outputs": [],
   "source": [
    "def data_preparation(log):\n",
    "    num_lines = log.count('\\n')+1\n",
    "    log = re.sub('\\\\x1b\\\\[[0-9;]*m',' ', log) # ANSI color codes\n",
    "    log = re.sub('[^a-zA-Z ]',' ', log) # non-letter characters\n",
    "    log = re.sub('\\\\b[\\\\w]{1}\\\\b',' ', log) # one-letter words\n",
    "    log = log.lower() # convert to lower case\n",
    "    log = ' '.join(log.split()) # create a string of words split by 1 space\n",
    "    log = log.split(' ')\n",
    "    return log, num_lines"
   ]
  },
  {
   "cell_type": "code",
   "execution_count": 3,
   "id": "605b8c4a",
   "metadata": {},
   "outputs": [],
   "source": [
    "df = pd.DataFrame()  ## list of log files with type\n",
    "allfiles = glob.glob('./logs/*')\n",
    "for logfile in allfiles:\n",
    "    f = open(logfile, 'r')\n",
    "    filename = os.path.basename(logfile)\n",
    "    content, num_lines = data_preparation(f.read())\n",
    "    words = len(content)\n",
    "    filesize = os.path.getsize(logfile)\n",
    "    data = [filename, content, words, num_lines, filesize, filename.split('_')[0]]\n",
    "    log = pd.DataFrame([data], columns=['filename', 'data', '#words', '#lines', 'size (bytes)', 'type'])\n",
    "    df = df.append(log, ignore_index=True)"
   ]
  },
  {
   "cell_type": "code",
   "execution_count": 4,
   "id": "69a9f419",
   "metadata": {},
   "outputs": [
    {
     "data": {
      "text/plain": [
       "{'backend', 'db', 'deployment', 'frontend'}"
      ]
     },
     "execution_count": 4,
     "metadata": {},
     "output_type": "execute_result"
    }
   ],
   "source": [
    "set(df['type'])"
   ]
  },
  {
   "cell_type": "code",
   "execution_count": 5,
   "id": "d8843dae",
   "metadata": {},
   "outputs": [
    {
     "data": {
      "text/html": [
       "<div>\n",
       "<style scoped>\n",
       "    .dataframe tbody tr th:only-of-type {\n",
       "        vertical-align: middle;\n",
       "    }\n",
       "\n",
       "    .dataframe tbody tr th {\n",
       "        vertical-align: top;\n",
       "    }\n",
       "\n",
       "    .dataframe thead th {\n",
       "        text-align: right;\n",
       "    }\n",
       "</style>\n",
       "<table border=\"1\" class=\"dataframe\">\n",
       "  <thead>\n",
       "    <tr style=\"text-align: right;\">\n",
       "      <th></th>\n",
       "      <th>filename</th>\n",
       "      <th>data</th>\n",
       "      <th>#words</th>\n",
       "      <th>#lines</th>\n",
       "      <th>size (bytes)</th>\n",
       "      <th>type</th>\n",
       "    </tr>\n",
       "  </thead>\n",
       "  <tbody>\n",
       "    <tr>\n",
       "      <th>0</th>\n",
       "      <td>db_mysql.log</td>\n",
       "      <td>[mysql, note, entrypoint, entrypoint, script, ...</td>\n",
       "      <td>884</td>\n",
       "      <td>76</td>\n",
       "      <td>10336</td>\n",
       "      <td>db</td>\n",
       "    </tr>\n",
       "    <tr>\n",
       "      <th>1</th>\n",
       "      <td>deployment_elasticsearch.txt</td>\n",
       "      <td>[sudo, kolla, set, configs, info, main, loadin...</td>\n",
       "      <td>161</td>\n",
       "      <td>25</td>\n",
       "      <td>2060</td>\n",
       "      <td>deployment</td>\n",
       "    </tr>\n",
       "    <tr>\n",
       "      <th>2</th>\n",
       "      <td>deployment_mariadb.txt</td>\n",
       "      <td>[sudo, kolla, set, configs, info, main, loadin...</td>\n",
       "      <td>1413</td>\n",
       "      <td>136</td>\n",
       "      <td>13294</td>\n",
       "      <td>deployment</td>\n",
       "    </tr>\n",
       "    <tr>\n",
       "      <th>3</th>\n",
       "      <td>db_user-db.log</td>\n",
       "      <td>[control, initandlisten, mongodb, starting, pi...</td>\n",
       "      <td>230</td>\n",
       "      <td>25</td>\n",
       "      <td>2788</td>\n",
       "      <td>db</td>\n",
       "    </tr>\n",
       "    <tr>\n",
       "      <th>4</th>\n",
       "      <td>deployment_prometheus.txt</td>\n",
       "      <td>[sudo, kolla, set, configs, info, main, loadin...</td>\n",
       "      <td>475</td>\n",
       "      <td>41</td>\n",
       "      <td>5325</td>\n",
       "      <td>deployment</td>\n",
       "    </tr>\n",
       "    <tr>\n",
       "      <th>5</th>\n",
       "      <td>db_orders-db.log</td>\n",
       "      <td>[control, initandlisten, mongodb, starting, pi...</td>\n",
       "      <td>227</td>\n",
       "      <td>26</td>\n",
       "      <td>2914</td>\n",
       "      <td>db</td>\n",
       "    </tr>\n",
       "    <tr>\n",
       "      <th>6</th>\n",
       "      <td>db_carts-db.log</td>\n",
       "      <td>[control, initandlisten, mongodb, starting, pi...</td>\n",
       "      <td>230</td>\n",
       "      <td>26</td>\n",
       "      <td>2915</td>\n",
       "      <td>db</td>\n",
       "    </tr>\n",
       "    <tr>\n",
       "      <th>7</th>\n",
       "      <td>frontend_kibana.log</td>\n",
       "      <td>[type, log, timestamp, tags, info, plugins, se...</td>\n",
       "      <td>392</td>\n",
       "      <td>16</td>\n",
       "      <td>4660</td>\n",
       "      <td>frontend</td>\n",
       "    </tr>\n",
       "    <tr>\n",
       "      <th>8</th>\n",
       "      <td>frontend_horizon.log</td>\n",
       "      <td>[wed, jun, wsgi, error, pid, tid, usr, lib, py...</td>\n",
       "      <td>437</td>\n",
       "      <td>20</td>\n",
       "      <td>4197</td>\n",
       "      <td>frontend</td>\n",
       "    </tr>\n",
       "    <tr>\n",
       "      <th>9</th>\n",
       "      <td>backend_queue-master.log</td>\n",
       "      <td>[spring, boot, release, info, main, queuemaste...</td>\n",
       "      <td>1466</td>\n",
       "      <td>45</td>\n",
       "      <td>16675</td>\n",
       "      <td>backend</td>\n",
       "    </tr>\n",
       "    <tr>\n",
       "      <th>10</th>\n",
       "      <td>backend_springboot.log</td>\n",
       "      <td>[application, version, snapshot, spring, boot,...</td>\n",
       "      <td>663</td>\n",
       "      <td>51</td>\n",
       "      <td>8884</td>\n",
       "      <td>backend</td>\n",
       "    </tr>\n",
       "    <tr>\n",
       "      <th>11</th>\n",
       "      <td>deployment_libvirt.txt</td>\n",
       "      <td>[sudo, kolla, set, configs, info, main, loadin...</td>\n",
       "      <td>179</td>\n",
       "      <td>31</td>\n",
       "      <td>2276</td>\n",
       "      <td>deployment</td>\n",
       "    </tr>\n",
       "    <tr>\n",
       "      <th>12</th>\n",
       "      <td>frontend_kibana-simple.log</td>\n",
       "      <td>[type, log, timestamp, tags, info, plugins, se...</td>\n",
       "      <td>577</td>\n",
       "      <td>22</td>\n",
       "      <td>5832</td>\n",
       "      <td>frontend</td>\n",
       "    </tr>\n",
       "    <tr>\n",
       "      <th>13</th>\n",
       "      <td>backend_carts.log</td>\n",
       "      <td>[info, bootstrap, main, annotationconfigapplic...</td>\n",
       "      <td>418</td>\n",
       "      <td>24</td>\n",
       "      <td>5342</td>\n",
       "      <td>backend</td>\n",
       "    </tr>\n",
       "    <tr>\n",
       "      <th>14</th>\n",
       "      <td>db_mariadb.log</td>\n",
       "      <td>[warning, failed, to, load, slave, replication...</td>\n",
       "      <td>315</td>\n",
       "      <td>35</td>\n",
       "      <td>3004</td>\n",
       "      <td>db</td>\n",
       "    </tr>\n",
       "    <tr>\n",
       "      <th>15</th>\n",
       "      <td>db_elasticsearch.log</td>\n",
       "      <td>[info, node, version, pid, build, oss, deb, cc...</td>\n",
       "      <td>506</td>\n",
       "      <td>40</td>\n",
       "      <td>6798</td>\n",
       "      <td>db</td>\n",
       "    </tr>\n",
       "    <tr>\n",
       "      <th>16</th>\n",
       "      <td>deployment_kibana.txt</td>\n",
       "      <td>[sudo, kolla, set, configs, info, main, loadin...</td>\n",
       "      <td>144</td>\n",
       "      <td>22</td>\n",
       "      <td>1714</td>\n",
       "      <td>deployment</td>\n",
       "    </tr>\n",
       "    <tr>\n",
       "      <th>17</th>\n",
       "      <td>deployment_fluentd.txt</td>\n",
       "      <td>[sudo, kolla, set, configs, info, main, loadin...</td>\n",
       "      <td>188</td>\n",
       "      <td>32</td>\n",
       "      <td>2401</td>\n",
       "      <td>deployment</td>\n",
       "    </tr>\n",
       "    <tr>\n",
       "      <th>18</th>\n",
       "      <td>deployment_rabbitmq.txt</td>\n",
       "      <td>[sudo, kolla, set, configs, info, main, loadin...</td>\n",
       "      <td>215</td>\n",
       "      <td>32</td>\n",
       "      <td>2560</td>\n",
       "      <td>deployment</td>\n",
       "    </tr>\n",
       "    <tr>\n",
       "      <th>19</th>\n",
       "      <td>backend_orders.log</td>\n",
       "      <td>[info, bootstrap, main, annotationconfigapplic...</td>\n",
       "      <td>415</td>\n",
       "      <td>24</td>\n",
       "      <td>5355</td>\n",
       "      <td>backend</td>\n",
       "    </tr>\n",
       "    <tr>\n",
       "      <th>20</th>\n",
       "      <td>db_mongo.log</td>\n",
       "      <td>[mongo, date, control, id, ctx, main, msg, aut...</td>\n",
       "      <td>1229</td>\n",
       "      <td>64</td>\n",
       "      <td>17045</td>\n",
       "      <td>db</td>\n",
       "    </tr>\n",
       "    <tr>\n",
       "      <th>21</th>\n",
       "      <td>backend_shipping.log</td>\n",
       "      <td>[info, bootstrap, main, annotationconfigapplic...</td>\n",
       "      <td>1099</td>\n",
       "      <td>43</td>\n",
       "      <td>12742</td>\n",
       "      <td>backend</td>\n",
       "    </tr>\n",
       "  </tbody>\n",
       "</table>\n",
       "</div>"
      ],
      "text/plain": [
       "                        filename  \\\n",
       "0                   db_mysql.log   \n",
       "1   deployment_elasticsearch.txt   \n",
       "2         deployment_mariadb.txt   \n",
       "3                 db_user-db.log   \n",
       "4      deployment_prometheus.txt   \n",
       "5               db_orders-db.log   \n",
       "6                db_carts-db.log   \n",
       "7            frontend_kibana.log   \n",
       "8           frontend_horizon.log   \n",
       "9       backend_queue-master.log   \n",
       "10        backend_springboot.log   \n",
       "11        deployment_libvirt.txt   \n",
       "12    frontend_kibana-simple.log   \n",
       "13             backend_carts.log   \n",
       "14                db_mariadb.log   \n",
       "15          db_elasticsearch.log   \n",
       "16         deployment_kibana.txt   \n",
       "17        deployment_fluentd.txt   \n",
       "18       deployment_rabbitmq.txt   \n",
       "19            backend_orders.log   \n",
       "20                  db_mongo.log   \n",
       "21          backend_shipping.log   \n",
       "\n",
       "                                                 data  #words  #lines  \\\n",
       "0   [mysql, note, entrypoint, entrypoint, script, ...     884      76   \n",
       "1   [sudo, kolla, set, configs, info, main, loadin...     161      25   \n",
       "2   [sudo, kolla, set, configs, info, main, loadin...    1413     136   \n",
       "3   [control, initandlisten, mongodb, starting, pi...     230      25   \n",
       "4   [sudo, kolla, set, configs, info, main, loadin...     475      41   \n",
       "5   [control, initandlisten, mongodb, starting, pi...     227      26   \n",
       "6   [control, initandlisten, mongodb, starting, pi...     230      26   \n",
       "7   [type, log, timestamp, tags, info, plugins, se...     392      16   \n",
       "8   [wed, jun, wsgi, error, pid, tid, usr, lib, py...     437      20   \n",
       "9   [spring, boot, release, info, main, queuemaste...    1466      45   \n",
       "10  [application, version, snapshot, spring, boot,...     663      51   \n",
       "11  [sudo, kolla, set, configs, info, main, loadin...     179      31   \n",
       "12  [type, log, timestamp, tags, info, plugins, se...     577      22   \n",
       "13  [info, bootstrap, main, annotationconfigapplic...     418      24   \n",
       "14  [warning, failed, to, load, slave, replication...     315      35   \n",
       "15  [info, node, version, pid, build, oss, deb, cc...     506      40   \n",
       "16  [sudo, kolla, set, configs, info, main, loadin...     144      22   \n",
       "17  [sudo, kolla, set, configs, info, main, loadin...     188      32   \n",
       "18  [sudo, kolla, set, configs, info, main, loadin...     215      32   \n",
       "19  [info, bootstrap, main, annotationconfigapplic...     415      24   \n",
       "20  [mongo, date, control, id, ctx, main, msg, aut...    1229      64   \n",
       "21  [info, bootstrap, main, annotationconfigapplic...    1099      43   \n",
       "\n",
       "    size (bytes)        type  \n",
       "0          10336          db  \n",
       "1           2060  deployment  \n",
       "2          13294  deployment  \n",
       "3           2788          db  \n",
       "4           5325  deployment  \n",
       "5           2914          db  \n",
       "6           2915          db  \n",
       "7           4660    frontend  \n",
       "8           4197    frontend  \n",
       "9          16675     backend  \n",
       "10          8884     backend  \n",
       "11          2276  deployment  \n",
       "12          5832    frontend  \n",
       "13          5342     backend  \n",
       "14          3004          db  \n",
       "15          6798          db  \n",
       "16          1714  deployment  \n",
       "17          2401  deployment  \n",
       "18          2560  deployment  \n",
       "19          5355     backend  \n",
       "20         17045          db  \n",
       "21         12742     backend  "
      ]
     },
     "execution_count": 5,
     "metadata": {},
     "output_type": "execute_result"
    }
   ],
   "source": [
    "df"
   ]
  },
  {
   "cell_type": "code",
   "execution_count": 6,
   "id": "8d6275cf",
   "metadata": {},
   "outputs": [],
   "source": [
    "def names_logs(df):\n",
    "     return df['filename'].tolist(), df['data'].tolist()"
   ]
  },
  {
   "cell_type": "markdown",
   "id": "7f88e0c4",
   "metadata": {},
   "source": [
    "# Similarity Measures"
   ]
  },
  {
   "cell_type": "markdown",
   "id": "930b1d1d",
   "metadata": {},
   "source": [
    "Further preprocessing step: Stemmed nouns and verbs to base form"
   ]
  },
  {
   "cell_type": "code",
   "execution_count": 7,
   "id": "8cc60007",
   "metadata": {},
   "outputs": [],
   "source": [
    "def lemma_set(df):\n",
    "    ps = PorterStemmer()\n",
    "    lemmatizer = WordNetLemmatizer()\n",
    "    tagged_logs = [nltk.pos_tag(log) for log in df['data'].to_list()]\n",
    "    stemmed_logs = []\n",
    "    for tagged_log in tagged_logs:\n",
    "        stemmed_log = list(filter(lambda x: x[1].startswith('N') or x[1].startswith('V'), tagged_log))\n",
    "        #print([(pair[0], pair[1][0].lower()) for pair in stemmed_log])\n",
    "        stemmed_logs.append([lemmatizer.lemmatize(pair[0], pos=pair[1][0].lower()) for pair in stemmed_log])\n",
    "    set_logs = [set(log) for log in stemmed_logs]\n",
    "    #ordered_set_logs = [list(dict.fromkeys(log)) for log in stemmed_logs]\n",
    "    return df['filename'].to_list(), set_logs"
   ]
  },
  {
   "cell_type": "markdown",
   "id": "2ff3a622",
   "metadata": {},
   "source": [
    "## LSI-based Jaccard Similarity\n",
    "Input: A set of stemmed nouns and verbs"
   ]
  },
  {
   "cell_type": "markdown",
   "id": "c468558b",
   "metadata": {},
   "source": [
    "### Latent Semantic Indexing"
   ]
  },
  {
   "cell_type": "code",
   "execution_count": 8,
   "id": "f98f396f",
   "metadata": {},
   "outputs": [],
   "source": [
    "def prepare_corpus(files):\n",
    "    # Creating the term dictionary of our corpus, where every unique term is assigned an index\n",
    "    dictionary = corpora.Dictionary(files)\n",
    "    #dictionary.add_documents(files) # Update dictionary with new file\n",
    "    # Converting list of documents (corpus) into Document Term Matrix using dictionary prepared above\n",
    "    doc_term_matrix = [dictionary.doc2bow(doc) for doc in files]\n",
    "    # generate LDA model\n",
    "    return dictionary,doc_term_matrix\n",
    "\n",
    "def lsi(filenames, files, num_topics, num_keywords):\n",
    "    dictionary,doc_term_matrix = prepare_corpus(files)\n",
    "    # generate LSI model\n",
    "    lsimodel = LsiModel(doc_term_matrix, num_topics=num_topics, id2word=dictionary)  # train model\n",
    "    #model.add_documents(files)  # update model with new documents\n",
    "    topics = lsimodel.show_topics(num_topics=num_topics, num_words=num_keywords, formatted=False)\n",
    "    topics = topics\n",
    "    print(\"-----------TOPIC - KEYWORDS--------------\")\n",
    "    print(topics)    \n",
    "    \n",
    "    V = lsimodel[doc_term_matrix]\n",
    "    print(\"\\n-----------TOPIC - DOCUMENT--------------\")\n",
    "    topic_log = list(zip(V, filenames))\n",
    "    print(topic_log)\n",
    "    #topic_doc = []\n",
    "    #for doc, as_text in zip(V, filenames):\n",
    "        #topic_doc.append((doc, as_text))\n",
    "        #print(doc, as_text)\n",
    "    return topics, topic_log\n",
    "\n",
    "    # The sign is not important, although it keeps flipping from run to run"
   ]
  },
  {
   "cell_type": "markdown",
   "id": "3310ddff",
   "metadata": {},
   "source": [
    "### LSI-based Jaccard Similarity"
   ]
  },
  {
   "cell_type": "code",
   "execution_count": 9,
   "id": "0b806a40",
   "metadata": {},
   "outputs": [],
   "source": [
    "def lsi_jaccard_similarity(new_log, old_log, keywords):\n",
    "    common_words = new_log.intersection(old_log)\n",
    "    total_words = new_log.union(old_log)\n",
    "    common = len(common_words)\n",
    "    total = len(total_words)\n",
    "    for word in common_words:\n",
    "        for keyword in keywords:\n",
    "            if word == keyword[0]:\n",
    "                common += 1 + abs(keyword[1])\n",
    "                total += 1 + abs(keyword[1])\n",
    "    return common/total\n",
    "\n",
    "def lsi_jaccard_ranker(requested_df, old_dfs):\n",
    "    num_topics = 1  # number of topics\n",
    "    num_keywords = 20   # number of generated keywords\n",
    "    name, requested_log = lemma_set(requested_df)\n",
    "    names, old_logs = lemma_set(old_dfs)\n",
    "    topics, V = lsi(names, old_logs, num_topics, num_keywords)\n",
    "    keywords = topics[0][1]\n",
    "    ranking = []\n",
    "    for old_log in old_logs:\n",
    "        value = lsi_jaccard_similarity(requested_log[0], old_log, keywords)\n",
    "        ranking.append((names[old_logs.index(old_log)], value))\n",
    "    ranking.sort(key=lambda pair: pair[1], reverse=True)\n",
    "    return ranking, keywords"
   ]
  },
  {
   "cell_type": "markdown",
   "id": "159eee44",
   "metadata": {},
   "source": [
    "## TF-IDF Cosine Similarity"
   ]
  },
  {
   "cell_type": "code",
   "execution_count": 10,
   "id": "f07f58e8",
   "metadata": {},
   "outputs": [],
   "source": [
    "def tfidf_similarity(file1, file2):\n",
    "    vectorizer = TfidfVectorizer(tokenizer=lambda x:x, preprocessor=lambda x:x)\n",
    "    # Generate matrix of word vectors\n",
    "    tfidf_matrix = vectorizer.fit_transform([file1, file2])\n",
    "    cosine_sim = cosine_similarity(tfidf_matrix, tfidf_matrix)\n",
    "    return cosine_sim[0][1]\n",
    "\n",
    "def tfidf_ranker(requested_df, old_dfs):\n",
    "    name, requested_log = names_logs(requested_df)\n",
    "    names, old_logs = names_logs(old_dfs)\n",
    "    ranking = []\n",
    "    for old_log in old_logs:\n",
    "        value = tfidf_similarity(requested_log[0], old_log)\n",
    "        ranking.append((names[old_logs.index(old_log)], value))\n",
    "    ranking.sort(key=lambda pair: pair[1], reverse=True)\n",
    "    return ranking"
   ]
  },
  {
   "cell_type": "markdown",
   "id": "40c933b5",
   "metadata": {},
   "source": [
    "## GloVe Cosine Similarity"
   ]
  },
  {
   "cell_type": "code",
   "execution_count": 11,
   "id": "3d536a13",
   "metadata": {},
   "outputs": [],
   "source": [
    "def loadGloveModel(gloveFile):\n",
    "    print (\"Loading Glove Model\")\n",
    "    with open(gloveFile, encoding=\"utf8\" ) as f:\n",
    "        content = f.readlines()\n",
    "    model = {}\n",
    "    for line in content:\n",
    "        splitLine = line.split()\n",
    "        word = splitLine[0]\n",
    "        embedding = np.array([float(val) for val in splitLine[1:]])\n",
    "        model[word] = embedding\n",
    "    print (\"Done.\",len(model),\" words loaded!\")\n",
    "    return model\n",
    "\n",
    "def glove_similarity(model, file1, file2):\n",
    "    vector_1 = np.mean([model.get(word, np.zeros(50)) for word in file1],axis=0)\n",
    "    vector_2 = np.mean([model.get(word, np.zeros(50)) for word in file2],axis=0)\n",
    "    cosine = scipy.spatial.distance.cosine(vector_1, vector_2)\n",
    "    return abs(1-cosine)\n",
    "\n",
    "def glove_ranker(requested_df, old_dfs):\n",
    "    name, requested_log = names_logs(requested_df)\n",
    "    names, old_logs = names_logs(old_dfs)\n",
    "    # Write corpus for GloVe training\n",
    "    flattened_logs = [y for x in requested_log+old_logs for y in x]\n",
    "    corpus = ' '.join(flattened_logs)\n",
    "    with open('GloVe/corpus.txt', 'w') as f:\n",
    "        f.write(corpus)\n",
    "    os.system('cd GloVe/ ; ./glove.sh corpus.txt')\n",
    "    gloveFile = \"GloVe/vectors.txt\"\n",
    "    model = loadGloveModel(gloveFile)\n",
    "    \n",
    "    ranking = []\n",
    "    for old_log in old_logs:\n",
    "        value = glove_similarity(model, requested_log[0], old_log)\n",
    "        ranking.append((names[old_logs.index(old_log)], value))\n",
    "    ranking.sort(key=lambda pair: pair[1], reverse=True)\n",
    "    \n",
    "    os.remove('GloVe/vectors.bin')\n",
    "    os.remove('GloVe/vectors.txt')\n",
    "    return ranking"
   ]
  },
  {
   "cell_type": "markdown",
   "id": "0163e9cf",
   "metadata": {},
   "source": [
    "# Classifiers"
   ]
  },
  {
   "cell_type": "markdown",
   "id": "86c1d475",
   "metadata": {},
   "source": [
    "## LSI-based Classifier"
   ]
  },
  {
   "cell_type": "code",
   "execution_count": 12,
   "id": "86fe30f1",
   "metadata": {},
   "outputs": [],
   "source": [
    "def lsi_classifier(df, num_topics):\n",
    "    names, logs = names_logs(df)\n",
    "    num_keywords=20\n",
    "    topics, topics_logs = lsi(names, logs, num_topics, num_keywords)\n",
    "    max_log = []\n",
    "    for topic_log in topics_logs:\n",
    "        name = topic_log[1]\n",
    "        topic_weights = topic_log[0]\n",
    "        topic_weights.sort(key=lambda pair: abs(pair[1]), reverse=True)\n",
    "        max_topic = topic_weights[0]\n",
    "        max_log.append(max_topic[0])\n",
    "    return max_log"
   ]
  },
  {
   "cell_type": "markdown",
   "id": "e14fec6a",
   "metadata": {},
   "source": [
    "## Naive Bayes Classifier and Decision Tree Classifier"
   ]
  },
  {
   "cell_type": "code",
   "execution_count": 13,
   "id": "62071ebd",
   "metadata": {},
   "outputs": [],
   "source": [
    "def report(classifier, actual, predictions):\n",
    "    print(classifier)\n",
    "    actual = np.array(actual)\n",
    "    print(classification_report(actual, predictions))\n",
    "    print(\"Accuracy: \" + str(round(accuracy_score(actual, predictions),2)))\n",
    "    \n",
    "def classify(df, algorithm, init_state):\n",
    "    X_train, X_test, y_train, y_test = train_test_split(df['data'], df['type'], test_size=0.2, random_state=init_state)\n",
    "    #train\n",
    "    model = Pipeline([('tfidf', TfidfVectorizer(tokenizer=lambda x:x, preprocessor=lambda x:x)), ('clf', algorithm)])\n",
    "    model.fit(X_train, y_train)\n",
    "    #test\n",
    "    predictions = model.predict(X_test.sort_index())\n",
    "    test_result = df[df.index.isin(X_test.index)]\n",
    "    test_result[(str(algorithm).split('(')[0])] = predictions\n",
    "    report((str(algorithm).split('(')[0]), y_test.sort_index(), predictions)\n",
    "    \n",
    "    plot_confusion_matrix(model, X_test, y_test)\n",
    "    plt.show()\n",
    "    return model, test_result"
   ]
  },
  {
   "cell_type": "markdown",
   "id": "c93d7fee",
   "metadata": {},
   "source": [
    "# Evaluation"
   ]
  },
  {
   "cell_type": "markdown",
   "id": "a781e44b",
   "metadata": {},
   "source": [
    "## T1 - Validation of Classifiers"
   ]
  },
  {
   "cell_type": "markdown",
   "id": "3599879c",
   "metadata": {},
   "source": [
    "### T1.1 - LSI-based Classifier test: Cluster dataframe into k and k+1 topics"
   ]
  },
  {
   "cell_type": "code",
   "execution_count": 14,
   "id": "61f273f2",
   "metadata": {},
   "outputs": [
    {
     "name": "stdout",
     "output_type": "stream",
     "text": [
      "-----------TOPIC - KEYWORDS--------------\n",
      "[(0, [('mysql', 0.5293386131032192), ('for', 0.3564079054954249), ('info', 0.34620384633283), ('main', 0.3369143956552586), ('var', 0.28705056471301954), ('setting', 0.2690068213279265), ('lib', 0.26796021462502884), ('permission', 0.267809250442426), ('frm', 0.07359389709341271), ('myd', 0.05934991701081677), ('myi', 0.05934991701081677), ('not', 0.05203543652008563), ('eligible', 0.05033835931771029), ('class', 0.048488161200691174), ('bean', 0.04695452640074286), ('log', 0.045818964468212736), ('org', 0.04496626442355159), ('springframework', 0.04325796165566054), ('kolla', 0.03685319925771406), ('time', 0.0361778126942728)]), (1, [('mysql', 0.2761953115351446), ('for', -0.2717585869647342), ('class', -0.2632977914478246), ('not', -0.253562695701347), ('eligible', -0.2531702942769631), ('bean', -0.2457507600006731), ('org', -0.22922694779473307), ('springframework', -0.22134866448240204), ('false', -0.1536995142329574), ('var', 0.1409619292287537), ('is', -0.13581373947026457), ('setting', 0.13394894904537347), ('permission', 0.1339469336736686), ('lib', 0.13246709397066173), ('type', -0.13172775809420764), ('by', -0.13119591312193857), ('of', -0.13063072437777482), ('beanpostprocessorchecker', -0.12658514713848154), ('beanpostprocessors', -0.12658514713848154), ('trationdelegate', -0.12658514713848154)]), (2, [('msg', -0.3731312059349093), ('id', -0.3587725647714088), ('date', -0.35197999595093393), ('mongo', -0.3472936315393169), ('ctx', -0.3472936315393169), ('attr', -0.29845546460410055), ('initandlisten', -0.2558023325246205), ('storage', -0.21969246531654782), ('acquirecount', -0.10852925985603668), ('command', -0.10433460723262684), ('starting', -0.08872320159277), ('message', -0.08483288614897999), ('recovery', -0.0783347253986119), ('wiredtiger', -0.07814940623341032), ('database', -0.07173728358289178), ('db', -0.07163986263945246), ('config', -0.07159076068014451), ('uuid', -0.06518306595649245), ('collection', -0.06511755591362195), ('system', -0.0616062699505222)]), (3, [('note', 0.4956605250299599), ('my', 0.4831552606797758), ('innodb', 0.3377705248660766), ('mysql', 0.3255269381215073), ('server', 0.261379850714486), ('info', -0.16295091454196045), ('main', -0.14625228049137462), ('permission', -0.13234836902813), ('lib', -0.12136628621213462), ('setting', -0.11686474975982611), ('var', -0.11123889947041292), ('to', 0.097477747053696), ('using', 0.08460494279457427), ('is', 0.07802677711433803), ('mysqld', 0.07457117357618032), ('of', 0.06898197965978846), ('in', 0.06173202931130331), ('plugin', 0.06100297087296631), ('buffer', 0.05760676558614172), ('data', 0.050816818217212095)])]\n",
      "\n",
      "-----------TOPIC - DOCUMENT--------------\n",
      "[([(0, 61.69806386409258), (1, 18.927346615094987), (2, -7.95964290669711), (3, 135.01828127867157)], 'db_mysql.log'), ([(0, 14.163791199791536), (1, -0.25836448436520704), (2, -1.3186744964050452), (3, -4.739881995411758)], 'deployment_elasticsearch.txt'), ([(0, 366.4938944048078), (1, 71.86967586391266), (2, 3.931522978042478), (3, -22.67442685162219)], 'deployment_mariadb.txt'), ([(0, 2.6692069257367343), (1, -3.799875442639866), (2, -12.306381977139152), (3, 1.7060049153168417)], 'db_user-db.log'), ([(0, 24.5612229062442), (1, -4.6134696891188325), (2, -9.717899185715973), (3, -9.926482131968921)], 'deployment_prometheus.txt'), ([(0, 2.6524676023666673), (1, -3.3799140973321036), (2, -13.48352128995054), (3, 1.456504829739228)], 'db_orders-db.log'), ([(0, 2.652214775000616), (1, -3.3854497413706377), (2, -13.502271984312351), (3, 1.4603643777330848)], 'db_carts-db.log'), ([(0, 5.835799430335946), (1, -4.160723529165366), (2, -4.252015955168246), (3, 0.8444644853929988)], 'frontend_kibana.log'), ([(0, 4.150077908074602), (1, -1.7887257213157801), (2, -1.098164598715411), (3, 3.746182756903657)], 'frontend_horizon.log'), ([(0, 75.27051722786906), (1, -164.6336204844067), (2, 11.664148908420808), (3, 5.73879962874394)], 'backend_queue-master.log'), ([(0, 48.30663280207406), (1, -69.4793026494706), (2, 3.0145991687738007), (3, -3.13640422817802)], 'backend_springboot.log'), ([(0, 14.674611870314514), (1, 0.08175545644675491), (2, -1.727937766467432), (3, -5.233883856175901)], 'deployment_libvirt.txt'), ([(0, 7.41235329519063), (1, -7.734480617767969), (2, -6.801631235082206), (3, 4.988204689765863)], 'frontend_kibana-simple.log'), ([(0, 20.083368967784313), (1, -36.89654404907599), (2, 1.403757493424764), (3, -0.7039917662975579)], 'backend_carts.log'), ([(0, 10.333665925425956), (1, 1.6544623731591763), (2, -2.8946294941428015), (3, 28.56398158401954)], 'db_mariadb.log'), ([(0, 16.679131799335792), (1, -5.032505366744982), (2, -2.157134235143845), (3, -5.53082300540295)], 'db_elasticsearch.log'), ([(0, 10.019394370485902), (1, -0.2742733212987831), (2, -1.6232040376553698), (3, -3.8057980775558)], 'deployment_kibana.txt'), ([(0, 15.020374825479651), (1, 1.1654973773671449), (2, -1.5889483750999556), (3, -5.574753180921363)], 'deployment_fluentd.txt'), ([(0, 22.605641289213015), (1, 0.0891670166722016), (2, -1.4753322257917871), (3, -7.541345176804113)], 'deployment_rabbitmq.txt'), ([(0, 20.092165891113392), (1, -36.86837965395345), (2, 1.3269749611597332), (3, -0.7170748189001768)], 'backend_orders.log'), ([(0, 11.29774913147283), (1, -16.903052222957328), (2, -178.68419229463726), (3, -6.258513060751248)], 'db_mongo.log'), ([(0, 70.36712013621784), (1, -139.3194542602992), (2, 8.481236120876813), (3, 2.9261041784948163)], 'backend_shipping.log')]\n",
      "-----------TOPIC - KEYWORDS--------------\n",
      "[(0, [('mysql', 0.5293386131032197), ('for', 0.35640790549542445), ('info', 0.3462038463328302), ('main', 0.3369143956552588), ('var', 0.28705056471301865), ('setting', 0.26900682132792697), ('lib', 0.2679602146250288), ('permission', 0.26780925044242626), ('frm', 0.07359389709341245), ('myd', 0.059349917010816766), ('myi', 0.059349917010816766), ('not', 0.05203543652008563), ('eligible', 0.05033835931771009), ('class', 0.0484881612006914), ('bean', 0.04695452640074292), ('log', 0.04581896446821302), ('org', 0.04496626442355133), ('springframework', 0.04325796165566051), ('kolla', 0.036853199257714), ('time', 0.03617781269427297)]), (1, [('mysql', 0.2761953115351444), ('for', -0.27175858696473487), ('class', -0.26329779144782406), ('not', -0.25356269570134693), ('eligible', -0.25317029427696325), ('bean', -0.24575076000067314), ('org', -0.22922694779473332), ('springframework', -0.22134866448240206), ('false', -0.15369951423295716), ('var', 0.14096192922875342), ('is', -0.13581373947026454), ('setting', 0.13394894904537347), ('permission', 0.1339469336736688), ('lib', 0.1324670939706615), ('type', -0.13172775809420775), ('by', -0.13119591312193887), ('of', -0.13063072437777518), ('getting', -0.12658514713848162), ('example', -0.12658514713848162), ('processed', -0.12658514713848162)]), (2, [('msg', -0.3731312059349096), ('id', -0.3587725647714087), ('date', -0.35197999595093404), ('mongo', -0.34729363153931697), ('ctx', -0.34729363153931697), ('attr', -0.29845546460410055), ('initandlisten', -0.2558023325246199), ('storage', -0.2196924653165476), ('acquirecount', -0.10852925985603656), ('command', -0.10433460723262675), ('starting', -0.08872320159277033), ('message', -0.08483288614898023), ('recovery', -0.07833472539861207), ('wiredtiger', -0.07814940623341025), ('database', -0.07173728358289189), ('db', -0.07163986263945238), ('config', -0.07159076068014447), ('uuid', -0.0651830659564925), ('collection', -0.06511755591362195), ('system', -0.061606269950522305)]), (3, [('note', 0.49566052502995994), ('my', 0.4831552606797756), ('innodb', 0.33777052486607717), ('mysql', 0.3255269381215073), ('server', 0.2613798507144856), ('info', -0.16295091454196076), ('main', -0.14625228049137465), ('permission', -0.1323483690281301), ('lib', -0.12136628621213474), ('setting', -0.11686474975982636), ('var', -0.1112388994704128), ('to', 0.09747774705369594), ('using', 0.08460494279457423), ('is', 0.07802677711433764), ('mysqld', 0.07457117357618061), ('of', 0.06898197965978825), ('in', 0.0617320293113031), ('plugin', 0.06100297087296635), ('buffer', 0.05760676558614192), ('data', 0.05081681821721203)]), (4, [('pid', 0.27529813241994544), ('info', 0.2609288016644151), ('log', 0.25045526102348187), ('type', 0.22099083249955426), ('class', -0.2049997034775022), ('tags', 0.20322750530704803), ('timestamp', 0.1988074630885863), ('message', 0.19299853262771155), ('mysql', -0.17750558056071888), ('false', -0.1636681645870343), ('config', 0.15912119305579825), ('kolla', 0.13030009866950368), ('plugins', 0.1258519614188208), ('to', 0.1253146181736533), ('null', -0.11428921992238893), ('kibana', 0.1125337337122706), ('elasticsearch', 0.10655806635811028), ('is', 0.10525937253674199), ('bean', -0.10245357626446155), ('error', 0.10196658902064862)])]\n",
      "\n",
      "-----------TOPIC - DOCUMENT--------------\n",
      "[([(0, 61.69806386409248), (1, 18.927346615094866), (2, -7.959642906697041), (3, 135.0182812786714), (4, 1.0984959762461723)], 'db_mysql.log'), ([(0, 14.163791199791518), (1, -0.2583644843652129), (2, -1.3186744964050432), (3, -4.739881995411749), (4, 10.738932662951798)], 'deployment_elasticsearch.txt'), ([(0, 366.4938944048074), (1, 71.86967586391239), (2, 3.931522978042375), (3, -22.674426851622123), (4, -7.029428235029159)], 'deployment_mariadb.txt'), ([(0, 2.6692069257367335), (1, -3.7998754426398516), (2, -12.306381977139111), (3, 1.7060049153168564), (4, 3.5495664912085183)], 'db_user-db.log'), ([(0, 24.561222906244172), (1, -4.613469689118856), (2, -9.717899185715986), (3, -9.926482131968896), (4, 25.994360836916172)], 'deployment_prometheus.txt'), ([(0, 2.652467602366667), (1, -3.379914097332088), (2, -13.483521289950504), (3, 1.456504829739247), (4, 4.275353202798891)], 'db_orders-db.log'), ([(0, 2.6522147750006155), (1, -3.3854497413706217), (2, -13.502271984312317), (3, 1.4603643777331037), (4, 4.230269576647498)], 'db_carts-db.log'), ([(0, 5.835799430335959), (1, -4.160723529165364), (2, -4.25201595516828), (3, 0.8444644853929982), (4, 32.649681489715796)], 'frontend_kibana.log'), ([(0, 4.1500779080746), (1, -1.7887257213158423), (2, -1.0981645987154243), (3, 3.7461827569036408), (4, 24.05645328165132)], 'frontend_horizon.log'), ([(0, 75.27051722786892), (1, -164.6336204844064), (2, 11.66414890842076), (3, 5.738799628743747), (4, -29.818159047678463)], 'backend_queue-master.log'), ([(0, 48.30663280207398), (1, -69.47930264947063), (2, 3.014599168773758), (3, -3.136404228178068), (4, 23.579182660870586)], 'backend_springboot.log'), ([(0, 14.674611870314497), (1, 0.08175545644675007), (2, -1.7279377664674334), (3, -5.233883856175889), (4, 12.079725267507456)], 'deployment_libvirt.txt'), ([(0, 7.412353295190653), (1, -7.734480617767968), (2, -6.801631235082255), (3, 4.988204689765866), (4, 48.13826198641186)], 'frontend_kibana-simple.log'), ([(0, 20.08336896778429), (1, -36.89654404907597), (2, 1.4037574934247492), (3, -0.7039917662976034), (4, 1.2334357963570524)], 'backend_carts.log'), ([(0, 10.333665925425938), (1, 1.6544623731591361), (2, -2.8946294941427886), (3, 28.563981584019523), (4, 5.8148479444222305)], 'db_mariadb.log'), ([(0, 16.679131799335746), (1, -5.032505366744962), (2, -2.157134235143827), (3, -5.530823005402922), (4, 19.570206516216608)], 'db_elasticsearch.log'), ([(0, 10.019394370485884), (1, -0.2742733212987867), (2, -1.623204037655371), (3, -3.8057980775557887), (4, 11.989624650990802)], 'deployment_kibana.txt'), ([(0, 15.020374825479625), (1, 1.165497377367134), (2, -1.5889483750999596), (3, -5.574753180921346), (4, 12.08959330541885)], 'deployment_fluentd.txt'), ([(0, 22.605641289212986), (1, 0.08916701667218964), (2, -1.4753322257917971), (3, -7.541345176804099), (4, 12.688557575310508)], 'deployment_rabbitmq.txt'), ([(0, 20.092165891113368), (1, -36.868379653953426), (2, 1.3269749611597186), (3, -0.7170748189002231), (4, 1.2863230208683936)], 'backend_orders.log'), ([(0, 11.297749131472733), (1, -16.90305222295725), (2, -178.68419229463706), (3, -6.258513060750951), (4, -6.950577097637135)], 'db_mongo.log'), ([(0, 70.36712013621774), (1, -139.31945426029918), (2, 8.481236120876757), (3, 2.9261041784946933), (4, 14.490738018669598)], 'backend_shipping.log')]\n"
     ]
    }
   ],
   "source": [
    "k = len(set(df['type']))\n",
    "\n",
    "df['LSI k topics'] = lsi_classifier(df, k)\n",
    "df['LSI k+1 topics'] = lsi_classifier(df, k+1)"
   ]
  },
  {
   "cell_type": "code",
   "execution_count": 15,
   "id": "8aabae81",
   "metadata": {},
   "outputs": [
    {
     "data": {
      "text/html": [
       "<div>\n",
       "<style scoped>\n",
       "    .dataframe tbody tr th:only-of-type {\n",
       "        vertical-align: middle;\n",
       "    }\n",
       "\n",
       "    .dataframe tbody tr th {\n",
       "        vertical-align: top;\n",
       "    }\n",
       "\n",
       "    .dataframe thead th {\n",
       "        text-align: right;\n",
       "    }\n",
       "</style>\n",
       "<table border=\"1\" class=\"dataframe\">\n",
       "  <thead>\n",
       "    <tr style=\"text-align: right;\">\n",
       "      <th></th>\n",
       "      <th>filename</th>\n",
       "      <th>data</th>\n",
       "      <th>#words</th>\n",
       "      <th>#lines</th>\n",
       "      <th>size (bytes)</th>\n",
       "      <th>type</th>\n",
       "      <th>LSI k topics</th>\n",
       "      <th>LSI k+1 topics</th>\n",
       "    </tr>\n",
       "  </thead>\n",
       "  <tbody>\n",
       "    <tr>\n",
       "      <th>10</th>\n",
       "      <td>backend_springboot.log</td>\n",
       "      <td>[application, version, snapshot, spring, boot,...</td>\n",
       "      <td>663</td>\n",
       "      <td>51</td>\n",
       "      <td>8884</td>\n",
       "      <td>backend</td>\n",
       "      <td>1</td>\n",
       "      <td>1</td>\n",
       "    </tr>\n",
       "    <tr>\n",
       "      <th>19</th>\n",
       "      <td>backend_orders.log</td>\n",
       "      <td>[info, bootstrap, main, annotationconfigapplic...</td>\n",
       "      <td>415</td>\n",
       "      <td>24</td>\n",
       "      <td>5355</td>\n",
       "      <td>backend</td>\n",
       "      <td>1</td>\n",
       "      <td>1</td>\n",
       "    </tr>\n",
       "    <tr>\n",
       "      <th>13</th>\n",
       "      <td>backend_carts.log</td>\n",
       "      <td>[info, bootstrap, main, annotationconfigapplic...</td>\n",
       "      <td>418</td>\n",
       "      <td>24</td>\n",
       "      <td>5342</td>\n",
       "      <td>backend</td>\n",
       "      <td>1</td>\n",
       "      <td>1</td>\n",
       "    </tr>\n",
       "    <tr>\n",
       "      <th>9</th>\n",
       "      <td>backend_queue-master.log</td>\n",
       "      <td>[spring, boot, release, info, main, queuemaste...</td>\n",
       "      <td>1466</td>\n",
       "      <td>45</td>\n",
       "      <td>16675</td>\n",
       "      <td>backend</td>\n",
       "      <td>1</td>\n",
       "      <td>1</td>\n",
       "    </tr>\n",
       "    <tr>\n",
       "      <th>21</th>\n",
       "      <td>backend_shipping.log</td>\n",
       "      <td>[info, bootstrap, main, annotationconfigapplic...</td>\n",
       "      <td>1099</td>\n",
       "      <td>43</td>\n",
       "      <td>12742</td>\n",
       "      <td>backend</td>\n",
       "      <td>1</td>\n",
       "      <td>1</td>\n",
       "    </tr>\n",
       "    <tr>\n",
       "      <th>5</th>\n",
       "      <td>db_orders-db.log</td>\n",
       "      <td>[control, initandlisten, mongodb, starting, pi...</td>\n",
       "      <td>227</td>\n",
       "      <td>26</td>\n",
       "      <td>2914</td>\n",
       "      <td>db</td>\n",
       "      <td>2</td>\n",
       "      <td>2</td>\n",
       "    </tr>\n",
       "    <tr>\n",
       "      <th>15</th>\n",
       "      <td>db_elasticsearch.log</td>\n",
       "      <td>[info, node, version, pid, build, oss, deb, cc...</td>\n",
       "      <td>506</td>\n",
       "      <td>40</td>\n",
       "      <td>6798</td>\n",
       "      <td>db</td>\n",
       "      <td>0</td>\n",
       "      <td>4</td>\n",
       "    </tr>\n",
       "    <tr>\n",
       "      <th>14</th>\n",
       "      <td>db_mariadb.log</td>\n",
       "      <td>[warning, failed, to, load, slave, replication...</td>\n",
       "      <td>315</td>\n",
       "      <td>35</td>\n",
       "      <td>3004</td>\n",
       "      <td>db</td>\n",
       "      <td>3</td>\n",
       "      <td>3</td>\n",
       "    </tr>\n",
       "    <tr>\n",
       "      <th>20</th>\n",
       "      <td>db_mongo.log</td>\n",
       "      <td>[mongo, date, control, id, ctx, main, msg, aut...</td>\n",
       "      <td>1229</td>\n",
       "      <td>64</td>\n",
       "      <td>17045</td>\n",
       "      <td>db</td>\n",
       "      <td>2</td>\n",
       "      <td>2</td>\n",
       "    </tr>\n",
       "    <tr>\n",
       "      <th>0</th>\n",
       "      <td>db_mysql.log</td>\n",
       "      <td>[mysql, note, entrypoint, entrypoint, script, ...</td>\n",
       "      <td>884</td>\n",
       "      <td>76</td>\n",
       "      <td>10336</td>\n",
       "      <td>db</td>\n",
       "      <td>3</td>\n",
       "      <td>3</td>\n",
       "    </tr>\n",
       "    <tr>\n",
       "      <th>6</th>\n",
       "      <td>db_carts-db.log</td>\n",
       "      <td>[control, initandlisten, mongodb, starting, pi...</td>\n",
       "      <td>230</td>\n",
       "      <td>26</td>\n",
       "      <td>2915</td>\n",
       "      <td>db</td>\n",
       "      <td>2</td>\n",
       "      <td>2</td>\n",
       "    </tr>\n",
       "    <tr>\n",
       "      <th>3</th>\n",
       "      <td>db_user-db.log</td>\n",
       "      <td>[control, initandlisten, mongodb, starting, pi...</td>\n",
       "      <td>230</td>\n",
       "      <td>25</td>\n",
       "      <td>2788</td>\n",
       "      <td>db</td>\n",
       "      <td>2</td>\n",
       "      <td>2</td>\n",
       "    </tr>\n",
       "    <tr>\n",
       "      <th>11</th>\n",
       "      <td>deployment_libvirt.txt</td>\n",
       "      <td>[sudo, kolla, set, configs, info, main, loadin...</td>\n",
       "      <td>179</td>\n",
       "      <td>31</td>\n",
       "      <td>2276</td>\n",
       "      <td>deployment</td>\n",
       "      <td>0</td>\n",
       "      <td>0</td>\n",
       "    </tr>\n",
       "    <tr>\n",
       "      <th>4</th>\n",
       "      <td>deployment_prometheus.txt</td>\n",
       "      <td>[sudo, kolla, set, configs, info, main, loadin...</td>\n",
       "      <td>475</td>\n",
       "      <td>41</td>\n",
       "      <td>5325</td>\n",
       "      <td>deployment</td>\n",
       "      <td>0</td>\n",
       "      <td>4</td>\n",
       "    </tr>\n",
       "    <tr>\n",
       "      <th>16</th>\n",
       "      <td>deployment_kibana.txt</td>\n",
       "      <td>[sudo, kolla, set, configs, info, main, loadin...</td>\n",
       "      <td>144</td>\n",
       "      <td>22</td>\n",
       "      <td>1714</td>\n",
       "      <td>deployment</td>\n",
       "      <td>0</td>\n",
       "      <td>4</td>\n",
       "    </tr>\n",
       "    <tr>\n",
       "      <th>17</th>\n",
       "      <td>deployment_fluentd.txt</td>\n",
       "      <td>[sudo, kolla, set, configs, info, main, loadin...</td>\n",
       "      <td>188</td>\n",
       "      <td>32</td>\n",
       "      <td>2401</td>\n",
       "      <td>deployment</td>\n",
       "      <td>0</td>\n",
       "      <td>0</td>\n",
       "    </tr>\n",
       "    <tr>\n",
       "      <th>18</th>\n",
       "      <td>deployment_rabbitmq.txt</td>\n",
       "      <td>[sudo, kolla, set, configs, info, main, loadin...</td>\n",
       "      <td>215</td>\n",
       "      <td>32</td>\n",
       "      <td>2560</td>\n",
       "      <td>deployment</td>\n",
       "      <td>0</td>\n",
       "      <td>0</td>\n",
       "    </tr>\n",
       "    <tr>\n",
       "      <th>1</th>\n",
       "      <td>deployment_elasticsearch.txt</td>\n",
       "      <td>[sudo, kolla, set, configs, info, main, loadin...</td>\n",
       "      <td>161</td>\n",
       "      <td>25</td>\n",
       "      <td>2060</td>\n",
       "      <td>deployment</td>\n",
       "      <td>0</td>\n",
       "      <td>0</td>\n",
       "    </tr>\n",
       "    <tr>\n",
       "      <th>2</th>\n",
       "      <td>deployment_mariadb.txt</td>\n",
       "      <td>[sudo, kolla, set, configs, info, main, loadin...</td>\n",
       "      <td>1413</td>\n",
       "      <td>136</td>\n",
       "      <td>13294</td>\n",
       "      <td>deployment</td>\n",
       "      <td>0</td>\n",
       "      <td>0</td>\n",
       "    </tr>\n",
       "    <tr>\n",
       "      <th>8</th>\n",
       "      <td>frontend_horizon.log</td>\n",
       "      <td>[wed, jun, wsgi, error, pid, tid, usr, lib, py...</td>\n",
       "      <td>437</td>\n",
       "      <td>20</td>\n",
       "      <td>4197</td>\n",
       "      <td>frontend</td>\n",
       "      <td>0</td>\n",
       "      <td>4</td>\n",
       "    </tr>\n",
       "    <tr>\n",
       "      <th>12</th>\n",
       "      <td>frontend_kibana-simple.log</td>\n",
       "      <td>[type, log, timestamp, tags, info, plugins, se...</td>\n",
       "      <td>577</td>\n",
       "      <td>22</td>\n",
       "      <td>5832</td>\n",
       "      <td>frontend</td>\n",
       "      <td>1</td>\n",
       "      <td>4</td>\n",
       "    </tr>\n",
       "    <tr>\n",
       "      <th>7</th>\n",
       "      <td>frontend_kibana.log</td>\n",
       "      <td>[type, log, timestamp, tags, info, plugins, se...</td>\n",
       "      <td>392</td>\n",
       "      <td>16</td>\n",
       "      <td>4660</td>\n",
       "      <td>frontend</td>\n",
       "      <td>0</td>\n",
       "      <td>4</td>\n",
       "    </tr>\n",
       "  </tbody>\n",
       "</table>\n",
       "</div>"
      ],
      "text/plain": [
       "                        filename  \\\n",
       "10        backend_springboot.log   \n",
       "19            backend_orders.log   \n",
       "13             backend_carts.log   \n",
       "9       backend_queue-master.log   \n",
       "21          backend_shipping.log   \n",
       "5               db_orders-db.log   \n",
       "15          db_elasticsearch.log   \n",
       "14                db_mariadb.log   \n",
       "20                  db_mongo.log   \n",
       "0                   db_mysql.log   \n",
       "6                db_carts-db.log   \n",
       "3                 db_user-db.log   \n",
       "11        deployment_libvirt.txt   \n",
       "4      deployment_prometheus.txt   \n",
       "16         deployment_kibana.txt   \n",
       "17        deployment_fluentd.txt   \n",
       "18       deployment_rabbitmq.txt   \n",
       "1   deployment_elasticsearch.txt   \n",
       "2         deployment_mariadb.txt   \n",
       "8           frontend_horizon.log   \n",
       "12    frontend_kibana-simple.log   \n",
       "7            frontend_kibana.log   \n",
       "\n",
       "                                                 data  #words  #lines  \\\n",
       "10  [application, version, snapshot, spring, boot,...     663      51   \n",
       "19  [info, bootstrap, main, annotationconfigapplic...     415      24   \n",
       "13  [info, bootstrap, main, annotationconfigapplic...     418      24   \n",
       "9   [spring, boot, release, info, main, queuemaste...    1466      45   \n",
       "21  [info, bootstrap, main, annotationconfigapplic...    1099      43   \n",
       "5   [control, initandlisten, mongodb, starting, pi...     227      26   \n",
       "15  [info, node, version, pid, build, oss, deb, cc...     506      40   \n",
       "14  [warning, failed, to, load, slave, replication...     315      35   \n",
       "20  [mongo, date, control, id, ctx, main, msg, aut...    1229      64   \n",
       "0   [mysql, note, entrypoint, entrypoint, script, ...     884      76   \n",
       "6   [control, initandlisten, mongodb, starting, pi...     230      26   \n",
       "3   [control, initandlisten, mongodb, starting, pi...     230      25   \n",
       "11  [sudo, kolla, set, configs, info, main, loadin...     179      31   \n",
       "4   [sudo, kolla, set, configs, info, main, loadin...     475      41   \n",
       "16  [sudo, kolla, set, configs, info, main, loadin...     144      22   \n",
       "17  [sudo, kolla, set, configs, info, main, loadin...     188      32   \n",
       "18  [sudo, kolla, set, configs, info, main, loadin...     215      32   \n",
       "1   [sudo, kolla, set, configs, info, main, loadin...     161      25   \n",
       "2   [sudo, kolla, set, configs, info, main, loadin...    1413     136   \n",
       "8   [wed, jun, wsgi, error, pid, tid, usr, lib, py...     437      20   \n",
       "12  [type, log, timestamp, tags, info, plugins, se...     577      22   \n",
       "7   [type, log, timestamp, tags, info, plugins, se...     392      16   \n",
       "\n",
       "    size (bytes)        type  LSI k topics  LSI k+1 topics  \n",
       "10          8884     backend             1               1  \n",
       "19          5355     backend             1               1  \n",
       "13          5342     backend             1               1  \n",
       "9          16675     backend             1               1  \n",
       "21         12742     backend             1               1  \n",
       "5           2914          db             2               2  \n",
       "15          6798          db             0               4  \n",
       "14          3004          db             3               3  \n",
       "20         17045          db             2               2  \n",
       "0          10336          db             3               3  \n",
       "6           2915          db             2               2  \n",
       "3           2788          db             2               2  \n",
       "11          2276  deployment             0               0  \n",
       "4           5325  deployment             0               4  \n",
       "16          1714  deployment             0               4  \n",
       "17          2401  deployment             0               0  \n",
       "18          2560  deployment             0               0  \n",
       "1           2060  deployment             0               0  \n",
       "2          13294  deployment             0               0  \n",
       "8           4197    frontend             0               4  \n",
       "12          5832    frontend             1               4  \n",
       "7           4660    frontend             0               4  "
      ]
     },
     "execution_count": 15,
     "metadata": {},
     "output_type": "execute_result"
    }
   ],
   "source": [
    "df.sort_values('type')"
   ]
  },
  {
   "cell_type": "markdown",
   "id": "6354d9c7",
   "metadata": {},
   "source": [
    "### T1.2 - Naive Bayes Classifier"
   ]
  },
  {
   "cell_type": "code",
   "execution_count": 59,
   "id": "58306f27",
   "metadata": {},
   "outputs": [],
   "source": [
    "init_state = 42\n",
    "#init_state = 0"
   ]
  },
  {
   "cell_type": "code",
   "execution_count": 60,
   "id": "a68cf3f4",
   "metadata": {},
   "outputs": [
    {
     "name": "stdout",
     "output_type": "stream",
     "text": [
      "MultinomialNB\n",
      "              precision    recall  f1-score   support\n",
      "\n",
      "     backend       1.00      1.00      1.00         1\n",
      "          db       0.00      0.00      0.00         2\n",
      "  deployment       0.25      1.00      0.40         1\n",
      "    frontend       0.00      0.00      0.00         1\n",
      "\n",
      "    accuracy                           0.40         5\n",
      "   macro avg       0.31      0.50      0.35         5\n",
      "weighted avg       0.25      0.40      0.28         5\n",
      "\n",
      "Accuracy: 0.4\n"
     ]
    },
    {
     "data": {
      "image/png": "[encoded data removed]",
      "text/plain": [
       "<Figure size 432x288 with 2 Axes>"
      ]
     },
     "metadata": {
      "needs_background": "light"
     },
     "output_type": "display_data"
    }
   ],
   "source": [
    "from sklearn import naive_bayes\n",
    "from sklearn import tree\n",
    "from sklearn.naive_bayes import MultinomialNB\n",
    "model, test_result = classify(df, naive_bayes.MultinomialNB(), init_state)"
   ]
  },
  {
   "cell_type": "code",
   "execution_count": 61,
   "id": "9c4af5a2",
   "metadata": {},
   "outputs": [
    {
     "data": {
      "text/html": [
       "<div>\n",
       "<style scoped>\n",
       "    .dataframe tbody tr th:only-of-type {\n",
       "        vertical-align: middle;\n",
       "    }\n",
       "\n",
       "    .dataframe tbody tr th {\n",
       "        vertical-align: top;\n",
       "    }\n",
       "\n",
       "    .dataframe thead th {\n",
       "        text-align: right;\n",
       "    }\n",
       "</style>\n",
       "<table border=\"1\" class=\"dataframe\">\n",
       "  <thead>\n",
       "    <tr style=\"text-align: right;\">\n",
       "      <th></th>\n",
       "      <th>filename</th>\n",
       "      <th>data</th>\n",
       "      <th>#words</th>\n",
       "      <th>#lines</th>\n",
       "      <th>size (bytes)</th>\n",
       "      <th>type</th>\n",
       "      <th>LSI k topics</th>\n",
       "      <th>LSI k+1 topics</th>\n",
       "      <th>MultinomialNB</th>\n",
       "    </tr>\n",
       "  </thead>\n",
       "  <tbody>\n",
       "    <tr>\n",
       "      <th>0</th>\n",
       "      <td>db_mysql.log</td>\n",
       "      <td>[mysql, note, entrypoint, entrypoint, script, ...</td>\n",
       "      <td>884</td>\n",
       "      <td>76</td>\n",
       "      <td>10336</td>\n",
       "      <td>db</td>\n",
       "      <td>3</td>\n",
       "      <td>3</td>\n",
       "      <td>deployment</td>\n",
       "    </tr>\n",
       "    <tr>\n",
       "      <th>1</th>\n",
       "      <td>deployment_elasticsearch.txt</td>\n",
       "      <td>[sudo, kolla, set, configs, info, main, loadin...</td>\n",
       "      <td>161</td>\n",
       "      <td>25</td>\n",
       "      <td>2060</td>\n",
       "      <td>deployment</td>\n",
       "      <td>0</td>\n",
       "      <td>0</td>\n",
       "      <td>deployment</td>\n",
       "    </tr>\n",
       "    <tr>\n",
       "      <th>8</th>\n",
       "      <td>frontend_horizon.log</td>\n",
       "      <td>[wed, jun, wsgi, error, pid, tid, usr, lib, py...</td>\n",
       "      <td>437</td>\n",
       "      <td>20</td>\n",
       "      <td>4197</td>\n",
       "      <td>frontend</td>\n",
       "      <td>0</td>\n",
       "      <td>4</td>\n",
       "      <td>deployment</td>\n",
       "    </tr>\n",
       "    <tr>\n",
       "      <th>13</th>\n",
       "      <td>backend_carts.log</td>\n",
       "      <td>[info, bootstrap, main, annotationconfigapplic...</td>\n",
       "      <td>418</td>\n",
       "      <td>24</td>\n",
       "      <td>5342</td>\n",
       "      <td>backend</td>\n",
       "      <td>1</td>\n",
       "      <td>1</td>\n",
       "      <td>backend</td>\n",
       "    </tr>\n",
       "    <tr>\n",
       "      <th>15</th>\n",
       "      <td>db_elasticsearch.log</td>\n",
       "      <td>[info, node, version, pid, build, oss, deb, cc...</td>\n",
       "      <td>506</td>\n",
       "      <td>40</td>\n",
       "      <td>6798</td>\n",
       "      <td>db</td>\n",
       "      <td>0</td>\n",
       "      <td>4</td>\n",
       "      <td>deployment</td>\n",
       "    </tr>\n",
       "  </tbody>\n",
       "</table>\n",
       "</div>"
      ],
      "text/plain": [
       "                        filename  \\\n",
       "0                   db_mysql.log   \n",
       "1   deployment_elasticsearch.txt   \n",
       "8           frontend_horizon.log   \n",
       "13             backend_carts.log   \n",
       "15          db_elasticsearch.log   \n",
       "\n",
       "                                                 data  #words  #lines  \\\n",
       "0   [mysql, note, entrypoint, entrypoint, script, ...     884      76   \n",
       "1   [sudo, kolla, set, configs, info, main, loadin...     161      25   \n",
       "8   [wed, jun, wsgi, error, pid, tid, usr, lib, py...     437      20   \n",
       "13  [info, bootstrap, main, annotationconfigapplic...     418      24   \n",
       "15  [info, node, version, pid, build, oss, deb, cc...     506      40   \n",
       "\n",
       "    size (bytes)        type  LSI k topics  LSI k+1 topics MultinomialNB  \n",
       "0          10336          db             3               3    deployment  \n",
       "1           2060  deployment             0               0    deployment  \n",
       "8           4197    frontend             0               4    deployment  \n",
       "13          5342     backend             1               1       backend  \n",
       "15          6798          db             0               4    deployment  "
      ]
     },
     "execution_count": 61,
     "metadata": {},
     "output_type": "execute_result"
    }
   ],
   "source": [
    "test_result"
   ]
  },
  {
   "cell_type": "markdown",
   "id": "782cc900",
   "metadata": {},
   "source": [
    "### T1.3 - Decision Tree Classifier"
   ]
  },
  {
   "cell_type": "code",
   "execution_count": 62,
   "id": "d71764e7",
   "metadata": {},
   "outputs": [
    {
     "name": "stdout",
     "output_type": "stream",
     "text": [
      "DecisionTreeClassifier\n",
      "              precision    recall  f1-score   support\n",
      "\n",
      "     backend       1.00      1.00      1.00         1\n",
      "          db       1.00      0.50      0.67         2\n",
      "  deployment       1.00      1.00      1.00         1\n",
      "    frontend       0.50      1.00      0.67         1\n",
      "\n",
      "    accuracy                           0.80         5\n",
      "   macro avg       0.88      0.88      0.83         5\n",
      "weighted avg       0.90      0.80      0.80         5\n",
      "\n",
      "Accuracy: 0.8\n"
     ]
    },
    {
     "data": {
      "image/png": "[encoded data removed]",
      "text/plain": [
       "<Figure size 432x288 with 2 Axes>"
      ]
     },
     "metadata": {
      "needs_background": "light"
     },
     "output_type": "display_data"
    },
    {
     "data": {
      "text/plain": [
       "'tree.dot.png'"
      ]
     },
     "execution_count": 62,
     "metadata": {},
     "output_type": "execute_result"
    }
   ],
   "source": [
    "model, test_result = classify(df, tree.DecisionTreeClassifier(max_depth=10, random_state=init_state), init_state)\n",
    "export_graphviz(model['clf'], out_file='tree.dot',  \n",
    "                filled=True, rounded=True,\n",
    "                special_characters=True,feature_names = model['tfidf'].get_feature_names(),class_names=list(set(df['type'])))\n",
    "\n",
    "graphviz.Source.from_file('tree.dot')\n",
    "graphviz.render('dot', 'png', 'tree.dot')"
   ]
  },
  {
   "cell_type": "code",
   "execution_count": 63,
   "id": "747334af",
   "metadata": {},
   "outputs": [
    {
     "data": {
      "text/html": [
       "<div>\n",
       "<style scoped>\n",
       "    .dataframe tbody tr th:only-of-type {\n",
       "        vertical-align: middle;\n",
       "    }\n",
       "\n",
       "    .dataframe tbody tr th {\n",
       "        vertical-align: top;\n",
       "    }\n",
       "\n",
       "    .dataframe thead th {\n",
       "        text-align: right;\n",
       "    }\n",
       "</style>\n",
       "<table border=\"1\" class=\"dataframe\">\n",
       "  <thead>\n",
       "    <tr style=\"text-align: right;\">\n",
       "      <th></th>\n",
       "      <th>filename</th>\n",
       "      <th>data</th>\n",
       "      <th>#words</th>\n",
       "      <th>#lines</th>\n",
       "      <th>size (bytes)</th>\n",
       "      <th>type</th>\n",
       "      <th>LSI k topics</th>\n",
       "      <th>LSI k+1 topics</th>\n",
       "      <th>DecisionTreeClassifier</th>\n",
       "    </tr>\n",
       "  </thead>\n",
       "  <tbody>\n",
       "    <tr>\n",
       "      <th>0</th>\n",
       "      <td>db_mysql.log</td>\n",
       "      <td>[mysql, note, entrypoint, entrypoint, script, ...</td>\n",
       "      <td>884</td>\n",
       "      <td>76</td>\n",
       "      <td>10336</td>\n",
       "      <td>db</td>\n",
       "      <td>3</td>\n",
       "      <td>3</td>\n",
       "      <td>db</td>\n",
       "    </tr>\n",
       "    <tr>\n",
       "      <th>1</th>\n",
       "      <td>deployment_elasticsearch.txt</td>\n",
       "      <td>[sudo, kolla, set, configs, info, main, loadin...</td>\n",
       "      <td>161</td>\n",
       "      <td>25</td>\n",
       "      <td>2060</td>\n",
       "      <td>deployment</td>\n",
       "      <td>0</td>\n",
       "      <td>0</td>\n",
       "      <td>deployment</td>\n",
       "    </tr>\n",
       "    <tr>\n",
       "      <th>8</th>\n",
       "      <td>frontend_horizon.log</td>\n",
       "      <td>[wed, jun, wsgi, error, pid, tid, usr, lib, py...</td>\n",
       "      <td>437</td>\n",
       "      <td>20</td>\n",
       "      <td>4197</td>\n",
       "      <td>frontend</td>\n",
       "      <td>0</td>\n",
       "      <td>4</td>\n",
       "      <td>frontend</td>\n",
       "    </tr>\n",
       "    <tr>\n",
       "      <th>13</th>\n",
       "      <td>backend_carts.log</td>\n",
       "      <td>[info, bootstrap, main, annotationconfigapplic...</td>\n",
       "      <td>418</td>\n",
       "      <td>24</td>\n",
       "      <td>5342</td>\n",
       "      <td>backend</td>\n",
       "      <td>1</td>\n",
       "      <td>1</td>\n",
       "      <td>backend</td>\n",
       "    </tr>\n",
       "    <tr>\n",
       "      <th>15</th>\n",
       "      <td>db_elasticsearch.log</td>\n",
       "      <td>[info, node, version, pid, build, oss, deb, cc...</td>\n",
       "      <td>506</td>\n",
       "      <td>40</td>\n",
       "      <td>6798</td>\n",
       "      <td>db</td>\n",
       "      <td>0</td>\n",
       "      <td>4</td>\n",
       "      <td>frontend</td>\n",
       "    </tr>\n",
       "  </tbody>\n",
       "</table>\n",
       "</div>"
      ],
      "text/plain": [
       "                        filename  \\\n",
       "0                   db_mysql.log   \n",
       "1   deployment_elasticsearch.txt   \n",
       "8           frontend_horizon.log   \n",
       "13             backend_carts.log   \n",
       "15          db_elasticsearch.log   \n",
       "\n",
       "                                                 data  #words  #lines  \\\n",
       "0   [mysql, note, entrypoint, entrypoint, script, ...     884      76   \n",
       "1   [sudo, kolla, set, configs, info, main, loadin...     161      25   \n",
       "8   [wed, jun, wsgi, error, pid, tid, usr, lib, py...     437      20   \n",
       "13  [info, bootstrap, main, annotationconfigapplic...     418      24   \n",
       "15  [info, node, version, pid, build, oss, deb, cc...     506      40   \n",
       "\n",
       "    size (bytes)        type  LSI k topics  LSI k+1 topics  \\\n",
       "0          10336          db             3               3   \n",
       "1           2060  deployment             0               0   \n",
       "8           4197    frontend             0               4   \n",
       "13          5342     backend             1               1   \n",
       "15          6798          db             0               4   \n",
       "\n",
       "   DecisionTreeClassifier  \n",
       "0                      db  \n",
       "1              deployment  \n",
       "8                frontend  \n",
       "13                backend  \n",
       "15               frontend  "
      ]
     },
     "execution_count": 63,
     "metadata": {},
     "output_type": "execute_result"
    }
   ],
   "source": [
    "test_result"
   ]
  },
  {
   "cell_type": "code",
   "execution_count": 64,
   "id": "5c34a115",
   "metadata": {},
   "outputs": [
    {
     "data": {
      "image/png": "[encoded data removed]",
      "text/plain": [
       "<IPython.core.display.Image object>"
      ]
     },
     "execution_count": 64,
     "metadata": {},
     "output_type": "execute_result"
    }
   ],
   "source": [
    "from IPython.display import Image\n",
    "Image(\"tree.dot.png\")"
   ]
  },
  {
   "cell_type": "markdown",
   "id": "989b1ad8",
   "metadata": {},
   "source": [
    "## T2 - Validation of Similarity Measures"
   ]
  },
  {
   "cell_type": "markdown",
   "id": "07888103",
   "metadata": {},
   "source": [
    "4 test cases for 4 types"
   ]
  },
  {
   "cell_type": "code",
   "execution_count": 176,
   "id": "257b4b02",
   "metadata": {},
   "outputs": [],
   "source": [
    "test_samples = ['backend_carts.log', 'db_carts-db.log', 'deployment_elasticsearch.txt', 'frontend_kibana.log']\n",
    "test_case = 2 # index in test_samples\n",
    "#requested_filename = test_samples[test_case]\n",
    "requested_filename = 'db_mysql.log'"
   ]
  },
  {
   "cell_type": "code",
   "execution_count": 177,
   "id": "571e388b",
   "metadata": {},
   "outputs": [],
   "source": [
    "requested_file = df.loc[df['filename'] == requested_filename]\n",
    "#requested_file = df.loc[df['filename'] == requested_filename]['data'].values[0]\n",
    "#tokenized_requested_file = (requested_filename, requested_file.split(' '))\n",
    "label = requested_file['type'].values[0]\n",
    "classified_files = df.loc[df['type'] == label][df['filename'] != requested_filename]\n",
    "#classified_files = df.loc[df['type'] == label]['data'].tolist()"
   ]
  },
  {
   "cell_type": "code",
   "execution_count": 178,
   "id": "e36c8980",
   "metadata": {},
   "outputs": [
    {
     "data": {
      "text/plain": [
       "6"
      ]
     },
     "execution_count": 178,
     "metadata": {},
     "output_type": "execute_result"
    }
   ],
   "source": [
    "len(classified_files.index)"
   ]
  },
  {
   "cell_type": "markdown",
   "id": "c8dd219f",
   "metadata": {},
   "source": [
    "### T2.1 - LSI-based Jaccard Similarity"
   ]
  },
  {
   "cell_type": "code",
   "execution_count": 179,
   "id": "33e1f863",
   "metadata": {},
   "outputs": [
    {
     "name": "stdout",
     "output_type": "stream",
     "text": [
      "-----------TOPIC - KEYWORDS--------------\n",
      "[(0, [('create', 0.12422212137430301), ('initialize', 0.12422212137430301), ('version', 0.124222121374303), ('use', 0.12422212137430295), ('set', 0.12422212137430291), ('log', 0.12422212137430289), ('be', 0.12422212137430289), ('data', 0.12422212137430286), ('start', 0.12422212137430286), ('size', 0.12422212137430277), ('file', 0.12422212137430275), ('detect', 0.11472950152155025), ('path', 0.11472950152155016), ('enable', 0.11472950152155013), ('configuration', 0.11472950152155008), ('cache', 0.11472950152154993), ('database', 0.10777014322156163), ('connection', 0.1077701432215616), ('port', 0.10777014322156143), ('see', 0.10777014322156142)])]\n",
      "\n",
      "-----------TOPIC - DOCUMENT--------------\n",
      "[([(0, 6.893654449367824)], 'db_user-db.log'), ([(0, 7.278385684491931)], 'db_orders-db.log'), ([(0, 7.392327357589048)], 'db_carts-db.log'), ([(0, 3.243760208067525)], 'db_mariadb.log'), ([(0, 5.621869716017829)], 'db_elasticsearch.log'), ([(0, 12.018428891019898)], 'db_mongo.log')]\n"
     ]
    }
   ],
   "source": [
    "ranking, keywords = lsi_jaccard_ranker(requested_file, classified_files)"
   ]
  },
  {
   "cell_type": "code",
   "execution_count": 180,
   "id": "e768acc3",
   "metadata": {},
   "outputs": [
    {
     "data": {
      "text/plain": [
       "[('db_mariadb.log', 0.37524855405286656),\n",
       " ('db_user-db.log', 0.18672433657119825),\n",
       " ('db_orders-db.log', 0.18672433657119825),\n",
       " ('db_carts-db.log', 0.18522543765880173),\n",
       " ('db_mongo.log', 0.1583790879329611),\n",
       " ('db_elasticsearch.log', 0.14528781202810165)]"
      ]
     },
     "execution_count": 180,
     "metadata": {},
     "output_type": "execute_result"
    }
   ],
   "source": [
    "ranking"
   ]
  },
  {
   "cell_type": "code",
   "execution_count": 181,
   "id": "9b1f7860",
   "metadata": {},
   "outputs": [
    {
     "data": {
      "text/plain": [
       "[('create', 0.12422212137430301),\n",
       " ('initialize', 0.12422212137430301),\n",
       " ('version', 0.124222121374303),\n",
       " ('use', 0.12422212137430295),\n",
       " ('set', 0.12422212137430291),\n",
       " ('log', 0.12422212137430289),\n",
       " ('be', 0.12422212137430289),\n",
       " ('data', 0.12422212137430286),\n",
       " ('start', 0.12422212137430286),\n",
       " ('size', 0.12422212137430277),\n",
       " ('file', 0.12422212137430275),\n",
       " ('detect', 0.11472950152155025),\n",
       " ('path', 0.11472950152155016),\n",
       " ('enable', 0.11472950152155013),\n",
       " ('configuration', 0.11472950152155008),\n",
       " ('cache', 0.11472950152154993),\n",
       " ('database', 0.10777014322156163),\n",
       " ('connection', 0.1077701432215616),\n",
       " ('port', 0.10777014322156143),\n",
       " ('see', 0.10777014322156142)]"
      ]
     },
     "execution_count": 181,
     "metadata": {},
     "output_type": "execute_result"
    }
   ],
   "source": [
    "keywords"
   ]
  },
  {
   "cell_type": "markdown",
   "id": "de6689fd",
   "metadata": {},
   "source": [
    "### T2.2 - TF-IDF Cosine Similarity"
   ]
  },
  {
   "cell_type": "code",
   "execution_count": 182,
   "id": "dfacdc2f",
   "metadata": {},
   "outputs": [
    {
     "data": {
      "text/plain": [
       "[('db_mariadb.log', 0.5218730387198609),\n",
       " ('db_user-db.log', 0.036797053583060166),\n",
       " ('db_orders-db.log', 0.03364966795003639),\n",
       " ('db_carts-db.log', 0.03352977315487424),\n",
       " ('db_elasticsearch.log', 0.01987999438417126),\n",
       " ('db_mongo.log', 0.018741134554524794)]"
      ]
     },
     "execution_count": 182,
     "metadata": {},
     "output_type": "execute_result"
    }
   ],
   "source": [
    "tfidf_ranker(requested_file, classified_files)"
   ]
  },
  {
   "cell_type": "markdown",
   "id": "f3bd5c47",
   "metadata": {},
   "source": [
    "### T2.3 - GloVe Cosine Similarity"
   ]
  },
  {
   "cell_type": "code",
   "execution_count": 183,
   "id": "b0d8fe8b",
   "metadata": {},
   "outputs": [
    {
     "name": "stdout",
     "output_type": "stream",
     "text": [
      "mkdir -p build\n",
      "\n",
      "$ build/vocab_count -min-count 1 -verbose 2 < corpus.txt > vocab.txt\n",
      "$ build/cooccur -memory 4.0 -vocab-file vocab.txt -verbose 2 -window-size 15 < corpus.txt > cooccurrence.bin\n",
      "$ build/shuffle -memory 4.0 -verbose 2 < cooccurrence.bin > cooccurrence.shuf.bin\n",
      "$ build/glove -save-file vectors -threads 8 -input-file cooccurrence.shuf.bin -x-max 10 -iter 15 -vector-size 50 -binary 2 -vocab-file vocab.txt -verbose 2\n"
     ]
    },
    {
     "name": "stderr",
     "output_type": "stream",
     "text": [
      "BUILDING VOCABULARY\n",
      "Processed 0 tokens.\u001b[0GProcessed 3621 tokens.\n",
      "Counted 740 unique words.\n",
      "Using vocabulary of size 740.\n",
      "\n",
      "COUNTING COOCCURRENCES\n",
      "window size: 15\n",
      "context: symmetric\n",
      "max product: 13752509\n",
      "overflow length: 38028356\n",
      "Reading vocab from file \"vocab.txt\"...loaded 740 words.\n",
      "Building lookup table...table contains 547601 elements.\n",
      "Processing token: 0\u001b[0GProcessed 3621 tokens.\n",
      "Writing cooccurrences to disk.....2 files in total.\n",
      "Merging cooccurrence files: processed 0 lines.\u001b[39G0 lines.\u001b[0GMerging cooccurrence files: processed 34004 lines.\n",
      "\n",
      "Using random seed 1632255384\n",
      "SHUFFLING COOCCURRENCES\n",
      "array size: 255013683\n",
      "Shuffling by chunks: processed 0 lines.\u001b[22Gprocessed 34004 lines.\n",
      "Wrote 1 temporary file(s).\n",
      "Merging temp files: processed 0 lines.\u001b[31G34004 lines.\u001b[0GMerging temp files: processed 34004 lines.\n",
      "\n",
      "TRAINING MODEL\n",
      "Read 34004 lines.\n",
      "Initializing parameters...Using random seed 1632255384\n",
      "done.\n",
      "vector size: 50\n",
      "vocab size: 740\n",
      "x_max: 10.000000\n",
      "alpha: 0.750000\n",
      "09/21/21 - 10:16.24PM, iter: 001, cost: 0.083198\n",
      "09/21/21 - 10:16.24PM, iter: 002, cost: 0.068067\n",
      "09/21/21 - 10:16.24PM, iter: 003, cost: 0.066206\n",
      "09/21/21 - 10:16.24PM, iter: 004, cost: 0.065208\n",
      "09/21/21 - 10:16.24PM, iter: 005, cost: 0.064478\n",
      "09/21/21 - 10:16.24PM, iter: 006, cost: 0.063478\n",
      "09/21/21 - 10:16.24PM, iter: 007, cost: 0.061858\n",
      "09/21/21 - 10:16.24PM, iter: 008, cost: 0.059365\n",
      "09/21/21 - 10:16.24PM, iter: 009, cost: 0.057049\n",
      "09/21/21 - 10:16.24PM, iter: 010, cost: 0.055073\n",
      "09/21/21 - 10:16.24PM, iter: 011, cost: 0.053311\n",
      "09/21/21 - 10:16.24PM, iter: 012, cost: 0.051816\n",
      "09/21/21 - 10:16.24PM, iter: 013, cost: 0.050375\n",
      "09/21/21 - 10:16.24PM, iter: 014, cost: 0.048919\n",
      "09/21/21 - 10:16.24PM, iter: 015, cost: 0.047468\n"
     ]
    },
    {
     "name": "stdout",
     "output_type": "stream",
     "text": [
      "Loading Glove Model\n",
      "Done. 741  words loaded!\n"
     ]
    }
   ],
   "source": [
    "ranking = glove_ranker(requested_file, classified_files)"
   ]
  },
  {
   "cell_type": "code",
   "execution_count": 184,
   "id": "d5e8ffd3",
   "metadata": {},
   "outputs": [
    {
     "data": {
      "text/plain": [
       "[('db_mariadb.log', 0.9899760299821777),\n",
       " ('db_mongo.log', 0.24099970337711363),\n",
       " ('db_orders-db.log', 0.22778896105190238),\n",
       " ('db_carts-db.log', 0.22641329345604144),\n",
       " ('db_elasticsearch.log', 0.2144248712797574),\n",
       " ('db_user-db.log', 0.20364116574888858)]"
      ]
     },
     "execution_count": 184,
     "metadata": {},
     "output_type": "execute_result"
    }
   ],
   "source": [
    "ranking"
   ]
  },
  {
   "cell_type": "markdown",
   "id": "820a33af",
   "metadata": {},
   "source": [
    "## T3 - Hybrid approaches"
   ]
  },
  {
   "cell_type": "code",
   "execution_count": 185,
   "id": "af7b8c5c",
   "metadata": {},
   "outputs": [],
   "source": [
    "request = df.loc[df['filename'] == requested_filename]"
   ]
  },
  {
   "cell_type": "code",
   "execution_count": 186,
   "id": "b33892a4",
   "metadata": {},
   "outputs": [
    {
     "data": {
      "text/html": [
       "<div>\n",
       "<style scoped>\n",
       "    .dataframe tbody tr th:only-of-type {\n",
       "        vertical-align: middle;\n",
       "    }\n",
       "\n",
       "    .dataframe tbody tr th {\n",
       "        vertical-align: top;\n",
       "    }\n",
       "\n",
       "    .dataframe thead th {\n",
       "        text-align: right;\n",
       "    }\n",
       "</style>\n",
       "<table border=\"1\" class=\"dataframe\">\n",
       "  <thead>\n",
       "    <tr style=\"text-align: right;\">\n",
       "      <th></th>\n",
       "      <th>filename</th>\n",
       "      <th>data</th>\n",
       "      <th>#words</th>\n",
       "      <th>#lines</th>\n",
       "      <th>size (bytes)</th>\n",
       "      <th>type</th>\n",
       "      <th>LSI k topics</th>\n",
       "      <th>LSI k+1 topics</th>\n",
       "    </tr>\n",
       "  </thead>\n",
       "  <tbody>\n",
       "    <tr>\n",
       "      <th>0</th>\n",
       "      <td>db_mysql.log</td>\n",
       "      <td>[mysql, note, entrypoint, entrypoint, script, ...</td>\n",
       "      <td>884</td>\n",
       "      <td>76</td>\n",
       "      <td>10336</td>\n",
       "      <td>db</td>\n",
       "      <td>3</td>\n",
       "      <td>3</td>\n",
       "    </tr>\n",
       "  </tbody>\n",
       "</table>\n",
       "</div>"
      ],
      "text/plain": [
       "       filename                                               data  #words  \\\n",
       "0  db_mysql.log  [mysql, note, entrypoint, entrypoint, script, ...     884   \n",
       "\n",
       "   #lines  size (bytes) type  LSI k topics  LSI k+1 topics  \n",
       "0      76         10336   db             3               3  "
      ]
     },
     "execution_count": 186,
     "metadata": {},
     "output_type": "execute_result"
    }
   ],
   "source": [
    "request"
   ]
  },
  {
   "cell_type": "markdown",
   "id": "28992499",
   "metadata": {},
   "source": [
    "### T3.1 - LSI-based Classifier + LSI-based Jaccard Similarity Ranking"
   ]
  },
  {
   "cell_type": "code",
   "execution_count": 187,
   "id": "07b28a2e",
   "metadata": {},
   "outputs": [],
   "source": [
    "lsi_label = request['LSI k topics'].values[0]\n",
    "k_topics = True\n",
    "same_class = df.loc[df['LSI k topics'] == lsi_label][df['filename'] != requested_filename]\n",
    "if request['LSI k topics'].values[0] != request['LSI k+1 topics'].values[0]:\n",
    "    lsi_label = request['LSI k+1 topics'].values[0]\n",
    "    k_topics = False\n",
    "    same_class = df.loc[df['LSI k+1 topics'] == lsi_label][df['filename'] != requested_filename]"
   ]
  },
  {
   "cell_type": "code",
   "execution_count": 188,
   "id": "6fd1d08e",
   "metadata": {},
   "outputs": [
    {
     "data": {
      "text/html": [
       "<div>\n",
       "<style scoped>\n",
       "    .dataframe tbody tr th:only-of-type {\n",
       "        vertical-align: middle;\n",
       "    }\n",
       "\n",
       "    .dataframe tbody tr th {\n",
       "        vertical-align: top;\n",
       "    }\n",
       "\n",
       "    .dataframe thead th {\n",
       "        text-align: right;\n",
       "    }\n",
       "</style>\n",
       "<table border=\"1\" class=\"dataframe\">\n",
       "  <thead>\n",
       "    <tr style=\"text-align: right;\">\n",
       "      <th></th>\n",
       "      <th>filename</th>\n",
       "      <th>data</th>\n",
       "      <th>#words</th>\n",
       "      <th>#lines</th>\n",
       "      <th>size (bytes)</th>\n",
       "      <th>type</th>\n",
       "      <th>LSI k topics</th>\n",
       "      <th>LSI k+1 topics</th>\n",
       "    </tr>\n",
       "  </thead>\n",
       "  <tbody>\n",
       "    <tr>\n",
       "      <th>14</th>\n",
       "      <td>db_mariadb.log</td>\n",
       "      <td>[warning, failed, to, load, slave, replication...</td>\n",
       "      <td>315</td>\n",
       "      <td>35</td>\n",
       "      <td>3004</td>\n",
       "      <td>db</td>\n",
       "      <td>3</td>\n",
       "      <td>3</td>\n",
       "    </tr>\n",
       "  </tbody>\n",
       "</table>\n",
       "</div>"
      ],
      "text/plain": [
       "          filename                                               data  #words  \\\n",
       "14  db_mariadb.log  [warning, failed, to, load, slave, replication...     315   \n",
       "\n",
       "    #lines  size (bytes) type  LSI k topics  LSI k+1 topics  \n",
       "14      35          3004   db             3               3  "
      ]
     },
     "execution_count": 188,
     "metadata": {},
     "output_type": "execute_result"
    }
   ],
   "source": [
    "same_class"
   ]
  },
  {
   "cell_type": "code",
   "execution_count": 189,
   "id": "7a626e6c",
   "metadata": {},
   "outputs": [
    {
     "name": "stdout",
     "output_type": "stream",
     "text": [
      "-----------TOPIC - KEYWORDS--------------\n",
      "[(0, [('add', 0.10000000000000032), ('daemon', 0.1000000000000002), ('exit', 0.10000000000000017), ('aio', 0.10000000000000016), ('create', 0.10000000000000014), ('dump', 0.10000000000000014), ('ft', 0.10000000000000014), ('data', 0.1000000000000001), ('mutexes', 0.1000000000000001), ('gtid', 0.10000000000000009), ('lock', 0.10000000000000009), ('errno', 0.10000000000000009), ('log', 0.10000000000000007), ('ib', 0.10000000000000007), ('event', 0.10000000000000007), ('see', 0.10000000000000006), ('builtins', 0.10000000000000006), ('share', 0.10000000000000006), ('man', 0.10000000000000006), ('process', 0.10000000000000005)])]\n",
      "\n",
      "-----------TOPIC - DOCUMENT--------------\n",
      "[([(0, 9.999999999999984)], 'db_mariadb.log')]\n"
     ]
    }
   ],
   "source": [
    "ranking, keywords = lsi_jaccard_ranker(requested_file, same_class)"
   ]
  },
  {
   "cell_type": "code",
   "execution_count": 190,
   "id": "e9418fe1",
   "metadata": {},
   "outputs": [
    {
     "data": {
      "text/plain": [
       "[('db_mariadb.log', 0.3651508329581268)]"
      ]
     },
     "execution_count": 190,
     "metadata": {},
     "output_type": "execute_result"
    }
   ],
   "source": [
    "ranking"
   ]
  },
  {
   "cell_type": "markdown",
   "id": "d4ebf56b",
   "metadata": {},
   "source": [
    "### T3.2 - LSI-based Classifier + TF-IDF Cosine Similarity"
   ]
  },
  {
   "cell_type": "code",
   "execution_count": 191,
   "id": "7555cf5f",
   "metadata": {},
   "outputs": [
    {
     "data": {
      "text/plain": [
       "[('db_mariadb.log', 0.5218730387198609)]"
      ]
     },
     "execution_count": 191,
     "metadata": {},
     "output_type": "execute_result"
    }
   ],
   "source": [
    "tfidf_ranker(requested_file, same_class)"
   ]
  },
  {
   "cell_type": "markdown",
   "id": "ffe13a5c",
   "metadata": {},
   "source": [
    "### T3.3 - LSI-based Classifier + GloVe Cosine Similarity"
   ]
  },
  {
   "cell_type": "code",
   "execution_count": 192,
   "id": "4605a42d",
   "metadata": {},
   "outputs": [
    {
     "name": "stdout",
     "output_type": "stream",
     "text": [
      "mkdir -p build\n",
      "\n",
      "$ build/vocab_count -min-count 1 -verbose 2 < corpus.txt > vocab.txt\n",
      "$ build/cooccur -memory 4.0 -vocab-file vocab.txt -verbose 2 -window-size 15 < corpus.txt > cooccurrence.bin\n",
      "$ build/shuffle -memory 4.0 -verbose 2 < cooccurrence.bin > cooccurrence.shuf.bin\n",
      "$ build/glove -save-file vectors -threads 8 -input-file cooccurrence.shuf.bin -x-max 10 -iter 15 -vector-size 50 -binary 2 -vocab-file vocab.txt -verbose 2\n",
      "Loading Glove Model\n",
      "Done. 318  words loaded!\n"
     ]
    },
    {
     "name": "stderr",
     "output_type": "stream",
     "text": [
      "BUILDING VOCABULARY\n",
      "Processed 0 tokens.\u001b[0GProcessed 1199 tokens.\n",
      "Counted 317 unique words.\n",
      "Using vocabulary of size 317.\n",
      "\n",
      "COUNTING COOCCURRENCES\n",
      "window size: 15\n",
      "context: symmetric\n",
      "max product: 13752509\n",
      "overflow length: 38028356\n",
      "Reading vocab from file \"vocab.txt\"...loaded 317 words.\n",
      "Building lookup table...table contains 100490 elements.\n",
      "Processing token: 0\u001b[0GProcessed 1199 tokens.\n",
      "Writing cooccurrences to disk.....2 files in total.\n",
      "Merging cooccurrence files: processed 0 lines.\u001b[39G0 lines.\u001b[0GMerging cooccurrence files: processed 13047 lines.\n",
      "\n",
      "Using random seed 1632255385\n",
      "SHUFFLING COOCCURRENCES\n",
      "array size: 255013683\n",
      "Shuffling by chunks: processed 0 lines.\u001b[22Gprocessed 13047 lines.\n",
      "Wrote 1 temporary file(s).\n",
      "Merging temp files: processed 0 lines.\u001b[31G13047 lines.\u001b[0GMerging temp files: processed 13047 lines.\n",
      "\n",
      "TRAINING MODEL\n",
      "Read 13047 lines.\n",
      "Initializing parameters...Using random seed 1632255385\n",
      "done.\n",
      "vector size: 50\n",
      "vocab size: 317\n",
      "x_max: 10.000000\n",
      "alpha: 0.750000\n",
      "09/21/21 - 10:16.25PM, iter: 001, cost: 0.065476\n",
      "09/21/21 - 10:16.25PM, iter: 002, cost: 0.054953\n",
      "09/21/21 - 10:16.25PM, iter: 003, cost: 0.053629\n",
      "09/21/21 - 10:16.25PM, iter: 004, cost: 0.052675\n",
      "09/21/21 - 10:16.25PM, iter: 005, cost: 0.052119\n",
      "09/21/21 - 10:16.25PM, iter: 006, cost: 0.051604\n",
      "09/21/21 - 10:16.25PM, iter: 007, cost: 0.051085\n",
      "09/21/21 - 10:16.25PM, iter: 008, cost: 0.050315\n",
      "09/21/21 - 10:16.25PM, iter: 009, cost: 0.049108\n",
      "09/21/21 - 10:16.25PM, iter: 010, cost: 0.047297\n",
      "09/21/21 - 10:16.25PM, iter: 011, cost: 0.045244\n",
      "09/21/21 - 10:16.25PM, iter: 012, cost: 0.043692\n",
      "09/21/21 - 10:16.25PM, iter: 013, cost: 0.042646\n",
      "09/21/21 - 10:16.25PM, iter: 014, cost: 0.041809\n",
      "09/21/21 - 10:16.25PM, iter: 015, cost: 0.041121\n"
     ]
    }
   ],
   "source": [
    "ranking = glove_ranker(requested_file, same_class)"
   ]
  },
  {
   "cell_type": "code",
   "execution_count": 193,
   "id": "81e52f2d",
   "metadata": {},
   "outputs": [
    {
     "data": {
      "text/plain": [
       "[('db_mariadb.log', 0.9965471162539028)]"
      ]
     },
     "execution_count": 193,
     "metadata": {},
     "output_type": "execute_result"
    }
   ],
   "source": [
    "ranking"
   ]
  },
  {
   "cell_type": "markdown",
   "id": "2b26e9e5",
   "metadata": {},
   "source": [
    "### T3.4 - Naive Bayes Classifier + LSI-based Jaccard Similarity"
   ]
  },
  {
   "cell_type": "code",
   "execution_count": 194,
   "id": "931ad334",
   "metadata": {},
   "outputs": [],
   "source": [
    "old_logs = df.loc[df['filename'] != requested_filename]"
   ]
  },
  {
   "cell_type": "code",
   "execution_count": 195,
   "id": "299a62fd",
   "metadata": {
    "scrolled": false
   },
   "outputs": [
    {
     "name": "stdout",
     "output_type": "stream",
     "text": [
      "MultinomialNB\n",
      "              precision    recall  f1-score   support\n",
      "\n",
      "     backend       1.00      1.00      1.00         1\n",
      "          db       0.00      0.00      0.00         0\n",
      "  deployment       1.00      0.25      0.40         4\n",
      "\n",
      "    accuracy                           0.40         5\n",
      "   macro avg       0.67      0.42      0.47         5\n",
      "weighted avg       1.00      0.40      0.52         5\n",
      "\n",
      "Accuracy: 0.4\n"
     ]
    },
    {
     "data": {
      "image/png": "[encoded data removed]",
      "text/plain": [
       "<Figure size 432x288 with 2 Axes>"
      ]
     },
     "metadata": {
      "needs_background": "light"
     },
     "output_type": "display_data"
    }
   ],
   "source": [
    "model, test_result = classify(old_logs, naive_bayes.MultinomialNB(), init_state)\n",
    "prediction = model.predict(request['data'])[0]"
   ]
  },
  {
   "cell_type": "code",
   "execution_count": 196,
   "id": "cdb535fe",
   "metadata": {},
   "outputs": [
    {
     "data": {
      "text/plain": [
       "'db'"
      ]
     },
     "execution_count": 196,
     "metadata": {},
     "output_type": "execute_result"
    }
   ],
   "source": [
    "prediction"
   ]
  },
  {
   "cell_type": "code",
   "execution_count": 197,
   "id": "b3c9d6de",
   "metadata": {},
   "outputs": [],
   "source": [
    "same_class = df.loc[df['type'] == prediction][df['filename'] != requested_filename]"
   ]
  },
  {
   "cell_type": "code",
   "execution_count": 198,
   "id": "a6b34091",
   "metadata": {},
   "outputs": [
    {
     "data": {
      "text/html": [
       "<div>\n",
       "<style scoped>\n",
       "    .dataframe tbody tr th:only-of-type {\n",
       "        vertical-align: middle;\n",
       "    }\n",
       "\n",
       "    .dataframe tbody tr th {\n",
       "        vertical-align: top;\n",
       "    }\n",
       "\n",
       "    .dataframe thead th {\n",
       "        text-align: right;\n",
       "    }\n",
       "</style>\n",
       "<table border=\"1\" class=\"dataframe\">\n",
       "  <thead>\n",
       "    <tr style=\"text-align: right;\">\n",
       "      <th></th>\n",
       "      <th>filename</th>\n",
       "      <th>data</th>\n",
       "      <th>#words</th>\n",
       "      <th>#lines</th>\n",
       "      <th>size (bytes)</th>\n",
       "      <th>type</th>\n",
       "      <th>LSI k topics</th>\n",
       "      <th>LSI k+1 topics</th>\n",
       "    </tr>\n",
       "  </thead>\n",
       "  <tbody>\n",
       "    <tr>\n",
       "      <th>3</th>\n",
       "      <td>db_user-db.log</td>\n",
       "      <td>[control, initandlisten, mongodb, starting, pi...</td>\n",
       "      <td>230</td>\n",
       "      <td>25</td>\n",
       "      <td>2788</td>\n",
       "      <td>db</td>\n",
       "      <td>2</td>\n",
       "      <td>2</td>\n",
       "    </tr>\n",
       "    <tr>\n",
       "      <th>5</th>\n",
       "      <td>db_orders-db.log</td>\n",
       "      <td>[control, initandlisten, mongodb, starting, pi...</td>\n",
       "      <td>227</td>\n",
       "      <td>26</td>\n",
       "      <td>2914</td>\n",
       "      <td>db</td>\n",
       "      <td>2</td>\n",
       "      <td>2</td>\n",
       "    </tr>\n",
       "    <tr>\n",
       "      <th>6</th>\n",
       "      <td>db_carts-db.log</td>\n",
       "      <td>[control, initandlisten, mongodb, starting, pi...</td>\n",
       "      <td>230</td>\n",
       "      <td>26</td>\n",
       "      <td>2915</td>\n",
       "      <td>db</td>\n",
       "      <td>2</td>\n",
       "      <td>2</td>\n",
       "    </tr>\n",
       "    <tr>\n",
       "      <th>14</th>\n",
       "      <td>db_mariadb.log</td>\n",
       "      <td>[warning, failed, to, load, slave, replication...</td>\n",
       "      <td>315</td>\n",
       "      <td>35</td>\n",
       "      <td>3004</td>\n",
       "      <td>db</td>\n",
       "      <td>3</td>\n",
       "      <td>3</td>\n",
       "    </tr>\n",
       "    <tr>\n",
       "      <th>15</th>\n",
       "      <td>db_elasticsearch.log</td>\n",
       "      <td>[info, node, version, pid, build, oss, deb, cc...</td>\n",
       "      <td>506</td>\n",
       "      <td>40</td>\n",
       "      <td>6798</td>\n",
       "      <td>db</td>\n",
       "      <td>0</td>\n",
       "      <td>4</td>\n",
       "    </tr>\n",
       "    <tr>\n",
       "      <th>20</th>\n",
       "      <td>db_mongo.log</td>\n",
       "      <td>[mongo, date, control, id, ctx, main, msg, aut...</td>\n",
       "      <td>1229</td>\n",
       "      <td>64</td>\n",
       "      <td>17045</td>\n",
       "      <td>db</td>\n",
       "      <td>2</td>\n",
       "      <td>2</td>\n",
       "    </tr>\n",
       "  </tbody>\n",
       "</table>\n",
       "</div>"
      ],
      "text/plain": [
       "                filename                                               data  \\\n",
       "3         db_user-db.log  [control, initandlisten, mongodb, starting, pi...   \n",
       "5       db_orders-db.log  [control, initandlisten, mongodb, starting, pi...   \n",
       "6        db_carts-db.log  [control, initandlisten, mongodb, starting, pi...   \n",
       "14        db_mariadb.log  [warning, failed, to, load, slave, replication...   \n",
       "15  db_elasticsearch.log  [info, node, version, pid, build, oss, deb, cc...   \n",
       "20          db_mongo.log  [mongo, date, control, id, ctx, main, msg, aut...   \n",
       "\n",
       "    #words  #lines  size (bytes) type  LSI k topics  LSI k+1 topics  \n",
       "3      230      25          2788   db             2               2  \n",
       "5      227      26          2914   db             2               2  \n",
       "6      230      26          2915   db             2               2  \n",
       "14     315      35          3004   db             3               3  \n",
       "15     506      40          6798   db             0               4  \n",
       "20    1229      64         17045   db             2               2  "
      ]
     },
     "execution_count": 198,
     "metadata": {},
     "output_type": "execute_result"
    }
   ],
   "source": [
    "same_class"
   ]
  },
  {
   "cell_type": "code",
   "execution_count": 199,
   "id": "7c2701d0",
   "metadata": {},
   "outputs": [
    {
     "name": "stdout",
     "output_type": "stream",
     "text": [
      "-----------TOPIC - KEYWORDS--------------\n",
      "[(0, [('be', 0.12422212137430366), ('size', 0.1242221213743032), ('file', 0.12422212137430302), ('version', 0.124222121374303), ('use', 0.12422212137430291), ('log', 0.12422212137430289), ('initialize', 0.12422212137430289), ('set', 0.12422212137430286), ('create', 0.1242221213743028), ('data', 0.1242221213743028), ('start', 0.12422212137430277), ('detect', 0.11472950152155058), ('enable', 0.11472950152155056), ('path', 0.11472950152155033), ('configuration', 0.1147295015215503), ('cache', 0.11472950152155004), ('port', 0.10777014322156143), ('connection', 0.10777014322156139), ('database', 0.10777014322156139), ('see', 0.10777014322156134)])]\n",
      "\n",
      "-----------TOPIC - DOCUMENT--------------\n",
      "[([(0, 6.893654449367826)], 'db_user-db.log'), ([(0, 7.278385684491934)], 'db_orders-db.log'), ([(0, 7.392327357589052)], 'db_carts-db.log'), ([(0, 3.2437602080675303)], 'db_mariadb.log'), ([(0, 5.621869716017838)], 'db_elasticsearch.log'), ([(0, 12.018428891019889)], 'db_mongo.log')]\n"
     ]
    }
   ],
   "source": [
    "ranking, keywords = lsi_jaccard_ranker(requested_file, same_class)"
   ]
  },
  {
   "cell_type": "code",
   "execution_count": 200,
   "id": "1b400a57",
   "metadata": {},
   "outputs": [
    {
     "data": {
      "text/plain": [
       "[('db_mariadb.log', 0.37524855405286656),\n",
       " ('db_user-db.log', 0.18672433657119827),\n",
       " ('db_orders-db.log', 0.18672433657119827),\n",
       " ('db_carts-db.log', 0.18522543765880176),\n",
       " ('db_mongo.log', 0.1583790879329611),\n",
       " ('db_elasticsearch.log', 0.14528781202810165)]"
      ]
     },
     "execution_count": 200,
     "metadata": {},
     "output_type": "execute_result"
    }
   ],
   "source": [
    "ranking"
   ]
  },
  {
   "cell_type": "markdown",
   "id": "08250747",
   "metadata": {},
   "source": [
    "### T3.5 - Naive Bayes Classifier + TF-IDF Cosine Similarity"
   ]
  },
  {
   "cell_type": "code",
   "execution_count": 201,
   "id": "01d24cc6",
   "metadata": {
    "scrolled": true
   },
   "outputs": [
    {
     "data": {
      "text/plain": [
       "[('db_mariadb.log', 0.5218730387198609),\n",
       " ('db_user-db.log', 0.036797053583060166),\n",
       " ('db_orders-db.log', 0.03364966795003639),\n",
       " ('db_carts-db.log', 0.03352977315487424),\n",
       " ('db_elasticsearch.log', 0.01987999438417126),\n",
       " ('db_mongo.log', 0.018741134554524794)]"
      ]
     },
     "execution_count": 201,
     "metadata": {},
     "output_type": "execute_result"
    }
   ],
   "source": [
    "tfidf_ranker(requested_file, same_class)"
   ]
  },
  {
   "cell_type": "markdown",
   "id": "ed844794",
   "metadata": {},
   "source": [
    "### T3.6 - Naive Bayes Classifier + GloVe Cosine Similarity"
   ]
  },
  {
   "cell_type": "code",
   "execution_count": 202,
   "id": "c8ef2dac",
   "metadata": {},
   "outputs": [
    {
     "name": "stdout",
     "output_type": "stream",
     "text": [
      "mkdir -p build\n",
      "\n",
      "$ build/vocab_count -min-count 1 -verbose 2 < corpus.txt > vocab.txt\n",
      "$ build/cooccur -memory 4.0 -vocab-file vocab.txt -verbose 2 -window-size 15 < corpus.txt > cooccurrence.bin\n",
      "$ build/shuffle -memory 4.0 -verbose 2 < cooccurrence.bin > cooccurrence.shuf.bin\n",
      "$ build/glove -save-file vectors -threads 8 -input-file cooccurrence.shuf.bin -x-max 10 -iter 15 -vector-size 50 -binary 2 -vocab-file vocab.txt -verbose 2\n"
     ]
    },
    {
     "name": "stderr",
     "output_type": "stream",
     "text": [
      "BUILDING VOCABULARY\n",
      "Processed 0 tokens.\u001b[0GProcessed 3621 tokens.\n",
      "Counted 740 unique words.\n",
      "Using vocabulary of size 740.\n",
      "\n",
      "COUNTING COOCCURRENCES\n",
      "window size: 15\n",
      "context: symmetric\n",
      "max product: 13752509\n",
      "overflow length: 38028356\n",
      "Reading vocab from file \"vocab.txt\"...loaded 740 words.\n",
      "Building lookup table...table contains 547601 elements.\n",
      "Processing token: 0\u001b[0GProcessed 3621 tokens.\n",
      "Writing cooccurrences to disk.....2 files in total.\n",
      "Merging cooccurrence files: processed 0 lines.\u001b[39G0 lines.\u001b[0GMerging cooccurrence files: processed 34004 lines.\n",
      "\n",
      "Using random seed 1632255385\n",
      "SHUFFLING COOCCURRENCES\n",
      "array size: 255013683\n",
      "Shuffling by chunks: processed 0 lines.\u001b[22Gprocessed 34004 lines.\n",
      "Wrote 1 temporary file(s).\n",
      "Merging temp files: processed 0 lines.\u001b[31G34004 lines.\u001b[0GMerging temp files: processed 34004 lines.\n",
      "\n",
      "TRAINING MODEL\n",
      "Read 34004 lines.\n",
      "Initializing parameters...Using random seed 1632255385\n",
      "done.\n",
      "vector size: 50\n",
      "vocab size: 740\n",
      "x_max: 10.000000\n",
      "alpha: 0.750000\n",
      "09/21/21 - 10:16.25PM, iter: 001, cost: 0.082258\n",
      "09/21/21 - 10:16.25PM, iter: 002, cost: 0.068440\n",
      "09/21/21 - 10:16.25PM, iter: 003, cost: 0.066509\n",
      "09/21/21 - 10:16.25PM, iter: 004, cost: 0.065418\n",
      "09/21/21 - 10:16.25PM, iter: 005, cost: 0.064457\n",
      "09/21/21 - 10:16.25PM, iter: 006, cost: 0.063428\n",
      "09/21/21 - 10:16.25PM, iter: 007, cost: 0.061624\n",
      "09/21/21 - 10:16.25PM, iter: 008, cost: 0.059068\n",
      "09/21/21 - 10:16.25PM, iter: 009, cost: 0.056701\n",
      "09/21/21 - 10:16.25PM, iter: 010, cost: 0.054716\n",
      "09/21/21 - 10:16.25PM, iter: 011, cost: 0.052965\n",
      "09/21/21 - 10:16.25PM, iter: 012, cost: 0.051509\n",
      "09/21/21 - 10:16.25PM, iter: 013, cost: 0.050070\n",
      "09/21/21 - 10:16.25PM, iter: 014, cost: 0.048664\n"
     ]
    },
    {
     "name": "stdout",
     "output_type": "stream",
     "text": [
      "Loading Glove Model\n",
      "Done. 741  words loaded!\n"
     ]
    },
    {
     "name": "stderr",
     "output_type": "stream",
     "text": [
      "09/21/21 - 10:16.25PM, iter: 015, cost: 0.047252\n"
     ]
    }
   ],
   "source": [
    "ranking = glove_ranker(requested_file, same_class)"
   ]
  },
  {
   "cell_type": "code",
   "execution_count": 203,
   "id": "afa5d220",
   "metadata": {
    "scrolled": true
   },
   "outputs": [
    {
     "data": {
      "text/plain": [
       "[('db_mariadb.log', 0.9922741758085369),\n",
       " ('db_elasticsearch.log', 0.3712470969894581),\n",
       " ('db_orders-db.log', 0.2948835376851642),\n",
       " ('db_carts-db.log', 0.29225091206774945),\n",
       " ('db_user-db.log', 0.2643455147488547),\n",
       " ('db_mongo.log', 0.18386465149130715)]"
      ]
     },
     "execution_count": 203,
     "metadata": {},
     "output_type": "execute_result"
    }
   ],
   "source": [
    "ranking"
   ]
  },
  {
   "cell_type": "markdown",
   "id": "961d6340",
   "metadata": {},
   "source": [
    "### T3.47 - Decision Tree Classifier + LSI-based Jaccard Similarity"
   ]
  },
  {
   "cell_type": "code",
   "execution_count": 204,
   "id": "d8767260",
   "metadata": {},
   "outputs": [
    {
     "name": "stdout",
     "output_type": "stream",
     "text": [
      "DecisionTreeClassifier\n",
      "              precision    recall  f1-score   support\n",
      "\n",
      "     backend       1.00      1.00      1.00         1\n",
      "  deployment       1.00      1.00      1.00         4\n",
      "\n",
      "    accuracy                           1.00         5\n",
      "   macro avg       1.00      1.00      1.00         5\n",
      "weighted avg       1.00      1.00      1.00         5\n",
      "\n",
      "Accuracy: 1.0\n"
     ]
    },
    {
     "data": {
      "image/png": "[encoded data removed]",
      "text/plain": [
       "<Figure size 432x288 with 2 Axes>"
      ]
     },
     "metadata": {
      "needs_background": "light"
     },
     "output_type": "display_data"
    }
   ],
   "source": [
    "model, test_result = classify(old_logs, tree.DecisionTreeClassifier(max_depth=10), 42)\n",
    "prediction = model.predict(request['data'])[0]"
   ]
  },
  {
   "cell_type": "code",
   "execution_count": 205,
   "id": "03e0ab69",
   "metadata": {},
   "outputs": [
    {
     "data": {
      "text/plain": [
       "'frontend'"
      ]
     },
     "execution_count": 205,
     "metadata": {},
     "output_type": "execute_result"
    }
   ],
   "source": [
    "prediction"
   ]
  },
  {
   "cell_type": "code",
   "execution_count": 206,
   "id": "fd6eb612",
   "metadata": {},
   "outputs": [],
   "source": [
    "same_class = df.loc[df['type'] == prediction][df['filename'] != requested_filename]"
   ]
  },
  {
   "cell_type": "code",
   "execution_count": 207,
   "id": "62dee72b",
   "metadata": {},
   "outputs": [
    {
     "data": {
      "text/html": [
       "<div>\n",
       "<style scoped>\n",
       "    .dataframe tbody tr th:only-of-type {\n",
       "        vertical-align: middle;\n",
       "    }\n",
       "\n",
       "    .dataframe tbody tr th {\n",
       "        vertical-align: top;\n",
       "    }\n",
       "\n",
       "    .dataframe thead th {\n",
       "        text-align: right;\n",
       "    }\n",
       "</style>\n",
       "<table border=\"1\" class=\"dataframe\">\n",
       "  <thead>\n",
       "    <tr style=\"text-align: right;\">\n",
       "      <th></th>\n",
       "      <th>filename</th>\n",
       "      <th>data</th>\n",
       "      <th>#words</th>\n",
       "      <th>#lines</th>\n",
       "      <th>size (bytes)</th>\n",
       "      <th>type</th>\n",
       "      <th>LSI k topics</th>\n",
       "      <th>LSI k+1 topics</th>\n",
       "    </tr>\n",
       "  </thead>\n",
       "  <tbody>\n",
       "    <tr>\n",
       "      <th>7</th>\n",
       "      <td>frontend_kibana.log</td>\n",
       "      <td>[type, log, timestamp, tags, info, plugins, se...</td>\n",
       "      <td>392</td>\n",
       "      <td>16</td>\n",
       "      <td>4660</td>\n",
       "      <td>frontend</td>\n",
       "      <td>0</td>\n",
       "      <td>4</td>\n",
       "    </tr>\n",
       "    <tr>\n",
       "      <th>8</th>\n",
       "      <td>frontend_horizon.log</td>\n",
       "      <td>[wed, jun, wsgi, error, pid, tid, usr, lib, py...</td>\n",
       "      <td>437</td>\n",
       "      <td>20</td>\n",
       "      <td>4197</td>\n",
       "      <td>frontend</td>\n",
       "      <td>0</td>\n",
       "      <td>4</td>\n",
       "    </tr>\n",
       "    <tr>\n",
       "      <th>12</th>\n",
       "      <td>frontend_kibana-simple.log</td>\n",
       "      <td>[type, log, timestamp, tags, info, plugins, se...</td>\n",
       "      <td>577</td>\n",
       "      <td>22</td>\n",
       "      <td>5832</td>\n",
       "      <td>frontend</td>\n",
       "      <td>1</td>\n",
       "      <td>4</td>\n",
       "    </tr>\n",
       "  </tbody>\n",
       "</table>\n",
       "</div>"
      ],
      "text/plain": [
       "                      filename  \\\n",
       "7          frontend_kibana.log   \n",
       "8         frontend_horizon.log   \n",
       "12  frontend_kibana-simple.log   \n",
       "\n",
       "                                                 data  #words  #lines  \\\n",
       "7   [type, log, timestamp, tags, info, plugins, se...     392      16   \n",
       "8   [wed, jun, wsgi, error, pid, tid, usr, lib, py...     437      20   \n",
       "12  [type, log, timestamp, tags, info, plugins, se...     577      22   \n",
       "\n",
       "    size (bytes)      type  LSI k topics  LSI k+1 topics  \n",
       "7           4660  frontend             0               4  \n",
       "8           4197  frontend             0               4  \n",
       "12          5832  frontend             1               4  "
      ]
     },
     "execution_count": 207,
     "metadata": {},
     "output_type": "execute_result"
    }
   ],
   "source": [
    "same_class"
   ]
  },
  {
   "cell_type": "code",
   "execution_count": 208,
   "id": "af526a70",
   "metadata": {},
   "outputs": [
    {
     "name": "stdout",
     "output_type": "stream",
     "text": [
      "-----------TOPIC - KEYWORDS--------------\n",
      "[(0, [('set', 0.10564561908324527), ('type', 0.10564561908324521), ('be', 0.10564561908324521), ('use', 0.10564561908324521), ('elasticsearch', 0.09997358238336482), ('savedobjects', 0.09997358238336478), ('vistypetimeseries', 0.09997358238336476), ('start', 0.09997358238336476), ('management', 0.09997358238336475), ('plugin', 0.09997358238336473), ('kibana', 0.09997358238336473), ('vistypexy', 0.09997358238336473), ('timestamp', 0.09997358238336473), ('visualization', 0.09997358238336473), ('system', 0.09997358238336473), ('inputcontrolvis', 0.09997358238336473), ('telemetrycollectionmanager', 0.09997358238336472), ('share', 0.09997358238336472), ('timelion', 0.09997358238336472), ('vistypetimelion', 0.09997358238336472)])]\n",
      "\n",
      "-----------TOPIC - DOCUMENT--------------\n",
      "[([(0, 5.997324850429008)], 'frontend_kibana.log'), ([(0, 1.0170859208091625)], 'frontend_horizon.log'), ([(0, 11.929520209849825)], 'frontend_kibana-simple.log')]\n"
     ]
    }
   ],
   "source": [
    "ranking, keywords = lsi_jaccard_ranker(requested_file, same_class)"
   ]
  },
  {
   "cell_type": "code",
   "execution_count": 209,
   "id": "bec4b80b",
   "metadata": {},
   "outputs": [
    {
     "data": {
      "text/plain": [
       "[('frontend_kibana-simple.log', 0.11066295377092218),\n",
       " ('frontend_kibana.log', 0.0942202834628266),\n",
       " ('frontend_horizon.log', 0.053711413670753216)]"
      ]
     },
     "execution_count": 209,
     "metadata": {},
     "output_type": "execute_result"
    }
   ],
   "source": [
    "ranking"
   ]
  },
  {
   "cell_type": "markdown",
   "id": "4f797ed6",
   "metadata": {},
   "source": [
    "### T3.8 - Decision Tree Classifier + TF-IDF Cosine Similarity"
   ]
  },
  {
   "cell_type": "code",
   "execution_count": 210,
   "id": "59646253",
   "metadata": {},
   "outputs": [
    {
     "data": {
      "text/plain": [
       "[('frontend_kibana-simple.log', 0.04910396421057969),\n",
       " ('frontend_horizon.log', 0.027875215855510886),\n",
       " ('frontend_kibana.log', 0.024302204003829854)]"
      ]
     },
     "execution_count": 210,
     "metadata": {},
     "output_type": "execute_result"
    }
   ],
   "source": [
    "tfidf_ranker(requested_file, same_class)"
   ]
  },
  {
   "cell_type": "markdown",
   "id": "e1bc3f12",
   "metadata": {},
   "source": [
    "### T3.9 - Decision Tree Classifier + GloVe Cosine Similarity"
   ]
  },
  {
   "cell_type": "code",
   "execution_count": 211,
   "id": "3052d08e",
   "metadata": {},
   "outputs": [
    {
     "name": "stdout",
     "output_type": "stream",
     "text": [
      "mkdir -p build\n",
      "\n",
      "$ build/vocab_count -min-count 1 -verbose 2 < corpus.txt > vocab.txt\n",
      "$ build/cooccur -memory 4.0 -vocab-file vocab.txt -verbose 2 -window-size 15 < corpus.txt > cooccurrence.bin\n",
      "$ build/shuffle -memory 4.0 -verbose 2 < cooccurrence.bin > cooccurrence.shuf.bin\n",
      "$ build/glove -save-file vectors -threads 8 -input-file cooccurrence.shuf.bin -x-max 10 -iter 15 -vector-size 50 -binary 2 -vocab-file vocab.txt -verbose 2\n",
      "Loading Glove Model\n",
      "Done. 534  words loaded!\n"
     ]
    },
    {
     "name": "stderr",
     "output_type": "stream",
     "text": [
      "BUILDING VOCABULARY\n",
      "Processed 0 tokens.\u001b[0GProcessed 2290 tokens.\n",
      "Counted 533 unique words.\n",
      "Using vocabulary of size 533.\n",
      "\n",
      "COUNTING COOCCURRENCES\n",
      "window size: 15\n",
      "context: symmetric\n",
      "max product: 13752509\n",
      "overflow length: 38028356\n",
      "Reading vocab from file \"vocab.txt\"...loaded 533 words.\n",
      "Building lookup table...table contains 284090 elements.\n",
      "Processing token: 0\u001b[0GProcessed 2290 tokens.\n",
      "Writing cooccurrences to disk.....2 files in total.\n",
      "Merging cooccurrence files: processed 0 lines.\u001b[39G0 lines.\u001b[0GMerging cooccurrence files: processed 23400 lines.\n",
      "\n",
      "Using random seed 1632255386\n",
      "SHUFFLING COOCCURRENCES\n",
      "array size: 255013683\n",
      "Shuffling by chunks: processed 0 lines.\u001b[22Gprocessed 23400 lines.\n",
      "Wrote 1 temporary file(s).\n",
      "Merging temp files: processed 0 lines.\u001b[31G23400 lines.\u001b[0GMerging temp files: processed 23400 lines.\n",
      "\n",
      "TRAINING MODEL\n",
      "Read 23400 lines.\n",
      "Initializing parameters...Using random seed 1632255386\n",
      "done.\n",
      "vector size: 50\n",
      "vocab size: 533\n",
      "x_max: 10.000000\n",
      "alpha: 0.750000\n",
      "09/21/21 - 10:16.26PM, iter: 001, cost: 0.079352\n",
      "09/21/21 - 10:16.26PM, iter: 002, cost: 0.065643\n",
      "09/21/21 - 10:16.26PM, iter: 003, cost: 0.063692\n",
      "09/21/21 - 10:16.26PM, iter: 004, cost: 0.062611\n",
      "09/21/21 - 10:16.26PM, iter: 005, cost: 0.061714\n",
      "09/21/21 - 10:16.26PM, iter: 006, cost: 0.060982\n",
      "09/21/21 - 10:16.26PM, iter: 007, cost: 0.060087\n",
      "09/21/21 - 10:16.26PM, iter: 008, cost: 0.058578\n",
      "09/21/21 - 10:16.26PM, iter: 009, cost: 0.055969\n",
      "09/21/21 - 10:16.26PM, iter: 010, cost: 0.052411\n",
      "09/21/21 - 10:16.26PM, iter: 011, cost: 0.049159\n",
      "09/21/21 - 10:16.26PM, iter: 012, cost: 0.046691\n",
      "09/21/21 - 10:16.26PM, iter: 013, cost: 0.044683\n",
      "09/21/21 - 10:16.26PM, iter: 014, cost: 0.043028\n",
      "09/21/21 - 10:16.26PM, iter: 015, cost: 0.041531\n"
     ]
    }
   ],
   "source": [
    "ranking = glove_ranker(requested_file, same_class)"
   ]
  },
  {
   "cell_type": "code",
   "execution_count": 212,
   "id": "d0c2e022",
   "metadata": {},
   "outputs": [
    {
     "data": {
      "text/plain": [
       "[('frontend_horizon.log', 0.5507961320461574),\n",
       " ('frontend_kibana-simple.log', 0.11211885798673316),\n",
       " ('frontend_kibana.log', 0.08381677361856621)]"
      ]
     },
     "execution_count": 212,
     "metadata": {},
     "output_type": "execute_result"
    }
   ],
   "source": [
    "ranking"
   ]
  }
 ],
 "metadata": {
  "kernelspec": {
   "display_name": "Python 3 (ipykernel)",
   "language": "python",
   "name": "python3"
  },
  "language_info": {
   "codemirror_mode": {
    "name": "ipython",
    "version": 3
   },
   "file_extension": ".py",
   "mimetype": "text/x-python",
   "name": "python",
   "nbconvert_exporter": "python",
   "pygments_lexer": "ipython3",
   "version": "3.8.10"
  }
 },
 "nbformat": 4,
 "nbformat_minor": 5
}
